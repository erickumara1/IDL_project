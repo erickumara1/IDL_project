{
  "nbformat": 4,
  "nbformat_minor": 0,
  "metadata": {
    "colab": {
      "provenance": [],
      "gpuType": "T4"
    },
    "kernelspec": {
      "name": "python3",
      "display_name": "Python 3"
    },
    "language_info": {
      "name": "python"
    },
    "accelerator": "GPU"
  },
  "cells": [
    {
      "cell_type": "code",
      "execution_count": null,
      "metadata": {
        "colab": {
          "base_uri": "https://localhost:8080/",
          "height": 610
        },
        "id": "fiJB5X7CI2xt",
        "outputId": "940a99d9-5b1d-420c-d8c6-b2b6ffe7137b"
      },
      "outputs": [
        {
          "output_type": "stream",
          "name": "stdout",
          "text": [
            "Mounted at /content/drive\n",
            "Requirement already satisfied: transformers in /usr/local/lib/python3.12/dist-packages (4.57.1)\n",
            "Requirement already satisfied: datasets in /usr/local/lib/python3.12/dist-packages (4.0.0)\n",
            "Requirement already satisfied: tokenizers in /usr/local/lib/python3.12/dist-packages (0.22.1)\n",
            "Requirement already satisfied: pandas in /usr/local/lib/python3.12/dist-packages (2.2.2)\n",
            "\u001b[31mERROR: Could not find a version that satisfies the requirement email-parser (from versions: none)\u001b[0m\u001b[31m\n",
            "\u001b[0m\u001b[31mERROR: No matching distribution found for email-parser\u001b[0m\u001b[31m\n",
            "\u001b[0m--2025-10-21 00:30:16--  https://www.cs.cmu.edu/~./enron/enron_mail_20150507.tar.gz\n",
            "Resolving www.cs.cmu.edu (www.cs.cmu.edu)... 128.2.42.95\n",
            "Connecting to www.cs.cmu.edu (www.cs.cmu.edu)|128.2.42.95|:443... connected.\n",
            "HTTP request sent, awaiting response... 302 Found\n",
            "Location: https://www.cs.cmu.edu/~enron/enron_mail_20150507.tar.gz [following]\n",
            "--2025-10-21 00:30:17--  https://www.cs.cmu.edu/~enron/enron_mail_20150507.tar.gz\n",
            "Reusing existing connection to www.cs.cmu.edu:443.\n",
            "HTTP request sent, awaiting response... 200 OK\n",
            "Length: 443254787 (423M) [application/x-gzip]\n",
            "Saving to: ‘enron_mail_20150507.tar.gz’\n",
            "\n",
            "enron_mail_20150507 100%[===================>] 422.72M  2.13MB/s    in 3m 33s  \n",
            "\n",
            "2025-10-21 00:33:50 (1.98 MB/s) - ‘enron_mail_20150507.tar.gz’ saved [443254787/443254787]\n",
            "\n",
            "Processing Enron emails...\n"
          ]
        },
        {
          "output_type": "error",
          "ename": "FileNotFoundError",
          "evalue": "[Errno 2] No such file or directory: './enron_mail_20150507/maildir/'",
          "traceback": [
            "\u001b[0;31m---------------------------------------------------------------------------\u001b[0m",
            "\u001b[0;31mFileNotFoundError\u001b[0m                         Traceback (most recent call last)",
            "\u001b[0;32m/tmp/ipython-input-2981134579.py\u001b[0m in \u001b[0;36m<cell line: 0>\u001b[0;34m()\u001b[0m\n\u001b[1;32m     83\u001b[0m \u001b[0;34m\u001b[0m\u001b[0m\n\u001b[1;32m     84\u001b[0m \u001b[0;31m# Limit to a sample to avoid processing too many emails\u001b[0m\u001b[0;34m\u001b[0m\u001b[0;34m\u001b[0m\u001b[0m\n\u001b[0;32m---> 85\u001b[0;31m \u001b[0musers\u001b[0m \u001b[0;34m=\u001b[0m \u001b[0mos\u001b[0m\u001b[0;34m.\u001b[0m\u001b[0mlistdir\u001b[0m\u001b[0;34m(\u001b[0m\u001b[0menron_dir\u001b[0m\u001b[0;34m)\u001b[0m\u001b[0;34m[\u001b[0m\u001b[0;34m:\u001b[0m\u001b[0;36m30\u001b[0m\u001b[0;34m]\u001b[0m  \u001b[0;31m# Take first 30 users\u001b[0m\u001b[0;34m\u001b[0m\u001b[0;34m\u001b[0m\u001b[0m\n\u001b[0m\u001b[1;32m     86\u001b[0m \u001b[0;34m\u001b[0m\u001b[0m\n\u001b[1;32m     87\u001b[0m \u001b[0;32mfor\u001b[0m \u001b[0muser\u001b[0m \u001b[0;32min\u001b[0m \u001b[0musers\u001b[0m\u001b[0;34m:\u001b[0m\u001b[0;34m\u001b[0m\u001b[0;34m\u001b[0m\u001b[0m\n",
            "\u001b[0;31mFileNotFoundError\u001b[0m: [Errno 2] No such file or directory: './enron_mail_20150507/maildir/'"
          ]
        }
      ],
      "source": [
        "# Cell 1: Mount Google Drive and set up directories\n",
        "from google.colab import drive\n",
        "drive.mount('/content/drive')\n",
        "\n",
        "# Create directories in Drive\n",
        "!mkdir -p /content/drive/MyDrive/email_bert\n",
        "!mkdir -p /content/drive/MyDrive/email_bert/datasets\n",
        "!mkdir -p /content/drive/MyDrive/email_bert/data\n",
        "!mkdir -p /content/drive/MyDrive/email_bert/tokenizer\n",
        "!mkdir -p /content/drive/MyDrive/email_bert/checkpoints\n",
        "\n",
        "# Install required packages\n",
        "!pip install transformers datasets tokenizers pandas email-parser\n",
        "\n",
        "# Download Enron Email Dataset (smaller subset for pre-training)\n",
        "!wget https://www.cs.cmu.edu/~./enron/enron_mail_20150507.tar.gz\n"
      ]
    },
    {
      "cell_type": "code",
      "source": [
        "# First, ensure drive is mounted\n",
        "from google.colab import drive\n",
        "drive.mount('/content/drive')\n",
        "\n",
        "# Create the destination directory\n",
        "!mkdir -p /content/drive/MyDrive/email_bert/datasets/\n",
        "\n",
        "# Download directly to Drive\n",
        "!wget -O /content/drive/MyDrive/email_bert/datasets/enron_mail_20150507.tar.gz https://www.cs.cmu.edu/~./enron/enron_mail_20150507.tar.gz\n",
        "\n",
        "# Change to the Drive directory\n",
        "%cd /content/drive/MyDrive/email_bert/datasets/\n",
        "\n",
        "# Extract the archive directly in Drive\n",
        "!tar -xzf enron_mail_20150507.tar.gz\n",
        "\n",
        "# Update the path in your code\n",
        "enron_dir = '/content/drive/MyDrive/email_bert/datasets/maildir/'"
      ],
      "metadata": {
        "colab": {
          "base_uri": "https://localhost:8080/"
        },
        "id": "0JbJxm6ZNvRG",
        "outputId": "66f16429-2498-41fa-900e-53170925d291"
      },
      "execution_count": null,
      "outputs": [
        {
          "output_type": "stream",
          "name": "stdout",
          "text": [
            "Drive already mounted at /content/drive; to attempt to forcibly remount, call drive.mount(\"/content/drive\", force_remount=True).\n",
            "--2025-10-21 00:49:57--  https://www.cs.cmu.edu/~./enron/enron_mail_20150507.tar.gz\n",
            "Resolving www.cs.cmu.edu (www.cs.cmu.edu)... 128.2.42.95\n",
            "Connecting to www.cs.cmu.edu (www.cs.cmu.edu)|128.2.42.95|:443... connected.\n",
            "HTTP request sent, awaiting response... 302 Found\n",
            "Location: https://www.cs.cmu.edu/~enron/enron_mail_20150507.tar.gz [following]\n",
            "--2025-10-21 00:49:57--  https://www.cs.cmu.edu/~enron/enron_mail_20150507.tar.gz\n",
            "Reusing existing connection to www.cs.cmu.edu:443.\n",
            "HTTP request sent, awaiting response... 200 OK\n",
            "Length: 443254787 (423M) [application/x-gzip]\n",
            "Saving to: ‘/content/drive/MyDrive/email_bert/datasets/enron_mail_20150507.tar.gz’\n",
            "\n",
            "/content/drive/MyDr 100%[===================>] 422.72M  1.08MB/s    in 4m 16s  \n",
            "\n",
            "2025-10-21 00:54:13 (1.65 MB/s) - ‘/content/drive/MyDrive/email_bert/datasets/enron_mail_20150507.tar.gz’ saved [443254787/443254787]\n",
            "\n",
            "/content/drive/MyDrive/email_bert/datasets\n",
            "^C\n"
          ]
        }
      ]
    },
    {
      "cell_type": "code",
      "source": [
        "# Extract the archive to the local Colab VM storage first\n",
        "!tar -xzf /content/drive/MyDrive/email_bert/datasets/enron_mail_20150507.tar.gz -C /content/\n",
        "\n",
        "# Then we'll work with the locally extracted files\n",
        "\n",
        "\n",
        "# Now we can continue with the email processing\n",
        "# Change your code to use this path"
      ],
      "metadata": {
        "id": "pgqWohFGSYNG"
      },
      "execution_count": 9,
      "outputs": []
    },
    {
      "cell_type": "code",
      "source": [
        "\n",
        "# Extract the downloaded tarball\n",
        "enron_dir = '/content/maildir/'\n",
        "\n",
        "# Data processing: Process email data instead of movie dialogues\n",
        "import os\n",
        "import email\n",
        "import pandas as pd\n",
        "from pathlib import Path\n",
        "import torch\n",
        "import re\n",
        "import random\n",
        "import transformers, datasets\n",
        "from tokenizers import BertWordPieceTokenizer\n",
        "from transformers import BertTokenizer\n",
        "import tqdm\n",
        "from torch.utils.data import Dataset, DataLoader\n",
        "import itertools\n",
        "import math\n",
        "import torch.nn.functional as F\n",
        "import numpy as np\n",
        "from torch.optim import Adam\n",
        "from email.parser import Parser\n",
        "import json\n",
        "\n",
        "def extract_email_content(email_path):\n",
        "    \"\"\"Extract content from an email file\"\"\"\n",
        "    try:\n",
        "        with open(email_path, 'r', encoding='latin1') as f:\n",
        "            content = f.read()\n",
        "\n",
        "        # Parse email content\n",
        "        msg = email.message_from_string(content)\n",
        "\n",
        "        # Get subject and body\n",
        "        subject = msg.get('Subject', '')\n",
        "\n",
        "        body = \"\"\n",
        "        if msg.is_multipart():\n",
        "            for part in msg.walk():\n",
        "                ctype = part.get_content_type()\n",
        "                cdispo = str(part.get('Content-Disposition'))\n",
        "\n",
        "                # Skip attachments\n",
        "                if ctype == 'text/plain' and 'attachment' not in cdispo:\n",
        "                    part_body = part.get_payload(decode=True)\n",
        "                    if part_body:\n",
        "                        body = part_body.decode('latin1', errors='ignore')\n",
        "                    break\n",
        "        else:\n",
        "            part_body = msg.get_payload(decode=True)\n",
        "            if part_body:\n",
        "                body = part_body.decode('latin1', errors='ignore')\n",
        "\n",
        "        # Clean text - remove excessive whitespace\n",
        "        body = re.sub(r'\\s+', ' ', body).strip() if body else \"\"\n",
        "        subject = re.sub(r'\\s+', ' ', subject).strip()\n",
        "\n",
        "        return subject, body\n",
        "    except Exception as e:\n",
        "        return \"\", \"\"\n",
        "\n",
        "# Process Enron emails\n",
        "print(\"Processing Enron emails...\")\n",
        "MAX_LEN = 64\n",
        "#enron_dir = '/content/drive/MyDrive/email_bert/datasets/enron_mail_20150507/maildir/'\n",
        "email_pairs = []\n",
        "\n",
        "# Limit to a sample to avoid processing too many emails\n",
        "users = os.listdir(enron_dir)[:30]  # Take first 30 users\n",
        "\n",
        "for user in users:\n",
        "    user_dir = os.path.join(enron_dir, user)\n",
        "    if os.path.isdir(user_dir):\n",
        "        for folder in os.listdir(user_dir)[:5]:  # Limit folders per user\n",
        "            folder_path = os.path.join(user_dir, folder)\n",
        "            if os.path.isdir(folder_path):\n",
        "                for file in os.listdir(folder_path)[:50]:  # Limit files per folder\n",
        "                    file_path = os.path.join(folder_path, file)\n",
        "                    if os.path.isfile(file_path):\n",
        "                        subject, body = extract_email_content(file_path)\n",
        "\n",
        "                        # Skip empty emails\n",
        "                        if not body:\n",
        "                            continue\n",
        "\n",
        "                        # Create sentence pairs for NSP\n",
        "                        # 1. Split email body into paragraphs\n",
        "                        paragraphs = body.split('\\n')\n",
        "                        paragraphs = [p.strip() for p in paragraphs if p.strip()]\n",
        "\n",
        "                        if len(paragraphs) < 2:\n",
        "                            # If no clear paragraphs, split by sentences\n",
        "                            sentences = re.split(r'[.!?]+', body)\n",
        "                            sentences = [s.strip() for s in sentences if len(s.strip()) > 20]\n",
        "\n",
        "                            if len(sentences) >= 2:\n",
        "                                # Create pairs from consecutive sentences\n",
        "                                for i in range(len(sentences) - 1):\n",
        "                                    # Positive example: consecutive sentences\n",
        "                                    first = sentences[i]\n",
        "                                    second = sentences[i + 1]\n",
        "\n",
        "                                    if len(first.split()) > 3 and len(second.split()) > 3:\n",
        "                                        email_pairs.append([\n",
        "                                            ' '.join(first.split()[:MAX_LEN]),\n",
        "                                            ' '.join(second.split()[:MAX_LEN])\n",
        "                                        ])\n",
        "                        else:\n",
        "                            # Create pairs from paragraphs\n",
        "                            for i in range(len(paragraphs) - 1):\n",
        "                                # Positive example: consecutive paragraphs\n",
        "                                first = paragraphs[i]\n",
        "                                second = paragraphs[i + 1]\n",
        "\n",
        "                                if len(first.split()) > 3 and len(second.split()) > 3:\n",
        "                                    email_pairs.append([\n",
        "                                        ' '.join(first.split()[:MAX_LEN]),\n",
        "                                        ' '.join(second.split()[:MAX_LEN])\n",
        "                                    ])\n",
        "\n",
        "print(f\"Created {len(email_pairs)} email pairs\")\n",
        "# Sample one pair to verify\n",
        "print(\"Sample pair:\", email_pairs[20] if len(email_pairs) > 20 else email_pairs[0])\n",
        "\n",
        "# Save pairs to Drive for reuse\n",
        "import pickle\n",
        "with open('/content/drive/MyDrive/email_bert/datasets/email_pairs.pkl', 'wb') as f:\n",
        "    pickle.dump(email_pairs, f)\n",
        "\n",
        "# Save data as txt file for tokenizer training\n",
        "text_data = []\n",
        "file_count = 0\n",
        "\n",
        "for sample in tqdm.tqdm([x[0] for x in email_pairs] + [x[1] for x in email_pairs]):\n",
        "    text_data.append(sample)\n",
        "\n",
        "    # Save to file once we hit the 10K mark\n",
        "    if len(text_data) == 10000:\n",
        "        with open(f'/content/drive/MyDrive/email_bert/data/text_{file_count}.txt', 'w', encoding='utf-8') as fp:\n",
        "            fp.write('\\n'.join(text_data))\n",
        "        text_data = []\n",
        "        file_count += 1\n",
        "\n",
        "# Save remaining data\n",
        "if text_data:\n",
        "    with open(f'/content/drive/MyDrive/email_bert/data/text_{file_count}.txt', 'w', encoding='utf-8') as fp:\n",
        "        fp.write('\\n'.join(text_data))\n",
        "\n",
        "paths = [str(x) for x in Path('/content/drive/MyDrive/email_bert/data').glob('**/*.txt')]\n",
        "print(f\"Created {len(paths)} text files for tokenizer training\")\n",
        "\n",
        "# Train tokenizer\n",
        "tokenizer = BertWordPieceTokenizer(\n",
        "    clean_text=True,\n",
        "    handle_chinese_chars=False,\n",
        "    strip_accents=False,\n",
        "    lowercase=True\n",
        ")\n",
        "\n",
        "tokenizer.train(\n",
        "    files=paths,\n",
        "    vocab_size=30_000,\n",
        "    min_frequency=2,\n",
        "    limit_alphabet=1000,\n",
        "    wordpieces_prefix='##',\n",
        "    special_tokens=['[PAD]', '[CLS]', '[SEP]', '[MASK]', '[UNK]']\n",
        ")\n",
        "\n",
        "# Save tokenizer to Drive\n",
        "tokenizer.save_model('/content/drive/MyDrive/email_bert/tokenizer', 'bert-email')\n",
        "tokenizer = BertTokenizer.from_pretrained('/content/drive/MyDrive/email_bert/tokenizer/bert-email-vocab.txt', local_files_only=True)\n",
        "\n",
        "# Test tokenizer\n",
        "sample_text = \"This is an email about the project deadline tomorrow.\"\n",
        "token_ids = tokenizer(sample_text)['input_ids']\n",
        "print(\"Sample tokenization:\", tokenizer.convert_ids_to_tokens(token_ids))\n",
        "\n",
        "# Modify BERTDataset for email data\n",
        "class BERTDataset(Dataset):\n",
        "    def __init__(self, data_pair, tokenizer, seq_len=64):\n",
        "        self.tokenizer = tokenizer\n",
        "        self.seq_len = seq_len\n",
        "        self.corpus_lines = len(data_pair)\n",
        "        self.lines = data_pair\n",
        "\n",
        "    def __len__(self):\n",
        "        return self.corpus_lines\n",
        "\n",
        "    def __getitem__(self, item):\n",
        "        # Step 1: get email pair, either negative or positive (for NSP)\n",
        "        t1, t2, is_next_label = self.get_sent(item)\n",
        "\n",
        "        # Step 2: replace random words with mask / random words (for MLM)\n",
        "        t1_random, t1_label = self.random_word(t1)\n",
        "        t2_random, t2_label = self.random_word(t2)\n",
        "\n",
        "        # Step 3: Add special tokens (CLS, SEP)\n",
        "        t1 = [self.tokenizer.vocab['[CLS]']] + t1_random + [self.tokenizer.vocab['[SEP]']]\n",
        "        t2 = t2_random + [self.tokenizer.vocab['[SEP]']]\n",
        "        t1_label = [self.tokenizer.vocab['[PAD]']] + t1_label + [self.tokenizer.vocab['[PAD]']]\n",
        "        t2_label = t2_label + [self.tokenizer.vocab['[PAD]']]\n",
        "\n",
        "        # Step 4: combine parts and add padding\n",
        "        segment_label = ([1 for _ in range(len(t1))] + [2 for _ in range(len(t2))])[:self.seq_len]\n",
        "        bert_input = (t1 + t2)[:self.seq_len]\n",
        "        bert_label = (t1_label + t2_label)[:self.seq_len]\n",
        "        padding = [self.tokenizer.vocab['[PAD]'] for _ in range(self.seq_len - len(bert_input))]\n",
        "        bert_input.extend(padding)\n",
        "        bert_label.extend(padding)\n",
        "        segment_label.extend(padding)\n",
        "\n",
        "        output = {\"bert_input\": bert_input,\n",
        "                 \"bert_label\": bert_label,\n",
        "                 \"segment_label\": segment_label,\n",
        "                 \"is_next\": is_next_label}\n",
        "\n",
        "        return {key: torch.tensor(value) for key, value in output.items()}\n",
        "\n",
        "    def random_word(self, sentence):\n",
        "        tokens = sentence.split()\n",
        "        output_label = []\n",
        "        output = []\n",
        "\n",
        "        # 15% of the tokens would be replaced\n",
        "        for i, token in enumerate(tokens):\n",
        "            prob = random.random()\n",
        "\n",
        "            # Remove cls and sep token\n",
        "            token_id = self.tokenizer(token)['input_ids']\n",
        "            if len(token_id) <= 2:  # Skip if only special tokens remain\n",
        "                continue\n",
        "\n",
        "            token_id = token_id[1:-1]  # Remove special tokens\n",
        "\n",
        "            # 15% chance of altering token\n",
        "            if prob < 0.15:\n",
        "                prob /= 0.15\n",
        "\n",
        "                # 80% chance change token to mask token\n",
        "                if prob < 0.8:\n",
        "                    for i in range(len(token_id)):\n",
        "                        output.append(self.tokenizer.vocab['[MASK]'])\n",
        "\n",
        "                # 10% chance change token to random token\n",
        "                elif prob < 0.9:\n",
        "                    for i in range(len(token_id)):\n",
        "                        output.append(random.randrange(len(self.tokenizer.vocab)))\n",
        "\n",
        "                # 10% chance keep token as is\n",
        "                else:\n",
        "                    output.extend(token_id)\n",
        "\n",
        "                output_label.extend(token_id)\n",
        "\n",
        "            else:\n",
        "                output.extend(token_id)\n",
        "                for i in range(len(token_id)):\n",
        "                    output_label.append(0)  # 0 means no prediction needed\n",
        "\n",
        "        # Flattening\n",
        "        output = list(itertools.chain(*[[x] if not isinstance(x, list) else x for x in output]))\n",
        "        output_label = list(itertools.chain(*[[x] if not isinstance(x, list) else x for x in output_label]))\n",
        "\n",
        "        return output, output_label\n",
        "\n",
        "    def get_sent(self, index):\n",
        "        '''return email segment pair - either positive or negative example'''\n",
        "        t1, t2 = self.get_corpus_line(index)\n",
        "\n",
        "        # 50% chance for a negative sample - use random second segment\n",
        "        if random.random() > 0.5:\n",
        "            return t1, t2, 1  # Positive example\n",
        "        else:\n",
        "            return t1, self.get_random_line(), 0  # Negative example\n",
        "\n",
        "    def get_corpus_line(self, item):\n",
        "        '''return segment pair from corpus'''\n",
        "        return self.lines[item][0], self.lines[item][1]\n",
        "\n",
        "    def get_random_line(self):\n",
        "        '''return random segment'''\n",
        "        return self.lines[random.randrange(len(self.lines))][random.choice([0, 1])]\n",
        "\n",
        "# Test dataset\n",
        "print(\"Creating BERT dataset...\")\n",
        "train_data = BERTDataset(email_pairs, seq_len=MAX_LEN, tokenizer=tokenizer)\n",
        "train_loader = DataLoader(train_data, batch_size=32, shuffle=True, pin_memory=True)\n",
        "sample_data = next(iter(train_loader))\n",
        "print('Batch Size', sample_data['bert_input'].size())\n",
        "\n",
        "# Test sample data\n",
        "sample_item = train_data[random.randrange(len(train_data))]\n",
        "print(\"Sample data item:\", {k: v.size() for k, v in sample_item.items()})\n",
        "\n",
        "# The following BERT model implementation is from the original notebook\n",
        "# Cell for embedding layers\n",
        "class PositionalEmbedding(torch.nn.Module):\n",
        "    def __init__(self, d_model, max_len=128):\n",
        "        super().__init__()\n",
        "        pe = torch.zeros(max_len, d_model).float()\n",
        "        pe.require_grad = False\n",
        "\n",
        "        for pos in range(max_len):\n",
        "            for i in range(0, d_model, 2):\n",
        "                pe[pos, i] = math.sin(pos / (10000 ** ((2 * i)/d_model)))\n",
        "                pe[pos, i + 1] = math.cos(pos / (10000 ** ((2 * (i + 1))/d_model)))\n",
        "\n",
        "        # Register as a buffer to ensure it's moved to the right device\n",
        "        self.register_buffer('pe', pe.unsqueeze(0))\n",
        "\n",
        "    def forward(self, x):\n",
        "        # Now this will automatically be on the same device as x\n",
        "        return self.pe\n",
        "        # self.register_buffer('pe', pe)\n",
        "\n",
        "\n",
        "\n",
        "class BERTEmbedding(torch.nn.Module):\n",
        "    \"\"\"\n",
        "    BERT Embedding which is consisted with under features\n",
        "        1. TokenEmbedding : normal embedding matrix\n",
        "        2. PositionalEmbedding : adding positional information using sin, cos\n",
        "        2. SegmentEmbedding : adding sentence segment info, (sent_A:1, sent_B:2)\n",
        "        sum of all these features are output of BERTEmbedding\n",
        "    \"\"\"\n",
        "\n",
        "    def __init__(self, vocab_size, embed_size, seq_len=64, dropout=0.1):\n",
        "        \"\"\"\n",
        "        :param vocab_size: total vocab size\n",
        "        :param embed_size: embedding size of token embedding\n",
        "        :param dropout: dropout rate\n",
        "        \"\"\"\n",
        "\n",
        "        super().__init__()\n",
        "        self.embed_size = embed_size\n",
        "        # (m, seq_len) --> (m, seq_len, embed_size)\n",
        "        # padding_idx is not updated during training, remains as fixed pad (0)\n",
        "        self.token = torch.nn.Embedding(vocab_size, embed_size, padding_idx=0)\n",
        "        self.segment = torch.nn.Embedding(3, embed_size, padding_idx=0)\n",
        "        self.position = PositionalEmbedding(d_model=embed_size, max_len=seq_len)\n",
        "        self.dropout = torch.nn.Dropout(p=dropout)\n",
        "\n",
        "    def forward(self, sequence, segment_label):\n",
        "    # Get positions tensor on the same device as sequence\n",
        "      positions = self.position(sequence)\n",
        "\n",
        "      # Ensure all tensors are on same device\n",
        "      x = self.token(sequence) + positions + self.segment(segment_label)\n",
        "      return self.dropout(x)\n",
        "\n",
        "# Cell for attention layers\n",
        "class MultiHeadedAttention(torch.nn.Module):\n",
        "    def __init__(self, heads, d_model, dropout=0.1):\n",
        "        super(MultiHeadedAttention, self).__init__()\n",
        "\n",
        "        assert d_model % heads == 0\n",
        "        self.d_k = d_model // heads\n",
        "        self.heads = heads\n",
        "        self.dropout = torch.nn.Dropout(dropout)\n",
        "\n",
        "        self.query = torch.nn.Linear(d_model, d_model)\n",
        "        self.key = torch.nn.Linear(d_model, d_model)\n",
        "        self.value = torch.nn.Linear(d_model, d_model)\n",
        "        self.output_linear = torch.nn.Linear(d_model, d_model)\n",
        "\n",
        "    def forward(self, query, key, value, mask):\n",
        "        \"\"\"\n",
        "        query, key, value of shape: (batch_size, max_len, d_model)\n",
        "        mask of shape: (batch_size, 1, 1, max_words)\n",
        "        \"\"\"\n",
        "        # (batch_size, max_len, d_model)\n",
        "        query = self.query(query)\n",
        "        key = self.key(key)\n",
        "        value = self.value(value)\n",
        "\n",
        "        # (batch_size, max_len, d_model) --> (batch_size, max_len, h, d_k) --> (batch_size, h, max_len, d_k)\n",
        "        query = query.view(query.shape[0], -1, self.heads, self.d_k).permute(0, 2, 1, 3)\n",
        "        key = key.view(key.shape[0], -1, self.heads, self.d_k).permute(0, 2, 1, 3)\n",
        "        value = value.view(value.shape[0], -1, self.heads, self.d_k).permute(0, 2, 1, 3)\n",
        "\n",
        "        # (batch_size, h, max_len, d_k) matmul (batch_size, h, d_k, max_len) --> (batch_size, h, max_len, max_len)\n",
        "        scores = torch.matmul(query, key.permute(0, 1, 3, 2)) / math.sqrt(query.size(-1))\n",
        "\n",
        "        # fill 0 mask with super small number so it won't affect the softmax weight\n",
        "        # (batch_size, h, max_len, max_len)\n",
        "        scores = scores.masked_fill(mask == 0, -1e9)\n",
        "\n",
        "        # (batch_size, h, max_len, max_len)\n",
        "        # softmax to put attention weight for all non-pad tokens\n",
        "        # max_len X max_len matrix of attention\n",
        "        weights = F.softmax(scores, dim=-1)\n",
        "        weights = self.dropout(weights)\n",
        "\n",
        "        # (batch_size, h, max_len, max_len) matmul (batch_size, h, max_len, d_k) --> (batch_size, h, max_len, d_k)\n",
        "        context = torch.matmul(weights, value)\n",
        "\n",
        "        # (batch_size, h, max_len, d_k) --> (batch_size, max_len, h, d_k) --> (batch_size, max_len, d_model)\n",
        "        context = context.permute(0, 2, 1, 3).contiguous().view(context.shape[0], -1, self.heads * self.d_k)\n",
        "\n",
        "        # (batch_size, max_len, d_model)\n",
        "        return self.output_linear(context)\n",
        "\n",
        "class FeedForward(torch.nn.Module):\n",
        "    \"Implements FFN equation\"\n",
        "\n",
        "    def __init__(self, d_model, middle_dim=2048, dropout=0.1):\n",
        "        super(FeedForward, self).__init__()\n",
        "\n",
        "        self.fc1 = torch.nn.Linear(d_model, middle_dim)\n",
        "        self.fc2 = torch.nn.Linear(middle_dim, d_model)\n",
        "        self.dropout = torch.nn.Dropout(dropout)\n",
        "        self.activation = torch.nn.GELU()\n",
        "\n",
        "    def forward(self, x):\n",
        "        out = self.activation(self.fc1(x))\n",
        "        out = self.fc2(self.dropout(out))\n",
        "        return out\n",
        "\n",
        "class EncoderLayer(torch.nn.Module):\n",
        "    def __init__(\n",
        "        self,\n",
        "        d_model=768,\n",
        "        heads=12,\n",
        "        feed_forward_hidden=768 * 4,\n",
        "        dropout=0.1\n",
        "        ):\n",
        "        super(EncoderLayer, self).__init__()\n",
        "        self.layernorm = torch.nn.LayerNorm(d_model)\n",
        "        self.self_multihead = MultiHeadedAttention(heads, d_model)\n",
        "        self.feed_forward = FeedForward(d_model, middle_dim=feed_forward_hidden)\n",
        "        self.dropout = torch.nn.Dropout(dropout)\n",
        "\n",
        "    def forward(self, embeddings, mask):\n",
        "        # embeddings: (batch_size, max_len, d_model)\n",
        "        # encoder mask: (batch_size, 1, 1, max_len)\n",
        "        # result: (batch_size, max_len, d_model)\n",
        "        interacted = self.dropout(self.self_multihead(embeddings, embeddings, embeddings, mask))\n",
        "        # residual layer\n",
        "        interacted = self.layernorm(interacted + embeddings)\n",
        "        # bottleneck\n",
        "        feed_forward_out = self.dropout(self.feed_forward(interacted))\n",
        "        encoded = self.layernorm(feed_forward_out + interacted)\n",
        "        return encoded\n",
        "\n",
        "# Cell for BERT model\n",
        "class BERT(torch.nn.Module):\n",
        "    \"\"\"\n",
        "    BERT model : Bidirectional Encoder Representations from Transformers.\n",
        "    \"\"\"\n",
        "\n",
        "    def __init__(self, vocab_size, d_model=768, n_layers=12, heads=12, dropout=0.1):\n",
        "        \"\"\"\n",
        "        :param vocab_size: vocab_size of total words\n",
        "        :param hidden: BERT model hidden size\n",
        "        :param n_layers: numbers of Transformer blocks(layers)\n",
        "        :param attn_heads: number of attention heads\n",
        "        :param dropout: dropout rate\n",
        "        \"\"\"\n",
        "\n",
        "        super().__init__()\n",
        "        self.d_model = d_model\n",
        "        self.n_layers = n_layers\n",
        "        self.heads = heads\n",
        "\n",
        "        # paper noted they used 4*hidden_size for ff_network_hidden_size\n",
        "        self.feed_forward_hidden = d_model * 4\n",
        "\n",
        "        # embedding for BERT, sum of positional, segment, token embeddings\n",
        "        self.embedding = BERTEmbedding(vocab_size=vocab_size, embed_size=d_model)\n",
        "\n",
        "        # multi-layers transformer blocks, deep network\n",
        "        self.encoder_blocks = torch.nn.ModuleList(\n",
        "            [EncoderLayer(d_model, heads, d_model * 4, dropout) for _ in range(n_layers)])\n",
        "\n",
        "    def forward(self, x, segment_info):\n",
        "        # attention masking for padded token\n",
        "        # (batch_size, 1, seq_len, seq_len)\n",
        "        mask = (x > 0).unsqueeze(1).repeat(1, x.size(1), 1).unsqueeze(1)\n",
        "\n",
        "        # embedding the indexed sequence to sequence of vectors\n",
        "        x = self.embedding(x, segment_info)\n",
        "\n",
        "        # running over multiple transformer blocks\n",
        "        for encoder in self.encoder_blocks:\n",
        "            x = encoder.forward(x, mask)\n",
        "        return x\n",
        "\n",
        "class NextSentencePrediction(torch.nn.Module):\n",
        "    \"\"\"\n",
        "    2-class classification model : is_next, is_not_next\n",
        "    \"\"\"\n",
        "\n",
        "    def __init__(self, hidden):\n",
        "        \"\"\"\n",
        "        :param hidden: BERT model output size\n",
        "        \"\"\"\n",
        "        super().__init__()\n",
        "        self.linear = torch.nn.Linear(hidden, 2)\n",
        "        self.softmax = torch.nn.LogSoftmax(dim=-1)\n",
        "\n",
        "    def forward(self, x):\n",
        "        # use only the first token which is the [CLS]\n",
        "        return self.softmax(self.linear(x[:, 0]))\n",
        "\n",
        "class MaskedLanguageModel(torch.nn.Module):\n",
        "    \"\"\"\n",
        "    predicting origin token from masked input sequence\n",
        "    n-class classification problem, n-class = vocab_size\n",
        "    \"\"\"\n",
        "\n",
        "    def __init__(self, hidden, vocab_size):\n",
        "        \"\"\"\n",
        "        :param hidden: output size of BERT model\n",
        "        :param vocab_size: total vocab size\n",
        "        \"\"\"\n",
        "        super().__init__()\n",
        "        self.linear = torch.nn.Linear(hidden, vocab_size)\n",
        "        self.softmax = torch.nn.LogSoftmax(dim=-1)\n",
        "\n",
        "    def forward(self, x):\n",
        "        return self.softmax(self.linear(x))\n",
        "\n",
        "class BERTLM(torch.nn.Module):\n",
        "    \"\"\"\n",
        "    BERT Language Model\n",
        "    Next Sentence Prediction Model + Masked Language Model\n",
        "    \"\"\"\n",
        "\n",
        "    def __init__(self, bert: BERT, vocab_size):\n",
        "        \"\"\"\n",
        "        :param bert: BERT model which should be trained\n",
        "        :param vocab_size: total vocab size for masked_lm\n",
        "        \"\"\"\n",
        "\n",
        "        super().__init__()\n",
        "        self.bert = bert\n",
        "        self.next_sentence = NextSentencePrediction(self.bert.d_model)\n",
        "        self.mask_lm = MaskedLanguageModel(self.bert.d_model, vocab_size)\n",
        "\n",
        "    def forward(self, x, segment_label):\n",
        "        x = self.bert(x, segment_label)\n",
        "        return self.next_sentence(x), self.mask_lm(x)\n",
        "\n",
        "# Training configuration\n",
        "class ScheduledOptim():\n",
        "    '''A simple wrapper class for learning rate scheduling'''\n",
        "\n",
        "    def __init__(self, optimizer, d_model, n_warmup_steps):\n",
        "        self._optimizer = optimizer\n",
        "        self.n_warmup_steps = n_warmup_steps\n",
        "        self.n_current_steps = 0\n",
        "        self.init_lr = np.power(d_model, -0.5)\n",
        "\n",
        "    def step_and_update_lr(self):\n",
        "        \"Step with the inner optimizer\"\n",
        "        self._update_learning_rate()\n",
        "        self._optimizer.step()\n",
        "\n",
        "    def zero_grad(self):\n",
        "        \"Zero out the gradients by the inner optimizer\"\n",
        "        self._optimizer.zero_grad()\n",
        "\n",
        "    def _get_lr_scale(self):\n",
        "        return np.min([\n",
        "            np.power(self.n_current_steps, -0.5),\n",
        "            np.power(self.n_warmup_steps, -1.5) * self.n_current_steps])\n",
        "\n",
        "    def _update_learning_rate(self):\n",
        "        ''' Learning rate scheduling per step '''\n",
        "\n",
        "        self.n_current_steps += 1\n",
        "        lr = self.init_lr * self._get_lr_scale()\n",
        "\n",
        "        for param_group in self._optimizer.param_groups:\n",
        "            param_group['lr'] = lr\n",
        "\n",
        "class BERTTrainer:\n",
        "    def __init__(\n",
        "        self,\n",
        "        model,\n",
        "        train_dataloader,\n",
        "        test_dataloader=None,\n",
        "        lr=1e-4,\n",
        "        weight_decay=0.01,\n",
        "        betas=(0.9, 0.999),\n",
        "        warmup_steps=10000,\n",
        "        log_freq=10,\n",
        "        device='cuda'\n",
        "        ):\n",
        "\n",
        "        self.device = device\n",
        "        self.model = model\n",
        "        self.train_data = train_dataloader\n",
        "        self.test_data = test_dataloader\n",
        "\n",
        "        # Setting the Adam optimizer with hyper-param\n",
        "        self.optim = Adam(self.model.parameters(), lr=lr, betas=betas, weight_decay=weight_decay)\n",
        "        self.optim_schedule = ScheduledOptim(\n",
        "            self.optim, self.model.bert.d_model, n_warmup_steps=warmup_steps\n",
        "            )\n",
        "\n",
        "        # Using Negative Log Likelihood Loss function for predicting the masked_token\n",
        "        self.criterion = torch.nn.NLLLoss(ignore_index=0)\n",
        "        self.log_freq = log_freq\n",
        "        print(\"Total Parameters:\", sum([p.nelement() for p in self.model.parameters()]))\n",
        "\n",
        "    def train(self, epoch):\n",
        "        self.iteration(epoch, self.train_data)\n",
        "\n",
        "    def test(self, epoch):\n",
        "        self.iteration(epoch, self.test_data, train=False)\n",
        "\n",
        "    def iteration(self, epoch, data_loader, train=True):\n",
        "        avg_loss = 0.0\n",
        "        total_correct = 0\n",
        "        total_element = 0\n",
        "\n",
        "        mode = \"train\" if train else \"test\"\n",
        "\n",
        "        # progress bar\n",
        "        data_iter = tqdm.tqdm(\n",
        "            enumerate(data_loader),\n",
        "            desc=\"EP_%s:%d\" % (mode, epoch),\n",
        "            total=len(data_loader),\n",
        "            bar_format=\"{l_bar}{r_bar}\"\n",
        "        )\n",
        "\n",
        "        for i, data in data_iter:\n",
        "            # 0. batch_data will be sent into the device(GPU or cpu)\n",
        "            data = {key: value.to(self.device) for key, value in data.items()}\n",
        "\n",
        "            # 1. forward the next_sentence_prediction and masked_lm model\n",
        "            next_sent_output, mask_lm_output = self.model.forward(data[\"bert_input\"], data[\"segment_label\"])\n",
        "\n",
        "            # 2-1. NLL(negative log likelihood) loss of is_next classification result\n",
        "            next_loss = self.criterion(next_sent_output, data[\"is_next\"])\n",
        "\n",
        "            # 2-2. NLLLoss of predicting masked token word\n",
        "            # transpose to (m, vocab_size, seq_len) vs (m, seq_len)\n",
        "            mask_loss = self.criterion(mask_lm_output.transpose(1, 2), data[\"bert_label\"])\n",
        "\n",
        "            # 2-3. Adding next_loss and mask_loss\n",
        "            loss = next_loss + mask_loss\n",
        "\n",
        "            # 3. backward and optimization only in train\n",
        "            if train:\n",
        "                self.optim_schedule.zero_grad()\n",
        "                loss.backward()\n",
        "                self.optim_schedule.step_and_update_lr()\n",
        "\n",
        "            # next sentence prediction accuracy\n",
        "            correct = next_sent_output.argmax(dim=-1).eq(data[\"is_next\"]).sum().item()\n",
        "            avg_loss += loss.item()\n",
        "            total_correct += correct\n",
        "            total_element += data[\"is_next\"].nelement()\n",
        "\n",
        "            post_fix = {\n",
        "                \"epoch\": epoch,\n",
        "                \"iter\": i,\n",
        "                \"avg_loss\": avg_loss / (i + 1),\n",
        "                \"avg_acc\": total_correct / total_element * 100,\n",
        "                \"loss\": loss.item()\n",
        "            }\n",
        "\n",
        "            if i % self.log_freq == 0:\n",
        "                data_iter.write(str(post_fix))\n",
        "\n",
        "            # Logging to WandB\n",
        "            if i % 300 == 0 and train:\n",
        "                metrics = {\n",
        "                    \"avg_loss\": avg_loss / (i + 1),\n",
        "                    \"avg_acc\": total_correct / total_element * 100,\n",
        "                }\n",
        "\n",
        "                wandb.log(metrics)\n",
        "\n",
        "                # Save model checkpoint\n",
        "                # save_model(\n",
        "                #     self.model,\n",
        "                #     self.optim,\n",
        "                #     metrics,\n",
        "                #     epoch,\n",
        "                #     os.path.join('/content/drive/MyDrive/email_bert/checkpoints', f'bert_email_checkpoint_{epoch}_{i}.pth')\n",
        "                # )\n",
        "                print(\"Saved checkpoint model\")\n",
        "\n",
        "        print(\n",
        "            f\"EP{epoch}, {mode}: avg_loss={avg_loss / len(data_iter)}, total_acc={total_correct * 100.0 / total_element}\"\n",
        "        )\n",
        "\n",
        "# Helper functions to save/load model\n",
        "def save_model(model, optimizer, metrics, epoch, path):\n",
        "    torch.save(\n",
        "        {'model_state_dict': model.state_dict(),\n",
        "         'optimizer_state_dict': optimizer.state_dict(),\n",
        "         'metric': metrics,\n",
        "         'epoch': epoch},\n",
        "         path)\n",
        "\n",
        "def load_model(model, optimizer=None, path='./checkpoint.pth'):\n",
        "    checkpoint = torch.load(path)\n",
        "    model.load_state_dict(checkpoint['model_state_dict'])\n",
        "    if optimizer is not None:\n",
        "        optimizer.load_state_dict(checkpoint['optimizer_state_dict'])\n",
        "    else:\n",
        "        optimizer = None\n",
        "    epoch = checkpoint['epoch']\n",
        "    metrics = checkpoint['metric']\n",
        "    return model, optimizer, epoch, metrics\n",
        "\n",
        "# Initialize WandB\n",
        "import wandb\n",
        "wandb.login()  # You'll need your API key\n",
        "run = wandb.init(\n",
        "    name=\"bert-email-pretraining\",\n",
        "    project=\"bert-email-project\",\n",
        ")\n",
        "\n",
        "# Initialize model and trainer\n",
        "print(\"Initializing model...\")\n",
        "bert_model = BERT(len(tokenizer.vocab))\n",
        "bert_lm = BERTLM(bert_model, len(tokenizer.vocab))\n",
        "\n",
        "# Use CPU if no GPU available\n",
        "device = torch.device(\"cuda\" if torch.cuda.is_available() else \"cpu\")\n",
        "bert_model.to(device)\n",
        "bert_lm.to(device)\n",
        "\n",
        "bert_trainer = BERTTrainer(bert_lm, train_loader, device=device)\n",
        "\n",
        "# Train for a few epochs\n",
        "epochs = 5\n",
        "for epoch in range(epochs):\n",
        "    bert_trainer.train(epoch)\n",
        "\n",
        "    # Save model after each epoch\n",
        "    epoch_path = os.path.join('/content/drive/MyDrive/email_bert/checkpoints', f'bert_email_epoch_{epoch}.pth')\n",
        "    save_model(bert_lm, bert_trainer.optim, {\"epoch\": epoch}, epoch, epoch_path)\n",
        "    print(f\"Saved model after epoch {epoch} to {epoch_path}\")\n",
        "\n",
        "# Save the final model\n",
        "final_path = '/content/drive/MyDrive/email_bert/bert_email_final.pth'\n",
        "save_model(bert_lm, bert_trainer.optim, {\"final_epoch\": epochs}, epochs, final_path)\n",
        "print(f\"Pre-training complete. Final model saved to {final_path}\")\n",
        "\n",
        "# Finish WandB run\n",
        "wandb.finish()\n",
        "\n",
        "# Additional info about the model location\n",
        "print(\"\\nModel and data files are saved to Google Drive in the following locations:\")\n",
        "print(\"- Dataset: /content/drive/MyDrive/email_bert/datasets/\")\n",
        "print(\"- Tokenizer: /content/drive/MyDrive/email_bert/tokenizer/\")\n",
        "print(\"- Checkpoints: /content/drive/MyDrive/email_bert/checkpoints/\")\n",
        "print(\"- Final model: /content/drive/MyDrive/email_bert/bert_email_final.pth\")\n",
        "print(\"\\nThese files will persist even after your Colab session ends.\")"
      ],
      "metadata": {
        "colab": {
          "base_uri": "https://localhost:8080/",
          "height": 1000
        },
        "id": "a-Im_CZYMjby",
        "outputId": "b38d7b1a-78bc-419b-ae4c-2d6965be4a53"
      },
      "execution_count": 11,
      "outputs": [
        {
          "metadata": {
            "tags": null
          },
          "name": "stdout",
          "output_type": "stream",
          "text": [
            "Processing Enron emails...\n",
            "Created 42439 email pairs\n",
            "Sample pair: ['com> on 10/27/2000 09:54:20 AM To: \"\\'Rufino Doroteo\\'\" <rdoroteo@ect', \"com> cc: Subject: FW: Overworked > -----Original Message----- > From: Rowland J (Janina) > Sent: Friday, October 27, 2000 9:46 AM > To: Marshall SS (Samantha); McLain CD (Carol); Waddilove P (Pamm); Loera > M (Maribel); Buentello SA (Sky); Torres J (Juanita); > 'pbrauer@kandplaw\"]\n"
          ]
        },
        {
          "metadata": {
            "tags": null
          },
          "name": "stderr",
          "output_type": "stream",
          "text": [
            "100%|██████████| 84878/84878 [00:00<00:00, 633206.93it/s]\n"
          ]
        },
        {
          "metadata": {
            "tags": null
          },
          "name": "stdout",
          "output_type": "stream",
          "text": [
            "Created 9 text files for tokenizer training\n"
          ]
        },
        {
          "metadata": {
            "tags": null
          },
          "name": "stderr",
          "output_type": "stream",
          "text": [
            "/usr/local/lib/python3.12/dist-packages/transformers/tokenization_utils_base.py:1964: FutureWarning: Calling BertTokenizer.from_pretrained() with the path to a single file or url is deprecated and won't be possible anymore in v5. Use a model identifier or the path to a directory instead.\n",
            "  warnings.warn(\n",
            "\u001b[34m\u001b[1mwandb\u001b[0m: \u001b[33mWARNING\u001b[0m Calling wandb.login() after wandb.init() has no effect.\n"
          ]
        },
        {
          "metadata": {
            "tags": null
          },
          "name": "stdout",
          "output_type": "stream",
          "text": [
            "Sample tokenization: ['[CLS]', 'this', 'is', 'an', 'email', 'about', 'the', 'project', 'deadline', 'tomorrow', '[UNK]', '[SEP]']\n",
            "Creating BERT dataset...\n",
            "Batch Size torch.Size([32, 64])\n",
            "Sample data item: {'bert_input': torch.Size([64]), 'bert_label': torch.Size([64]), 'segment_label': torch.Size([64]), 'is_next': torch.Size([])}\n"
          ]
        },
        {
          "data": {
            "text/html": [
              "Finishing previous runs because reinit is set to 'default'."
            ],
            "text/plain": [
              "<IPython.core.display.HTML object>"
            ]
          },
          "metadata": {},
          "output_type": "display_data"
        },
        {
          "data": {
            "text/html": [],
            "text/plain": [
              "<IPython.core.display.HTML object>"
            ]
          },
          "metadata": {},
          "output_type": "display_data"
        },
        {
          "data": {
            "text/html": [
              "<br>    <style><br>        .wandb-row {<br>            display: flex;<br>            flex-direction: row;<br>            flex-wrap: wrap;<br>            justify-content: flex-start;<br>            width: 100%;<br>        }<br>        .wandb-col {<br>            display: flex;<br>            flex-direction: column;<br>            flex-basis: 100%;<br>            flex: 1;<br>            padding: 10px;<br>        }<br>    </style><br><div class=\"wandb-row\"><div class=\"wandb-col\"><h3>Run history:</h3><br/><table class=\"wandb\"><tr><td>avg_acc</td><td>█▁▁</td></tr><tr><td>avg_loss</td><td>█▃▁</td></tr></table><br/></div><div class=\"wandb-col\"><h3>Run summary:</h3><br/><table class=\"wandb\"><tr><td>avg_acc</td><td>49.77121</td></tr><tr><td>avg_loss</td><td>8.67511</td></tr></table><br/></div></div>"
            ],
            "text/plain": [
              "<IPython.core.display.HTML object>"
            ]
          },
          "metadata": {},
          "output_type": "display_data"
        },
        {
          "data": {
            "text/html": [
              " View run <strong style=\"color:#cdcd00\">bert-email-pretraining</strong> at: <a href='https://wandb.ai/aarunmoz-carnegie-mellon-university/bert-email-project/runs/ji82558n' target=\"_blank\">https://wandb.ai/aarunmoz-carnegie-mellon-university/bert-email-project/runs/ji82558n</a><br> View project at: <a href='https://wandb.ai/aarunmoz-carnegie-mellon-university/bert-email-project' target=\"_blank\">https://wandb.ai/aarunmoz-carnegie-mellon-university/bert-email-project</a><br>Synced 5 W&B file(s), 0 media file(s), 0 artifact file(s) and 0 other file(s)"
            ],
            "text/plain": [
              "<IPython.core.display.HTML object>"
            ]
          },
          "metadata": {},
          "output_type": "display_data"
        },
        {
          "data": {
            "text/html": [
              "Find logs at: <code>./wandb/run-20251023_032503-ji82558n/logs</code>"
            ],
            "text/plain": [
              "<IPython.core.display.HTML object>"
            ]
          },
          "metadata": {},
          "output_type": "display_data"
        },
        {
          "data": {
            "text/html": [],
            "text/plain": [
              "<IPython.core.display.HTML object>"
            ]
          },
          "metadata": {},
          "output_type": "display_data"
        },
        {
          "data": {
            "text/html": [
              "Tracking run with wandb version 0.22.2"
            ],
            "text/plain": [
              "<IPython.core.display.HTML object>"
            ]
          },
          "metadata": {},
          "output_type": "display_data"
        },
        {
          "data": {
            "text/html": [
              "Run data is saved locally in <code>/content/wandb/run-20251023_033225-pglrb8wo</code>"
            ],
            "text/plain": [
              "<IPython.core.display.HTML object>"
            ]
          },
          "metadata": {},
          "output_type": "display_data"
        },
        {
          "data": {
            "text/html": [
              "Syncing run <strong><a href='https://wandb.ai/aarunmoz-carnegie-mellon-university/bert-email-project/runs/pglrb8wo' target=\"_blank\">bert-email-pretraining</a></strong> to <a href='https://wandb.ai/aarunmoz-carnegie-mellon-university/bert-email-project' target=\"_blank\">Weights & Biases</a> (<a href='https://wandb.me/developer-guide' target=\"_blank\">docs</a>)<br>"
            ],
            "text/plain": [
              "<IPython.core.display.HTML object>"
            ]
          },
          "metadata": {},
          "output_type": "display_data"
        },
        {
          "data": {
            "text/html": [
              " View project at <a href='https://wandb.ai/aarunmoz-carnegie-mellon-university/bert-email-project' target=\"_blank\">https://wandb.ai/aarunmoz-carnegie-mellon-university/bert-email-project</a>"
            ],
            "text/plain": [
              "<IPython.core.display.HTML object>"
            ]
          },
          "metadata": {},
          "output_type": "display_data"
        },
        {
          "data": {
            "text/html": [
              " View run at <a href='https://wandb.ai/aarunmoz-carnegie-mellon-university/bert-email-project/runs/pglrb8wo' target=\"_blank\">https://wandb.ai/aarunmoz-carnegie-mellon-university/bert-email-project/runs/pglrb8wo</a>"
            ],
            "text/plain": [
              "<IPython.core.display.HTML object>"
            ]
          },
          "metadata": {},
          "output_type": "display_data"
        },
        {
          "metadata": {
            "tags": null
          },
          "name": "stdout",
          "output_type": "stream",
          "text": [
            "Initializing model...\n",
            "Total Parameters: 131149874\n"
          ]
        },
        {
          "metadata": {
            "tags": null
          },
          "name": "stderr",
          "output_type": "stream",
          "text": [
            "EP_train:0:   0%|| 1/1327 [00:00<12:53,  1.71it/s]"
          ]
        },
        {
          "metadata": {
            "tags": null
          },
          "name": "stdout",
          "output_type": "stream",
          "text": [
            "{'epoch': 0, 'iter': 0, 'avg_loss': 11.344379425048828, 'avg_acc': 43.75, 'loss': 11.344379425048828}\n",
            "Saved checkpoint model\n"
          ]
        },
        {
          "metadata": {
            "tags": null
          },
          "name": "stderr",
          "output_type": "stream",
          "text": [
            "EP_train:0:   1%|| 11/1327 [00:05<11:52,  1.85it/s]"
          ]
        },
        {
          "metadata": {
            "tags": null
          },
          "name": "stdout",
          "output_type": "stream",
          "text": [
            "{'epoch': 0, 'iter': 10, 'avg_loss': 11.266351179643111, 'avg_acc': 50.85227272727273, 'loss': 11.063393592834473}\n"
          ]
        },
        {
          "metadata": {
            "tags": null
          },
          "name": "stderr",
          "output_type": "stream",
          "text": [
            "EP_train:0:   2%|| 21/1327 [00:11<12:26,  1.75it/s]"
          ]
        },
        {
          "metadata": {
            "tags": null
          },
          "name": "stdout",
          "output_type": "stream",
          "text": [
            "{'epoch': 0, 'iter': 20, 'avg_loss': 11.06695624760219, 'avg_acc': 49.107142857142854, 'loss': 10.703871726989746}\n"
          ]
        },
        {
          "metadata": {
            "tags": null
          },
          "name": "stderr",
          "output_type": "stream",
          "text": [
            "EP_train:0:   2%|| 31/1327 [00:17<11:32,  1.87it/s]"
          ]
        },
        {
          "metadata": {
            "tags": null
          },
          "name": "stdout",
          "output_type": "stream",
          "text": [
            "{'epoch': 0, 'iter': 30, 'avg_loss': 10.908242471756473, 'avg_acc': 50.30241935483871, 'loss': 10.558491706848145}\n"
          ]
        },
        {
          "metadata": {
            "tags": null
          },
          "name": "stderr",
          "output_type": "stream",
          "text": [
            "EP_train:0:   3%|| 41/1327 [00:22<12:37,  1.70it/s]"
          ]
        },
        {
          "metadata": {
            "tags": null
          },
          "name": "stdout",
          "output_type": "stream",
          "text": [
            "{'epoch': 0, 'iter': 40, 'avg_loss': 10.801741995462557, 'avg_acc': 51.0670731707317, 'loss': 10.43796443939209}\n"
          ]
        },
        {
          "metadata": {
            "tags": null
          },
          "name": "stderr",
          "output_type": "stream",
          "text": [
            "EP_train:0:   4%|| 51/1327 [00:28<11:50,  1.80it/s]"
          ]
        },
        {
          "metadata": {
            "tags": null
          },
          "name": "stdout",
          "output_type": "stream",
          "text": [
            "{'epoch': 0, 'iter': 50, 'avg_loss': 10.719225976981368, 'avg_acc': 51.041666666666664, 'loss': 10.344501495361328}\n"
          ]
        },
        {
          "metadata": {
            "tags": null
          },
          "name": "stderr",
          "output_type": "stream",
          "text": [
            "EP_train:0:   5%|| 61/1327 [00:34<11:39,  1.81it/s]"
          ]
        },
        {
          "metadata": {
            "tags": null
          },
          "name": "stdout",
          "output_type": "stream",
          "text": [
            "{'epoch': 0, 'iter': 60, 'avg_loss': 10.637030366991388, 'avg_acc': 50.870901639344254, 'loss': 10.162461280822754}\n"
          ]
        },
        {
          "metadata": {
            "tags": null
          },
          "name": "stderr",
          "output_type": "stream",
          "text": [
            "EP_train:0:   5%|| 71/1327 [00:40<12:01,  1.74it/s]"
          ]
        },
        {
          "metadata": {
            "tags": null
          },
          "name": "stdout",
          "output_type": "stream",
          "text": [
            "{'epoch': 0, 'iter': 70, 'avg_loss': 10.559722698910136, 'avg_acc': 51.40845070422535, 'loss': 10.15947151184082}\n"
          ]
        },
        {
          "metadata": {
            "tags": null
          },
          "name": "stderr",
          "output_type": "stream",
          "text": [
            "EP_train:0:   6%|| 81/1327 [00:45<11:17,  1.84it/s]"
          ]
        },
        {
          "metadata": {
            "tags": null
          },
          "name": "stdout",
          "output_type": "stream",
          "text": [
            "{'epoch': 0, 'iter': 80, 'avg_loss': 10.49008181065689, 'avg_acc': 51.504629629629626, 'loss': 10.112234115600586}\n"
          ]
        },
        {
          "metadata": {
            "tags": null
          },
          "name": "stderr",
          "output_type": "stream",
          "text": [
            "EP_train:0:   7%|| 91/1327 [00:51<12:31,  1.64it/s]"
          ]
        },
        {
          "metadata": {
            "tags": null
          },
          "name": "stdout",
          "output_type": "stream",
          "text": [
            "{'epoch': 0, 'iter': 90, 'avg_loss': 10.424919484735845, 'avg_acc': 51.30494505494505, 'loss': 9.83680534362793}\n"
          ]
        },
        {
          "metadata": {
            "tags": null
          },
          "name": "stderr",
          "output_type": "stream",
          "text": [
            "EP_train:0:   8%|| 101/1327 [00:56<11:08,  1.83it/s]"
          ]
        },
        {
          "metadata": {
            "tags": null
          },
          "name": "stdout",
          "output_type": "stream",
          "text": [
            "{'epoch': 0, 'iter': 100, 'avg_loss': 10.347577113916378, 'avg_acc': 50.835396039603964, 'loss': 9.664198875427246}\n"
          ]
        },
        {
          "metadata": {
            "tags": null
          },
          "name": "stderr",
          "output_type": "stream",
          "text": [
            "EP_train:0:   8%|| 111/1327 [01:02<10:52,  1.86it/s]"
          ]
        },
        {
          "metadata": {
            "tags": null
          },
          "name": "stdout",
          "output_type": "stream",
          "text": [
            "{'epoch': 0, 'iter': 110, 'avg_loss': 10.274760701634863, 'avg_acc': 50.788288288288285, 'loss': 9.434812545776367}\n"
          ]
        },
        {
          "metadata": {
            "tags": null
          },
          "name": "stderr",
          "output_type": "stream",
          "text": [
            "EP_train:0:   9%|| 121/1327 [01:07<11:21,  1.77it/s]"
          ]
        },
        {
          "metadata": {
            "tags": null
          },
          "name": "stdout",
          "output_type": "stream",
          "text": [
            "{'epoch': 0, 'iter': 120, 'avg_loss': 10.200667838419765, 'avg_acc': 51.007231404958674, 'loss': 9.135175704956055}\n"
          ]
        },
        {
          "metadata": {
            "tags": null
          },
          "name": "stderr",
          "output_type": "stream",
          "text": [
            "EP_train:0:  10%|| 131/1327 [01:13<10:45,  1.85it/s]"
          ]
        },
        {
          "metadata": {
            "tags": null
          },
          "name": "stdout",
          "output_type": "stream",
          "text": [
            "{'epoch': 0, 'iter': 130, 'avg_loss': 10.112612192867367, 'avg_acc': 50.906488549618324, 'loss': 9.048665046691895}\n"
          ]
        },
        {
          "metadata": {
            "tags": null
          },
          "name": "stderr",
          "output_type": "stream",
          "text": [
            "EP_train:0:  11%|| 141/1327 [01:19<11:45,  1.68it/s]"
          ]
        },
        {
          "metadata": {
            "tags": null
          },
          "name": "stdout",
          "output_type": "stream",
          "text": [
            "{'epoch': 0, 'iter': 140, 'avg_loss': 10.050311311762384, 'avg_acc': 50.84219858156028, 'loss': 9.466597557067871}\n"
          ]
        },
        {
          "metadata": {
            "tags": null
          },
          "name": "stderr",
          "output_type": "stream",
          "text": [
            "EP_train:0:  11%|| 151/1327 [01:24<10:36,  1.85it/s]"
          ]
        },
        {
          "metadata": {
            "tags": null
          },
          "name": "stdout",
          "output_type": "stream",
          "text": [
            "{'epoch': 0, 'iter': 150, 'avg_loss': 9.99665419471185, 'avg_acc': 50.62086092715232, 'loss': 9.350318908691406}\n"
          ]
        },
        {
          "metadata": {
            "tags": null
          },
          "name": "stderr",
          "output_type": "stream",
          "text": [
            "EP_train:0:  12%|| 161/1327 [01:29<10:22,  1.87it/s]"
          ]
        },
        {
          "metadata": {
            "tags": null
          },
          "name": "stdout",
          "output_type": "stream",
          "text": [
            "{'epoch': 0, 'iter': 160, 'avg_loss': 9.934292689613674, 'avg_acc': 50.56288819875776, 'loss': 9.107450485229492}\n"
          ]
        },
        {
          "metadata": {
            "tags": null
          },
          "name": "stderr",
          "output_type": "stream",
          "text": [
            "EP_train:0:  13%|| 171/1327 [01:35<10:27,  1.84it/s]"
          ]
        },
        {
          "metadata": {
            "tags": null
          },
          "name": "stdout",
          "output_type": "stream",
          "text": [
            "{'epoch': 0, 'iter': 170, 'avg_loss': 9.883567595342447, 'avg_acc': 50.21929824561403, 'loss': 9.237902641296387}\n"
          ]
        },
        {
          "metadata": {
            "tags": null
          },
          "name": "stderr",
          "output_type": "stream",
          "text": [
            "EP_train:0:  14%|| 181/1327 [01:40<10:13,  1.87it/s]"
          ]
        },
        {
          "metadata": {
            "tags": null
          },
          "name": "stdout",
          "output_type": "stream",
          "text": [
            "{'epoch': 0, 'iter': 180, 'avg_loss': 9.840844652270745, 'avg_acc': 50.22444751381215, 'loss': 9.364367485046387}\n"
          ]
        },
        {
          "metadata": {
            "tags": null
          },
          "name": "stderr",
          "output_type": "stream",
          "text": [
            "EP_train:0:  14%|| 191/1327 [01:46<11:29,  1.65it/s]"
          ]
        },
        {
          "metadata": {
            "tags": null
          },
          "name": "stdout",
          "output_type": "stream",
          "text": [
            "{'epoch': 0, 'iter': 190, 'avg_loss': 9.785366545172886, 'avg_acc': 50.29450261780105, 'loss': 9.13828182220459}\n"
          ]
        },
        {
          "metadata": {
            "tags": null
          },
          "name": "stderr",
          "output_type": "stream",
          "text": [
            "EP_train:0:  15%|| 201/1327 [01:52<10:08,  1.85it/s]"
          ]
        },
        {
          "metadata": {
            "tags": null
          },
          "name": "stdout",
          "output_type": "stream",
          "text": [
            "{'epoch': 0, 'iter': 200, 'avg_loss': 9.746323431309182, 'avg_acc': 50.32649253731343, 'loss': 8.932990074157715}\n"
          ]
        },
        {
          "metadata": {
            "tags": null
          },
          "name": "stderr",
          "output_type": "stream",
          "text": [
            "EP_train:0:  16%|| 211/1327 [01:57<10:35,  1.75it/s]"
          ]
        },
        {
          "metadata": {
            "tags": null
          },
          "name": "stdout",
          "output_type": "stream",
          "text": [
            "{'epoch': 0, 'iter': 210, 'avg_loss': 9.70551320613843, 'avg_acc': 50.3850710900474, 'loss': 8.796921730041504}\n"
          ]
        },
        {
          "metadata": {
            "tags": null
          },
          "name": "stderr",
          "output_type": "stream",
          "text": [
            "EP_train:0:  17%|| 221/1327 [02:03<10:19,  1.79it/s]"
          ]
        },
        {
          "metadata": {
            "tags": null
          },
          "name": "stdout",
          "output_type": "stream",
          "text": [
            "{'epoch': 0, 'iter': 220, 'avg_loss': 9.652494473694675, 'avg_acc': 50.42420814479638, 'loss': 8.129199981689453}\n"
          ]
        },
        {
          "metadata": {
            "tags": null
          },
          "name": "stderr",
          "output_type": "stream",
          "text": [
            "EP_train:0:  17%|| 231/1327 [02:09<09:53,  1.85it/s]"
          ]
        },
        {
          "metadata": {
            "tags": null
          },
          "name": "stdout",
          "output_type": "stream",
          "text": [
            "{'epoch': 0, 'iter': 230, 'avg_loss': 9.613194719537512, 'avg_acc': 50.378787878787875, 'loss': 8.982915878295898}\n"
          ]
        },
        {
          "metadata": {
            "tags": null
          },
          "name": "stderr",
          "output_type": "stream",
          "text": [
            "EP_train:0:  18%|| 241/1327 [02:14<10:51,  1.67it/s]"
          ]
        },
        {
          "metadata": {
            "tags": null
          },
          "name": "stdout",
          "output_type": "stream",
          "text": [
            "{'epoch': 0, 'iter': 240, 'avg_loss': 9.564713100180091, 'avg_acc': 50.440871369294605, 'loss': 8.288334846496582}\n"
          ]
        },
        {
          "metadata": {
            "tags": null
          },
          "name": "stderr",
          "output_type": "stream",
          "text": [
            "EP_train:0:  19%|| 251/1327 [02:20<09:35,  1.87it/s]"
          ]
        },
        {
          "metadata": {
            "tags": null
          },
          "name": "stdout",
          "output_type": "stream",
          "text": [
            "{'epoch': 0, 'iter': 250, 'avg_loss': 9.532763144884452, 'avg_acc': 50.435756972111555, 'loss': 8.75728988647461}\n"
          ]
        },
        {
          "metadata": {
            "tags": null
          },
          "name": "stderr",
          "output_type": "stream",
          "text": [
            "EP_train:0:  20%|| 261/1327 [02:25<09:54,  1.79it/s]"
          ]
        },
        {
          "metadata": {
            "tags": null
          },
          "name": "stdout",
          "output_type": "stream",
          "text": [
            "{'epoch': 0, 'iter': 260, 'avg_loss': 9.50488358530505, 'avg_acc': 50.41906130268199, 'loss': 9.197885513305664}\n"
          ]
        },
        {
          "metadata": {
            "tags": null
          },
          "name": "stderr",
          "output_type": "stream",
          "text": [
            "EP_train:0:  20%|| 271/1327 [02:31<09:36,  1.83it/s]"
          ]
        },
        {
          "metadata": {
            "tags": null
          },
          "name": "stdout",
          "output_type": "stream",
          "text": [
            "{'epoch': 0, 'iter': 270, 'avg_loss': 9.477668098857922, 'avg_acc': 50.39206642066421, 'loss': 8.98926830291748}\n"
          ]
        },
        {
          "metadata": {
            "tags": null
          },
          "name": "stderr",
          "output_type": "stream",
          "text": [
            "EP_train:0:  21%|| 281/1327 [02:36<09:18,  1.87it/s]"
          ]
        },
        {
          "metadata": {
            "tags": null
          },
          "name": "stdout",
          "output_type": "stream",
          "text": [
            "{'epoch': 0, 'iter': 280, 'avg_loss': 9.446025313855914, 'avg_acc': 50.22241992882562, 'loss': 8.566845893859863}\n"
          ]
        },
        {
          "metadata": {
            "tags": null
          },
          "name": "stderr",
          "output_type": "stream",
          "text": [
            "EP_train:0:  22%|| 291/1327 [02:42<10:33,  1.63it/s]"
          ]
        },
        {
          "metadata": {
            "tags": null
          },
          "name": "stdout",
          "output_type": "stream",
          "text": [
            "{'epoch': 0, 'iter': 290, 'avg_loss': 9.416910725360884, 'avg_acc': 50.20403780068728, 'loss': 8.717605590820312}\n"
          ]
        },
        {
          "metadata": {
            "tags": null
          },
          "name": "stderr",
          "output_type": "stream",
          "text": [
            "EP_train:0:  23%|| 301/1327 [02:48<10:00,  1.71it/s]"
          ]
        },
        {
          "metadata": {
            "tags": null
          },
          "name": "stdout",
          "output_type": "stream",
          "text": [
            "{'epoch': 0, 'iter': 300, 'avg_loss': 9.390068507273728, 'avg_acc': 50.301079734219265, 'loss': 9.031740188598633}\n",
            "Saved checkpoint model\n"
          ]
        },
        {
          "metadata": {
            "tags": null
          },
          "name": "stderr",
          "output_type": "stream",
          "text": [
            "EP_train:0:  23%|| 311/1327 [02:54<10:09,  1.67it/s]"
          ]
        },
        {
          "metadata": {
            "tags": null
          },
          "name": "stdout",
          "output_type": "stream",
          "text": [
            "{'epoch': 0, 'iter': 310, 'avg_loss': 9.361704246790847, 'avg_acc': 50.2612540192926, 'loss': 7.611186504364014}\n"
          ]
        },
        {
          "metadata": {
            "tags": null
          },
          "name": "stderr",
          "output_type": "stream",
          "text": [
            "EP_train:0:  24%|| 321/1327 [02:59<09:01,  1.86it/s]"
          ]
        },
        {
          "metadata": {
            "tags": null
          },
          "name": "stdout",
          "output_type": "stream",
          "text": [
            "{'epoch': 0, 'iter': 320, 'avg_loss': 9.335771180387598, 'avg_acc': 50.350467289719624, 'loss': 8.400496482849121}\n"
          ]
        },
        {
          "metadata": {
            "tags": null
          },
          "name": "stderr",
          "output_type": "stream",
          "text": [
            "EP_train:0:  25%|| 331/1327 [03:05<08:59,  1.84it/s]"
          ]
        },
        {
          "metadata": {
            "tags": null
          },
          "name": "stdout",
          "output_type": "stream",
          "text": [
            "{'epoch': 0, 'iter': 330, 'avg_loss': 9.309459846185414, 'avg_acc': 50.4059667673716, 'loss': 8.926277160644531}\n"
          ]
        },
        {
          "metadata": {
            "tags": null
          },
          "name": "stderr",
          "output_type": "stream",
          "text": [
            "EP_train:0:  26%|| 341/1327 [03:10<09:03,  1.81it/s]"
          ]
        },
        {
          "metadata": {
            "tags": null
          },
          "name": "stdout",
          "output_type": "stream",
          "text": [
            "{'epoch': 0, 'iter': 340, 'avg_loss': 9.288374675683611, 'avg_acc': 50.531524926686224, 'loss': 8.395173072814941}\n"
          ]
        },
        {
          "metadata": {
            "tags": null
          },
          "name": "stderr",
          "output_type": "stream",
          "text": [
            "EP_train:0:  26%|| 351/1327 [03:16<08:52,  1.83it/s]"
          ]
        },
        {
          "metadata": {
            "tags": null
          },
          "name": "stdout",
          "output_type": "stream",
          "text": [
            "{'epoch': 0, 'iter': 350, 'avg_loss': 9.259056792299972, 'avg_acc': 50.480769230769226, 'loss': 7.876697063446045}\n"
          ]
        },
        {
          "metadata": {
            "tags": null
          },
          "name": "stderr",
          "output_type": "stream",
          "text": [
            "EP_train:0:  27%|| 361/1327 [03:21<09:25,  1.71it/s]"
          ]
        },
        {
          "metadata": {
            "tags": null
          },
          "name": "stdout",
          "output_type": "stream",
          "text": [
            "{'epoch': 0, 'iter': 360, 'avg_loss': 9.235628151827571, 'avg_acc': 50.38954293628809, 'loss': 8.302021980285645}\n"
          ]
        },
        {
          "metadata": {
            "tags": null
          },
          "name": "stderr",
          "output_type": "stream",
          "text": [
            "EP_train:0:  28%|| 371/1327 [03:27<08:45,  1.82it/s]"
          ]
        },
        {
          "metadata": {
            "tags": null
          },
          "name": "stdout",
          "output_type": "stream",
          "text": [
            "{'epoch': 0, 'iter': 370, 'avg_loss': 9.212008680616107, 'avg_acc': 50.46327493261455, 'loss': 8.487890243530273}\n"
          ]
        },
        {
          "metadata": {
            "tags": null
          },
          "name": "stderr",
          "output_type": "stream",
          "text": [
            "EP_train:0:  29%|| 381/1327 [03:32<08:31,  1.85it/s]"
          ]
        },
        {
          "metadata": {
            "tags": null
          },
          "name": "stdout",
          "output_type": "stream",
          "text": [
            "{'epoch': 0, 'iter': 380, 'avg_loss': 9.183085954721205, 'avg_acc': 50.5003280839895, 'loss': 8.279351234436035}\n"
          ]
        },
        {
          "metadata": {
            "tags": null
          },
          "name": "stderr",
          "output_type": "stream",
          "text": [
            "EP_train:0:  29%|| 391/1327 [03:38<09:03,  1.72it/s]"
          ]
        },
        {
          "metadata": {
            "tags": null
          },
          "name": "stdout",
          "output_type": "stream",
          "text": [
            "{'epoch': 0, 'iter': 390, 'avg_loss': 9.153657729058619, 'avg_acc': 50.52749360613811, 'loss': 8.456637382507324}\n"
          ]
        },
        {
          "metadata": {
            "tags": null
          },
          "name": "stderr",
          "output_type": "stream",
          "text": [
            "EP_train:0:  30%|| 401/1327 [03:44<08:20,  1.85it/s]"
          ]
        },
        {
          "metadata": {
            "tags": null
          },
          "name": "stdout",
          "output_type": "stream",
          "text": [
            "{'epoch': 0, 'iter': 400, 'avg_loss': 9.120177871865822, 'avg_acc': 50.49096009975062, 'loss': 9.02879524230957}\n"
          ]
        },
        {
          "metadata": {
            "tags": null
          },
          "name": "stderr",
          "output_type": "stream",
          "text": [
            "EP_train:0:  31%|| 411/1327 [03:49<09:06,  1.68it/s]"
          ]
        },
        {
          "metadata": {
            "tags": null
          },
          "name": "stdout",
          "output_type": "stream",
          "text": [
            "{'epoch': 0, 'iter': 410, 'avg_loss': 9.097218071457243, 'avg_acc': 50.555048661800484, 'loss': 8.45898151397705}\n"
          ]
        },
        {
          "metadata": {
            "tags": null
          },
          "name": "stderr",
          "output_type": "stream",
          "text": [
            "EP_train:0:  32%|| 421/1327 [03:55<08:08,  1.85it/s]"
          ]
        },
        {
          "metadata": {
            "tags": null
          },
          "name": "stdout",
          "output_type": "stream",
          "text": [
            "{'epoch': 0, 'iter': 420, 'avg_loss': 9.079923270717087, 'avg_acc': 50.423099762470315, 'loss': 8.491857528686523}\n"
          ]
        },
        {
          "metadata": {
            "tags": null
          },
          "name": "stderr",
          "output_type": "stream",
          "text": [
            "EP_train:0:  32%|| 431/1327 [04:00<07:59,  1.87it/s]"
          ]
        },
        {
          "metadata": {
            "tags": null
          },
          "name": "stdout",
          "output_type": "stream",
          "text": [
            "{'epoch': 0, 'iter': 430, 'avg_loss': 9.051971712134554, 'avg_acc': 50.3987819025522, 'loss': 6.254149913787842}\n"
          ]
        },
        {
          "metadata": {
            "tags": null
          },
          "name": "stderr",
          "output_type": "stream",
          "text": [
            "EP_train:0:  33%|| 441/1327 [04:06<08:18,  1.78it/s]"
          ]
        },
        {
          "metadata": {
            "tags": null
          },
          "name": "stdout",
          "output_type": "stream",
          "text": [
            "{'epoch': 0, 'iter': 440, 'avg_loss': 9.030591978778103, 'avg_acc': 50.375566893424036, 'loss': 8.578064918518066}\n"
          ]
        },
        {
          "metadata": {
            "tags": null
          },
          "name": "stderr",
          "output_type": "stream",
          "text": [
            "EP_train:0:  34%|| 451/1327 [04:11<07:51,  1.86it/s]"
          ]
        },
        {
          "metadata": {
            "tags": null
          },
          "name": "stdout",
          "output_type": "stream",
          "text": [
            "{'epoch': 0, 'iter': 450, 'avg_loss': 9.00641338576763, 'avg_acc': 50.31180709534369, 'loss': 8.248529434204102}\n"
          ]
        },
        {
          "metadata": {
            "tags": null
          },
          "name": "stderr",
          "output_type": "stream",
          "text": [
            "EP_train:0:  35%|| 461/1327 [04:17<08:26,  1.71it/s]"
          ]
        },
        {
          "metadata": {
            "tags": null
          },
          "name": "stdout",
          "output_type": "stream",
          "text": [
            "{'epoch': 0, 'iter': 460, 'avg_loss': 8.9848534579908, 'avg_acc': 50.27792841648589, 'loss': 7.93561315536499}\n"
          ]
        },
        {
          "metadata": {
            "tags": null
          },
          "name": "stderr",
          "output_type": "stream",
          "text": [
            "EP_train:0:  35%|| 471/1327 [04:22<07:41,  1.86it/s]"
          ]
        },
        {
          "metadata": {
            "tags": null
          },
          "name": "stdout",
          "output_type": "stream",
          "text": [
            "{'epoch': 0, 'iter': 470, 'avg_loss': 8.961291509575652, 'avg_acc': 50.34501061571125, 'loss': 7.9748663902282715}\n"
          ]
        },
        {
          "metadata": {
            "tags": null
          },
          "name": "stderr",
          "output_type": "stream",
          "text": [
            "EP_train:0:  36%|| 481/1327 [04:28<07:35,  1.86it/s]"
          ]
        },
        {
          "metadata": {
            "tags": null
          },
          "name": "stdout",
          "output_type": "stream",
          "text": [
            "{'epoch': 0, 'iter': 480, 'avg_loss': 8.939990927920272, 'avg_acc': 50.474272349272354, 'loss': 7.887714385986328}\n"
          ]
        },
        {
          "metadata": {
            "tags": null
          },
          "name": "stderr",
          "output_type": "stream",
          "text": [
            "EP_train:0:  37%|| 491/1327 [04:34<07:47,  1.79it/s]"
          ]
        },
        {
          "metadata": {
            "tags": null
          },
          "name": "stdout",
          "output_type": "stream",
          "text": [
            "{'epoch': 0, 'iter': 490, 'avg_loss': 8.91530139286018, 'avg_acc': 50.44551934826884, 'loss': 8.048113822937012}\n"
          ]
        },
        {
          "metadata": {
            "tags": null
          },
          "name": "stderr",
          "output_type": "stream",
          "text": [
            "EP_train:0:  38%|| 501/1327 [04:39<07:24,  1.86it/s]"
          ]
        },
        {
          "metadata": {
            "tags": null
          },
          "name": "stdout",
          "output_type": "stream",
          "text": [
            "{'epoch': 0, 'iter': 500, 'avg_loss': 8.894828910599212, 'avg_acc': 50.38048902195609, 'loss': 8.216830253601074}\n"
          ]
        },
        {
          "metadata": {
            "tags": null
          },
          "name": "stderr",
          "output_type": "stream",
          "text": [
            "EP_train:0:  39%|| 511/1327 [04:45<08:02,  1.69it/s]"
          ]
        },
        {
          "metadata": {
            "tags": null
          },
          "name": "stdout",
          "output_type": "stream",
          "text": [
            "{'epoch': 0, 'iter': 510, 'avg_loss': 8.875123051048025, 'avg_acc': 50.37304305283757, 'loss': 7.9632086753845215}\n"
          ]
        },
        {
          "metadata": {
            "tags": null
          },
          "name": "stderr",
          "output_type": "stream",
          "text": [
            "EP_train:0:  39%|| 521/1327 [04:50<07:15,  1.85it/s]"
          ]
        },
        {
          "metadata": {
            "tags": null
          },
          "name": "stdout",
          "output_type": "stream",
          "text": [
            "{'epoch': 0, 'iter': 520, 'avg_loss': 8.851174589768481, 'avg_acc': 50.35388675623801, 'loss': 8.214133262634277}\n"
          ]
        },
        {
          "metadata": {
            "tags": null
          },
          "name": "stderr",
          "output_type": "stream",
          "text": [
            "EP_train:0:  40%|| 531/1327 [04:55<07:11,  1.85it/s]"
          ]
        },
        {
          "metadata": {
            "tags": null
          },
          "name": "stdout",
          "output_type": "stream",
          "text": [
            "{'epoch': 0, 'iter': 530, 'avg_loss': 8.82453397438351, 'avg_acc': 50.34133709981168, 'loss': 7.426610469818115}\n"
          ]
        },
        {
          "metadata": {
            "tags": null
          },
          "name": "stderr",
          "output_type": "stream",
          "text": [
            "EP_train:0:  41%|| 541/1327 [05:01<07:24,  1.77it/s]"
          ]
        },
        {
          "metadata": {
            "tags": null
          },
          "name": "stdout",
          "output_type": "stream",
          "text": [
            "{'epoch': 0, 'iter': 540, 'avg_loss': 8.80289882652861, 'avg_acc': 50.3985674676525, 'loss': 7.802099704742432}\n"
          ]
        },
        {
          "metadata": {
            "tags": null
          },
          "name": "stderr",
          "output_type": "stream",
          "text": [
            "EP_train:0:  42%|| 551/1327 [05:07<06:51,  1.89it/s]"
          ]
        },
        {
          "metadata": {
            "tags": null
          },
          "name": "stdout",
          "output_type": "stream",
          "text": [
            "{'epoch': 0, 'iter': 550, 'avg_loss': 8.780960713886738, 'avg_acc': 50.40834845735027, 'loss': 7.734801769256592}\n"
          ]
        },
        {
          "metadata": {
            "tags": null
          },
          "name": "stderr",
          "output_type": "stream",
          "text": [
            "EP_train:0:  42%|| 561/1327 [05:12<07:30,  1.70it/s]"
          ]
        },
        {
          "metadata": {
            "tags": null
          },
          "name": "stdout",
          "output_type": "stream",
          "text": [
            "{'epoch': 0, 'iter': 560, 'avg_loss': 8.760419275246415, 'avg_acc': 50.43449197860963, 'loss': 7.566261291503906}\n"
          ]
        },
        {
          "metadata": {
            "tags": null
          },
          "name": "stderr",
          "output_type": "stream",
          "text": [
            "EP_train:0:  43%|| 571/1327 [05:18<06:46,  1.86it/s]"
          ]
        },
        {
          "metadata": {
            "tags": null
          },
          "name": "stdout",
          "output_type": "stream",
          "text": [
            "{'epoch': 0, 'iter': 570, 'avg_loss': 8.740625744734462, 'avg_acc': 50.43782837127846, 'loss': 8.00224781036377}\n"
          ]
        },
        {
          "metadata": {
            "tags": null
          },
          "name": "stderr",
          "output_type": "stream",
          "text": [
            "EP_train:0:  44%|| 581/1327 [05:23<06:40,  1.86it/s]"
          ]
        },
        {
          "metadata": {
            "tags": null
          },
          "name": "stdout",
          "output_type": "stream",
          "text": [
            "{'epoch': 0, 'iter': 580, 'avg_loss': 8.723129416086588, 'avg_acc': 50.441049913941484, 'loss': 7.888643264770508}\n"
          ]
        },
        {
          "metadata": {
            "tags": null
          },
          "name": "stderr",
          "output_type": "stream",
          "text": [
            "EP_train:0:  45%|| 591/1327 [05:29<06:45,  1.81it/s]"
          ]
        },
        {
          "metadata": {
            "tags": null
          },
          "name": "stdout",
          "output_type": "stream",
          "text": [
            "{'epoch': 0, 'iter': 590, 'avg_loss': 8.703054770196957, 'avg_acc': 50.41243654822335, 'loss': 7.995441436767578}\n"
          ]
        },
        {
          "metadata": {
            "tags": null
          },
          "name": "stderr",
          "output_type": "stream",
          "text": [
            "EP_train:0:  45%|| 601/1327 [05:34<06:33,  1.85it/s]"
          ]
        },
        {
          "metadata": {
            "tags": null
          },
          "name": "stdout",
          "output_type": "stream",
          "text": [
            "{'epoch': 0, 'iter': 600, 'avg_loss': 8.682788218912387, 'avg_acc': 50.41597337770383, 'loss': 7.672813415527344}\n",
            "Saved checkpoint model\n"
          ]
        },
        {
          "metadata": {
            "tags": null
          },
          "name": "stderr",
          "output_type": "stream",
          "text": [
            "EP_train:0:  46%|| 611/1327 [05:40<07:09,  1.67it/s]"
          ]
        },
        {
          "metadata": {
            "tags": null
          },
          "name": "stdout",
          "output_type": "stream",
          "text": [
            "{'epoch': 0, 'iter': 610, 'avg_loss': 8.662612688717006, 'avg_acc': 50.36824877250409, 'loss': 7.1427154541015625}\n"
          ]
        },
        {
          "metadata": {
            "tags": null
          },
          "name": "stderr",
          "output_type": "stream",
          "text": [
            "EP_train:0:  47%|| 621/1327 [05:46<06:19,  1.86it/s]"
          ]
        },
        {
          "metadata": {
            "tags": null
          },
          "name": "stdout",
          "output_type": "stream",
          "text": [
            "{'epoch': 0, 'iter': 620, 'avg_loss': 8.637222790679687, 'avg_acc': 50.39754428341385, 'loss': 7.212849140167236}\n"
          ]
        },
        {
          "metadata": {
            "tags": null
          },
          "name": "stderr",
          "output_type": "stream",
          "text": [
            "EP_train:0:  48%|| 631/1327 [05:51<06:11,  1.87it/s]"
          ]
        },
        {
          "metadata": {
            "tags": null
          },
          "name": "stdout",
          "output_type": "stream",
          "text": [
            "{'epoch': 0, 'iter': 630, 'avg_loss': 8.614376758055528, 'avg_acc': 50.4506735340729, 'loss': 7.395789623260498}\n"
          ]
        },
        {
          "metadata": {
            "tags": null
          },
          "name": "stderr",
          "output_type": "stream",
          "text": [
            "EP_train:0:  48%|| 641/1327 [05:57<06:13,  1.84it/s]"
          ]
        },
        {
          "metadata": {
            "tags": null
          },
          "name": "stdout",
          "output_type": "stream",
          "text": [
            "{'epoch': 0, 'iter': 640, 'avg_loss': 8.596767652425305, 'avg_acc': 50.44364274570982, 'loss': 7.220815181732178}\n"
          ]
        },
        {
          "metadata": {
            "tags": null
          },
          "name": "stderr",
          "output_type": "stream",
          "text": [
            "EP_train:0:  49%|| 651/1327 [06:02<06:01,  1.87it/s]"
          ]
        },
        {
          "metadata": {
            "tags": null
          },
          "name": "stdout",
          "output_type": "stream",
          "text": [
            "{'epoch': 0, 'iter': 650, 'avg_loss': 8.581974181894516, 'avg_acc': 50.45122887864824, 'loss': 7.900601863861084}\n"
          ]
        },
        {
          "metadata": {
            "tags": null
          },
          "name": "stderr",
          "output_type": "stream",
          "text": [
            "EP_train:0:  50%|| 661/1327 [06:08<06:45,  1.64it/s]"
          ]
        },
        {
          "metadata": {
            "tags": null
          },
          "name": "stdout",
          "output_type": "stream",
          "text": [
            "{'epoch': 0, 'iter': 660, 'avg_loss': 8.560128455804083, 'avg_acc': 50.43967473524962, 'loss': 6.772245407104492}\n"
          ]
        },
        {
          "metadata": {
            "tags": null
          },
          "name": "stderr",
          "output_type": "stream",
          "text": [
            "EP_train:0:  51%|| 671/1327 [06:13<05:52,  1.86it/s]"
          ]
        },
        {
          "metadata": {
            "tags": null
          },
          "name": "stdout",
          "output_type": "stream",
          "text": [
            "{'epoch': 0, 'iter': 670, 'avg_loss': 8.541043670273396, 'avg_acc': 50.409836065573764, 'loss': 7.599006652832031}\n"
          ]
        },
        {
          "metadata": {
            "tags": null
          },
          "name": "stderr",
          "output_type": "stream",
          "text": [
            "EP_train:0:  51%|| 681/1327 [06:19<05:53,  1.83it/s]"
          ]
        },
        {
          "metadata": {
            "tags": null
          },
          "name": "stdout",
          "output_type": "stream",
          "text": [
            "{'epoch': 0, 'iter': 680, 'avg_loss': 8.521574276659457, 'avg_acc': 50.38546255506608, 'loss': 7.555119514465332}\n"
          ]
        },
        {
          "metadata": {
            "tags": null
          },
          "name": "stderr",
          "output_type": "stream",
          "text": [
            "EP_train:0:  52%|| 691/1327 [06:25<06:00,  1.77it/s]"
          ]
        },
        {
          "metadata": {
            "tags": null
          },
          "name": "stdout",
          "output_type": "stream",
          "text": [
            "{'epoch': 0, 'iter': 690, 'avg_loss': 8.50119138005501, 'avg_acc': 50.388929088277855, 'loss': 6.969599723815918}\n"
          ]
        },
        {
          "metadata": {
            "tags": null
          },
          "name": "stderr",
          "output_type": "stream",
          "text": [
            "EP_train:0:  53%|| 701/1327 [06:30<05:36,  1.86it/s]"
          ]
        },
        {
          "metadata": {
            "tags": null
          },
          "name": "stdout",
          "output_type": "stream",
          "text": [
            "{'epoch': 0, 'iter': 700, 'avg_loss': 8.485547129675938, 'avg_acc': 50.419044222539235, 'loss': 7.805952072143555}\n"
          ]
        },
        {
          "metadata": {
            "tags": null
          },
          "name": "stderr",
          "output_type": "stream",
          "text": [
            "EP_train:0:  54%|| 711/1327 [06:36<06:17,  1.63it/s]"
          ]
        },
        {
          "metadata": {
            "tags": null
          },
          "name": "stdout",
          "output_type": "stream",
          "text": [
            "{'epoch': 0, 'iter': 710, 'avg_loss': 8.463012736222579, 'avg_acc': 50.45710267229254, 'loss': 6.339355945587158}\n"
          ]
        },
        {
          "metadata": {
            "tags": null
          },
          "name": "stderr",
          "output_type": "stream",
          "text": [
            "EP_train:0:  54%|| 721/1327 [06:41<05:30,  1.83it/s]"
          ]
        },
        {
          "metadata": {
            "tags": null
          },
          "name": "stdout",
          "output_type": "stream",
          "text": [
            "{'epoch': 0, 'iter': 720, 'avg_loss': 8.44755322460328, 'avg_acc': 50.420423023578365, 'loss': 7.012141704559326}\n"
          ]
        },
        {
          "metadata": {
            "tags": null
          },
          "name": "stderr",
          "output_type": "stream",
          "text": [
            "EP_train:0:  55%|| 731/1327 [06:47<05:36,  1.77it/s]"
          ]
        },
        {
          "metadata": {
            "tags": null
          },
          "name": "stdout",
          "output_type": "stream",
          "text": [
            "{'epoch': 0, 'iter': 730, 'avg_loss': 8.432037847312792, 'avg_acc': 50.41894664842681, 'loss': 7.074074745178223}\n"
          ]
        },
        {
          "metadata": {
            "tags": null
          },
          "name": "stderr",
          "output_type": "stream",
          "text": [
            "EP_train:0:  56%|| 741/1327 [06:53<06:07,  1.59it/s]"
          ]
        },
        {
          "metadata": {
            "tags": null
          },
          "name": "stdout",
          "output_type": "stream",
          "text": [
            "{'epoch': 0, 'iter': 740, 'avg_loss': 8.41453906817314, 'avg_acc': 50.41329284750338, 'loss': 6.171857833862305}\n"
          ]
        },
        {
          "metadata": {
            "tags": null
          },
          "name": "stderr",
          "output_type": "stream",
          "text": [
            "EP_train:0:  57%|| 751/1327 [06:58<05:11,  1.85it/s]"
          ]
        },
        {
          "metadata": {
            "tags": null
          },
          "name": "stdout",
          "output_type": "stream",
          "text": [
            "{'epoch': 0, 'iter': 750, 'avg_loss': 8.39828259014734, 'avg_acc': 50.44107856191744, 'loss': 7.272538661956787}\n"
          ]
        },
        {
          "metadata": {
            "tags": null
          },
          "name": "stderr",
          "output_type": "stream",
          "text": [
            "EP_train:0:  57%|| 761/1327 [07:04<05:29,  1.72it/s]"
          ]
        },
        {
          "metadata": {
            "tags": null
          },
          "name": "stdout",
          "output_type": "stream",
          "text": [
            "{'epoch': 0, 'iter': 760, 'avg_loss': 8.37973712903598, 'avg_acc': 50.44760183968463, 'loss': 6.12406587600708}\n"
          ]
        },
        {
          "metadata": {
            "tags": null
          },
          "name": "stderr",
          "output_type": "stream",
          "text": [
            "EP_train:0:  58%|| 771/1327 [07:09<04:57,  1.87it/s]"
          ]
        },
        {
          "metadata": {
            "tags": null
          },
          "name": "stdout",
          "output_type": "stream",
          "text": [
            "{'epoch': 0, 'iter': 770, 'avg_loss': 8.364773193685926, 'avg_acc': 50.405317769130995, 'loss': 7.338151454925537}\n"
          ]
        },
        {
          "metadata": {
            "tags": null
          },
          "name": "stderr",
          "output_type": "stream",
          "text": [
            "EP_train:0:  59%|| 781/1327 [07:15<05:16,  1.73it/s]"
          ]
        },
        {
          "metadata": {
            "tags": null
          },
          "name": "stdout",
          "output_type": "stream",
          "text": [
            "{'epoch': 0, 'iter': 780, 'avg_loss': 8.349958022333748, 'avg_acc': 50.40412932138284, 'loss': 6.901734828948975}\n"
          ]
        },
        {
          "metadata": {
            "tags": null
          },
          "name": "stderr",
          "output_type": "stream",
          "text": [
            "EP_train:0:  60%|| 791/1327 [07:21<04:53,  1.83it/s]"
          ]
        },
        {
          "metadata": {
            "tags": null
          },
          "name": "stdout",
          "output_type": "stream",
          "text": [
            "{'epoch': 0, 'iter': 790, 'avg_loss': 8.33229005562822, 'avg_acc': 50.44642857142857, 'loss': 7.21987771987915}\n"
          ]
        },
        {
          "metadata": {
            "tags": null
          },
          "name": "stderr",
          "output_type": "stream",
          "text": [
            "EP_train:0:  60%|| 801/1327 [07:26<04:39,  1.88it/s]"
          ]
        },
        {
          "metadata": {
            "tags": null
          },
          "name": "stdout",
          "output_type": "stream",
          "text": [
            "{'epoch': 0, 'iter': 800, 'avg_loss': 8.317516222131088, 'avg_acc': 50.44085518102372, 'loss': 7.244250774383545}\n"
          ]
        },
        {
          "metadata": {
            "tags": null
          },
          "name": "stderr",
          "output_type": "stream",
          "text": [
            "EP_train:0:  61%|| 811/1327 [07:32<05:04,  1.69it/s]"
          ]
        },
        {
          "metadata": {
            "tags": null
          },
          "name": "stdout",
          "output_type": "stream",
          "text": [
            "{'epoch': 0, 'iter': 810, 'avg_loss': 8.300945962842384, 'avg_acc': 50.454685573366206, 'loss': 7.891328811645508}\n"
          ]
        },
        {
          "metadata": {
            "tags": null
          },
          "name": "stderr",
          "output_type": "stream",
          "text": [
            "EP_train:0:  62%|| 821/1327 [07:37<04:32,  1.86it/s]"
          ]
        },
        {
          "metadata": {
            "tags": null
          },
          "name": "stdout",
          "output_type": "stream",
          "text": [
            "{'epoch': 0, 'iter': 820, 'avg_loss': 8.285501862850026, 'avg_acc': 50.479598051157126, 'loss': 6.539882183074951}\n"
          ]
        },
        {
          "metadata": {
            "tags": null
          },
          "name": "stderr",
          "output_type": "stream",
          "text": [
            "EP_train:0:  63%|| 831/1327 [07:43<04:44,  1.75it/s]"
          ]
        },
        {
          "metadata": {
            "tags": null
          },
          "name": "stdout",
          "output_type": "stream",
          "text": [
            "{'epoch': 0, 'iter': 830, 'avg_loss': 8.270656011882098, 'avg_acc': 50.47382671480144, 'loss': 6.602788925170898}\n"
          ]
        },
        {
          "metadata": {
            "tags": null
          },
          "name": "stderr",
          "output_type": "stream",
          "text": [
            "EP_train:0:  63%|| 841/1327 [07:48<04:24,  1.84it/s]"
          ]
        },
        {
          "metadata": {
            "tags": null
          },
          "name": "stdout",
          "output_type": "stream",
          "text": [
            "{'epoch': 0, 'iter': 840, 'avg_loss': 8.25575326030518, 'avg_acc': 50.45332936979786, 'loss': 5.58723783493042}\n"
          ]
        },
        {
          "metadata": {
            "tags": null
          },
          "name": "stderr",
          "output_type": "stream",
          "text": [
            "EP_train:0:  64%|| 851/1327 [07:54<04:20,  1.83it/s]"
          ]
        },
        {
          "metadata": {
            "tags": null
          },
          "name": "stdout",
          "output_type": "stream",
          "text": [
            "{'epoch': 0, 'iter': 850, 'avg_loss': 8.239613445609212, 'avg_acc': 50.436985898942424, 'loss': 6.760075092315674}\n"
          ]
        },
        {
          "metadata": {
            "tags": null
          },
          "name": "stderr",
          "output_type": "stream",
          "text": [
            "EP_train:0:  65%|| 861/1327 [08:00<04:22,  1.77it/s]"
          ]
        },
        {
          "metadata": {
            "tags": null
          },
          "name": "stdout",
          "output_type": "stream",
          "text": [
            "{'epoch': 0, 'iter': 860, 'avg_loss': 8.225348726243784, 'avg_acc': 50.417392566782816, 'loss': 7.596067428588867}\n"
          ]
        },
        {
          "metadata": {
            "tags": null
          },
          "name": "stderr",
          "output_type": "stream",
          "text": [
            "EP_train:0:  66%|| 871/1327 [08:05<04:05,  1.86it/s]"
          ]
        },
        {
          "metadata": {
            "tags": null
          },
          "name": "stdout",
          "output_type": "stream",
          "text": [
            "{'epoch': 0, 'iter': 870, 'avg_loss': 8.214494836042997, 'avg_acc': 50.40542479908151, 'loss': 7.261251926422119}\n"
          ]
        },
        {
          "metadata": {
            "tags": null
          },
          "name": "stderr",
          "output_type": "stream",
          "text": [
            "EP_train:0:  66%|| 881/1327 [08:11<04:34,  1.63it/s]"
          ]
        },
        {
          "metadata": {
            "tags": null
          },
          "name": "stdout",
          "output_type": "stream",
          "text": [
            "{'epoch': 0, 'iter': 880, 'avg_loss': 8.200462796495938, 'avg_acc': 50.40082292849035, 'loss': 7.070071220397949}\n"
          ]
        },
        {
          "metadata": {
            "tags": null
          },
          "name": "stderr",
          "output_type": "stream",
          "text": [
            "EP_train:0:  67%|| 891/1327 [08:16<03:54,  1.86it/s]"
          ]
        },
        {
          "metadata": {
            "tags": null
          },
          "name": "stdout",
          "output_type": "stream",
          "text": [
            "{'epoch': 0, 'iter': 890, 'avg_loss': 8.190006828736243, 'avg_acc': 50.42438271604939, 'loss': 6.825316905975342}\n"
          ]
        },
        {
          "metadata": {
            "tags": null
          },
          "name": "stderr",
          "output_type": "stream",
          "text": [
            "EP_train:0:  68%|| 901/1327 [08:22<03:57,  1.80it/s]"
          ]
        },
        {
          "metadata": {
            "tags": null
          },
          "name": "stdout",
          "output_type": "stream",
          "text": [
            "{'epoch': 0, 'iter': 900, 'avg_loss': 8.174481816350024, 'avg_acc': 50.45782463928968, 'loss': 6.556689262390137}\n",
            "Saved checkpoint model\n"
          ]
        },
        {
          "metadata": {
            "tags": null
          },
          "name": "stderr",
          "output_type": "stream",
          "text": [
            "EP_train:0:  69%|| 911/1327 [08:28<03:59,  1.74it/s]"
          ]
        },
        {
          "metadata": {
            "tags": null
          },
          "name": "stdout",
          "output_type": "stream",
          "text": [
            "{'epoch': 0, 'iter': 910, 'avg_loss': 8.163135006189608, 'avg_acc': 50.47338090010977, 'loss': 7.6236090660095215}\n"
          ]
        },
        {
          "metadata": {
            "tags": null
          },
          "name": "stderr",
          "output_type": "stream",
          "text": [
            "EP_train:0:  69%|| 921/1327 [08:33<03:40,  1.84it/s]"
          ]
        },
        {
          "metadata": {
            "tags": null
          },
          "name": "stdout",
          "output_type": "stream",
          "text": [
            "{'epoch': 0, 'iter': 920, 'avg_loss': 8.14773879946896, 'avg_acc': 50.475027144408244, 'loss': 6.876283645629883}\n"
          ]
        },
        {
          "metadata": {
            "tags": null
          },
          "name": "stderr",
          "output_type": "stream",
          "text": [
            "EP_train:0:  70%|| 931/1327 [08:39<03:58,  1.66it/s]"
          ]
        },
        {
          "metadata": {
            "tags": null
          },
          "name": "stdout",
          "output_type": "stream",
          "text": [
            "{'epoch': 0, 'iter': 930, 'avg_loss': 8.133399789750769, 'avg_acc': 50.44978517722879, 'loss': 7.2682061195373535}\n"
          ]
        },
        {
          "metadata": {
            "tags": null
          },
          "name": "stderr",
          "output_type": "stream",
          "text": [
            "EP_train:0:  71%|| 941/1327 [08:44<03:25,  1.88it/s]"
          ]
        },
        {
          "metadata": {
            "tags": null
          },
          "name": "stdout",
          "output_type": "stream",
          "text": [
            "{'epoch': 0, 'iter': 940, 'avg_loss': 8.12207125299922, 'avg_acc': 50.41511689691818, 'loss': 6.724564075469971}\n"
          ]
        },
        {
          "metadata": {
            "tags": null
          },
          "name": "stderr",
          "output_type": "stream",
          "text": [
            "EP_train:0:  72%|| 951/1327 [08:49<03:22,  1.86it/s]"
          ]
        },
        {
          "metadata": {
            "tags": null
          },
          "name": "stdout",
          "output_type": "stream",
          "text": [
            "{'epoch': 0, 'iter': 950, 'avg_loss': 8.11075332463101, 'avg_acc': 50.450184016824394, 'loss': 7.1787238121032715}\n"
          ]
        },
        {
          "metadata": {
            "tags": null
          },
          "name": "stderr",
          "output_type": "stream",
          "text": [
            "EP_train:0:  72%|| 961/1327 [08:55<03:26,  1.77it/s]"
          ]
        },
        {
          "metadata": {
            "tags": null
          },
          "name": "stdout",
          "output_type": "stream",
          "text": [
            "{'epoch': 0, 'iter': 960, 'avg_loss': 8.095322235317806, 'avg_acc': 50.4389958376691, 'loss': 7.120981693267822}\n"
          ]
        },
        {
          "metadata": {
            "tags": null
          },
          "name": "stderr",
          "output_type": "stream",
          "text": [
            "EP_train:0:  73%|| 971/1327 [09:01<03:11,  1.86it/s]"
          ]
        },
        {
          "metadata": {
            "tags": null
          },
          "name": "stdout",
          "output_type": "stream",
          "text": [
            "{'epoch': 0, 'iter': 970, 'avg_loss': 8.08238857438218, 'avg_acc': 50.42160144181257, 'loss': 7.293351173400879}\n"
          ]
        },
        {
          "metadata": {
            "tags": null
          },
          "name": "stderr",
          "output_type": "stream",
          "text": [
            "EP_train:0:  74%|| 981/1327 [09:06<03:28,  1.66it/s]"
          ]
        },
        {
          "metadata": {
            "tags": null
          },
          "name": "stdout",
          "output_type": "stream",
          "text": [
            "{'epoch': 0, 'iter': 980, 'avg_loss': 8.068795662042927, 'avg_acc': 50.41411824668705, 'loss': 7.031841278076172}\n"
          ]
        },
        {
          "metadata": {
            "tags": null
          },
          "name": "stderr",
          "output_type": "stream",
          "text": [
            "EP_train:0:  75%|| 991/1327 [09:12<03:05,  1.81it/s]"
          ]
        },
        {
          "metadata": {
            "tags": null
          },
          "name": "stdout",
          "output_type": "stream",
          "text": [
            "{'epoch': 0, 'iter': 990, 'avg_loss': 8.05694134564982, 'avg_acc': 50.40678607467205, 'loss': 6.88643217086792}\n"
          ]
        },
        {
          "metadata": {
            "tags": null
          },
          "name": "stderr",
          "output_type": "stream",
          "text": [
            "EP_train:0:  75%|| 1001/1327 [09:17<02:55,  1.86it/s]"
          ]
        },
        {
          "metadata": {
            "tags": null
          },
          "name": "stdout",
          "output_type": "stream",
          "text": [
            "{'epoch': 0, 'iter': 1000, 'avg_loss': 8.043566097865453, 'avg_acc': 50.38086913086913, 'loss': 6.2897725105285645}\n"
          ]
        },
        {
          "metadata": {
            "tags": null
          },
          "name": "stderr",
          "output_type": "stream",
          "text": [
            "EP_train:0:  76%|| 1011/1327 [09:23<02:57,  1.78it/s]"
          ]
        },
        {
          "metadata": {
            "tags": null
          },
          "name": "stdout",
          "output_type": "stream",
          "text": [
            "{'epoch': 0, 'iter': 1010, 'avg_loss': 8.033620751340358, 'avg_acc': 50.411102868447074, 'loss': 6.432041645050049}\n"
          ]
        },
        {
          "metadata": {
            "tags": null
          },
          "name": "stderr",
          "output_type": "stream",
          "text": [
            "EP_train:0:  77%|| 1021/1327 [09:28<02:43,  1.87it/s]"
          ]
        },
        {
          "metadata": {
            "tags": null
          },
          "name": "stdout",
          "output_type": "stream",
          "text": [
            "{'epoch': 0, 'iter': 1020, 'avg_loss': 8.022175395173495, 'avg_acc': 50.43462291870715, 'loss': 7.157301425933838}\n"
          ]
        },
        {
          "metadata": {
            "tags": null
          },
          "name": "stderr",
          "output_type": "stream",
          "text": [
            "EP_train:0:  78%|| 1031/1327 [09:34<02:56,  1.67it/s]"
          ]
        },
        {
          "metadata": {
            "tags": null
          },
          "name": "stdout",
          "output_type": "stream",
          "text": [
            "{'epoch': 0, 'iter': 1030, 'avg_loss': 8.009306435904147, 'avg_acc': 50.38797284190106, 'loss': 6.149444580078125}\n"
          ]
        },
        {
          "metadata": {
            "tags": null
          },
          "name": "stderr",
          "output_type": "stream",
          "text": [
            "EP_train:0:  78%|| 1041/1327 [09:40<02:35,  1.84it/s]"
          ]
        },
        {
          "metadata": {
            "tags": null
          },
          "name": "stdout",
          "output_type": "stream",
          "text": [
            "{'epoch': 0, 'iter': 1040, 'avg_loss': 7.999342397127325, 'avg_acc': 50.3692363112392, 'loss': 7.415187358856201}\n"
          ]
        },
        {
          "metadata": {
            "tags": null
          },
          "name": "stderr",
          "output_type": "stream",
          "text": [
            "EP_train:0:  79%|| 1051/1327 [09:45<02:28,  1.86it/s]"
          ]
        },
        {
          "metadata": {
            "tags": null
          },
          "name": "stdout",
          "output_type": "stream",
          "text": [
            "{'epoch': 0, 'iter': 1050, 'avg_loss': 7.986850836524273, 'avg_acc': 50.37464319695528, 'loss': 7.271236419677734}\n"
          ]
        },
        {
          "metadata": {
            "tags": null
          },
          "name": "stderr",
          "output_type": "stream",
          "text": [
            "EP_train:0:  80%|| 1061/1327 [09:51<02:29,  1.77it/s]"
          ]
        },
        {
          "metadata": {
            "tags": null
          },
          "name": "stdout",
          "output_type": "stream",
          "text": [
            "{'epoch': 0, 'iter': 1060, 'avg_loss': 7.973695356816643, 'avg_acc': 50.40056550424128, 'loss': 7.162055015563965}\n"
          ]
        },
        {
          "metadata": {
            "tags": null
          },
          "name": "stderr",
          "output_type": "stream",
          "text": [
            "EP_train:0:  81%|| 1071/1327 [09:56<02:16,  1.87it/s]"
          ]
        },
        {
          "metadata": {
            "tags": null
          },
          "name": "stdout",
          "output_type": "stream",
          "text": [
            "{'epoch': 0, 'iter': 1070, 'avg_loss': 7.961154655916016, 'avg_acc': 50.36764705882353, 'loss': 7.297121047973633}\n"
          ]
        },
        {
          "metadata": {
            "tags": null
          },
          "name": "stderr",
          "output_type": "stream",
          "text": [
            "EP_train:0:  81%|| 1081/1327 [10:02<02:30,  1.64it/s]"
          ]
        },
        {
          "metadata": {
            "tags": null
          },
          "name": "stdout",
          "output_type": "stream",
          "text": [
            "{'epoch': 0, 'iter': 1080, 'avg_loss': 7.9523914105135685, 'avg_acc': 50.338228492136906, 'loss': 7.026109218597412}\n"
          ]
        },
        {
          "metadata": {
            "tags": null
          },
          "name": "stderr",
          "output_type": "stream",
          "text": [
            "EP_train:0:  82%|| 1091/1327 [10:07<02:07,  1.86it/s]"
          ]
        },
        {
          "metadata": {
            "tags": null
          },
          "name": "stdout",
          "output_type": "stream",
          "text": [
            "{'epoch': 0, 'iter': 1090, 'avg_loss': 7.939898308649946, 'avg_acc': 50.349450045829514, 'loss': 7.038699150085449}\n"
          ]
        },
        {
          "metadata": {
            "tags": null
          },
          "name": "stderr",
          "output_type": "stream",
          "text": [
            "EP_train:0:  83%|| 1101/1327 [10:13<02:01,  1.86it/s]"
          ]
        },
        {
          "metadata": {
            "tags": null
          },
          "name": "stdout",
          "output_type": "stream",
          "text": [
            "{'epoch': 0, 'iter': 1100, 'avg_loss': 7.928588608196927, 'avg_acc': 50.32073115349682, 'loss': 6.020328521728516}\n"
          ]
        },
        {
          "metadata": {
            "tags": null
          },
          "name": "stderr",
          "output_type": "stream",
          "text": [
            "EP_train:0:  84%|| 1111/1327 [10:19<01:59,  1.81it/s]"
          ]
        },
        {
          "metadata": {
            "tags": null
          },
          "name": "stdout",
          "output_type": "stream",
          "text": [
            "{'epoch': 0, 'iter': 1110, 'avg_loss': 7.916954070571089, 'avg_acc': 50.376912691269126, 'loss': 6.196567535400391}\n"
          ]
        },
        {
          "metadata": {
            "tags": null
          },
          "name": "stderr",
          "output_type": "stream",
          "text": [
            "EP_train:0:  84%|| 1121/1327 [10:24<01:51,  1.84it/s]"
          ]
        },
        {
          "metadata": {
            "tags": null
          },
          "name": "stdout",
          "output_type": "stream",
          "text": [
            "{'epoch': 0, 'iter': 1120, 'avg_loss': 7.904979953374531, 'avg_acc': 50.367975022301515, 'loss': 5.229538917541504}\n"
          ]
        },
        {
          "metadata": {
            "tags": null
          },
          "name": "stderr",
          "output_type": "stream",
          "text": [
            "EP_train:0:  85%|| 1131/1327 [10:30<01:58,  1.66it/s]"
          ]
        },
        {
          "metadata": {
            "tags": null
          },
          "name": "stdout",
          "output_type": "stream",
          "text": [
            "{'epoch': 0, 'iter': 1130, 'avg_loss': 7.895296977959725, 'avg_acc': 50.32603890362511, 'loss': 7.004414081573486}\n"
          ]
        },
        {
          "metadata": {
            "tags": null
          },
          "name": "stderr",
          "output_type": "stream",
          "text": [
            "EP_train:0:  86%|| 1141/1327 [10:35<01:40,  1.85it/s]"
          ]
        },
        {
          "metadata": {
            "tags": null
          },
          "name": "stdout",
          "output_type": "stream",
          "text": [
            "{'epoch': 0, 'iter': 1140, 'avg_loss': 7.887919692174057, 'avg_acc': 50.3204425942156, 'loss': 6.7272162437438965}\n"
          ]
        },
        {
          "metadata": {
            "tags": null
          },
          "name": "stderr",
          "output_type": "stream",
          "text": [
            "EP_train:0:  87%|| 1151/1327 [10:41<01:39,  1.76it/s]"
          ]
        },
        {
          "metadata": {
            "tags": null
          },
          "name": "stdout",
          "output_type": "stream",
          "text": [
            "{'epoch': 0, 'iter': 1150, 'avg_loss': 7.879177025978095, 'avg_acc': 50.30408340573415, 'loss': 6.915807247161865}\n"
          ]
        },
        {
          "metadata": {
            "tags": null
          },
          "name": "stderr",
          "output_type": "stream",
          "text": [
            "EP_train:0:  87%|| 1161/1327 [10:47<01:31,  1.81it/s]"
          ]
        },
        {
          "metadata": {
            "tags": null
          },
          "name": "stdout",
          "output_type": "stream",
          "text": [
            "{'epoch': 0, 'iter': 1160, 'avg_loss': 7.869513480854281, 'avg_acc': 50.33914728682171, 'loss': 6.944005489349365}\n"
          ]
        },
        {
          "metadata": {
            "tags": null
          },
          "name": "stderr",
          "output_type": "stream",
          "text": [
            "EP_train:0:  88%|| 1171/1327 [10:52<01:25,  1.83it/s]"
          ]
        },
        {
          "metadata": {
            "tags": null
          },
          "name": "stdout",
          "output_type": "stream",
          "text": [
            "{'epoch': 0, 'iter': 1170, 'avg_loss': 7.859905705504902, 'avg_acc': 50.33358240819812, 'loss': 7.112209796905518}\n"
          ]
        },
        {
          "metadata": {
            "tags": null
          },
          "name": "stderr",
          "output_type": "stream",
          "text": [
            "EP_train:0:  89%|| 1181/1327 [10:58<01:31,  1.60it/s]"
          ]
        },
        {
          "metadata": {
            "tags": null
          },
          "name": "stdout",
          "output_type": "stream",
          "text": [
            "{'epoch': 0, 'iter': 1180, 'avg_loss': 7.849101401707765, 'avg_acc': 50.35192633361558, 'loss': 6.660221099853516}\n"
          ]
        },
        {
          "metadata": {
            "tags": null
          },
          "name": "stderr",
          "output_type": "stream",
          "text": [
            "EP_train:0:  90%|| 1191/1327 [11:04<01:15,  1.80it/s]"
          ]
        },
        {
          "metadata": {
            "tags": null
          },
          "name": "stdout",
          "output_type": "stream",
          "text": [
            "{'epoch': 0, 'iter': 1190, 'avg_loss': 7.838319266773291, 'avg_acc': 50.38045759865659, 'loss': 6.871551513671875}\n"
          ]
        },
        {
          "metadata": {
            "tags": null
          },
          "name": "stderr",
          "output_type": "stream",
          "text": [
            "EP_train:0:  91%|| 1201/1327 [11:09<01:09,  1.80it/s]"
          ]
        },
        {
          "metadata": {
            "tags": null
          },
          "name": "stdout",
          "output_type": "stream",
          "text": [
            "{'epoch': 0, 'iter': 1200, 'avg_loss': 7.830144349780309, 'avg_acc': 50.346065778517904, 'loss': 6.110109329223633}\n",
            "Saved checkpoint model\n"
          ]
        },
        {
          "metadata": {
            "tags": null
          },
          "name": "stderr",
          "output_type": "stream",
          "text": [
            "EP_train:0:  91%|| 1211/1327 [11:15<01:09,  1.68it/s]"
          ]
        },
        {
          "metadata": {
            "tags": null
          },
          "name": "stdout",
          "output_type": "stream",
          "text": [
            "{'epoch': 0, 'iter': 1210, 'avg_loss': 7.819168659402357, 'avg_acc': 50.36385218827415, 'loss': 7.267716884613037}\n"
          ]
        },
        {
          "metadata": {
            "tags": null
          },
          "name": "stderr",
          "output_type": "stream",
          "text": [
            "EP_train:0:  92%|| 1221/1327 [11:21<00:56,  1.87it/s]"
          ]
        },
        {
          "metadata": {
            "tags": null
          },
          "name": "stdout",
          "output_type": "stream",
          "text": [
            "{'epoch': 0, 'iter': 1220, 'avg_loss': 7.809064077803778, 'avg_acc': 50.33527846027847, 'loss': 6.812829494476318}\n"
          ]
        },
        {
          "metadata": {
            "tags": null
          },
          "name": "stderr",
          "output_type": "stream",
          "text": [
            "EP_train:0:  93%|| 1231/1327 [11:26<00:56,  1.70it/s]"
          ]
        },
        {
          "metadata": {
            "tags": null
          },
          "name": "stdout",
          "output_type": "stream",
          "text": [
            "{'epoch': 0, 'iter': 1230, 'avg_loss': 7.801273786372813, 'avg_acc': 50.35794069861901, 'loss': 5.891737461090088}\n"
          ]
        },
        {
          "metadata": {
            "tags": null
          },
          "name": "stderr",
          "output_type": "stream",
          "text": [
            "EP_train:0:  94%|| 1241/1327 [11:32<00:46,  1.85it/s]"
          ]
        },
        {
          "metadata": {
            "tags": null
          },
          "name": "stdout",
          "output_type": "stream",
          "text": [
            "{'epoch': 0, 'iter': 1240, 'avg_loss': 7.792348424049273, 'avg_acc': 50.34246575342466, 'loss': 7.355093479156494}\n"
          ]
        },
        {
          "metadata": {
            "tags": null
          },
          "name": "stderr",
          "output_type": "stream",
          "text": [
            "EP_train:0:  94%|| 1251/1327 [11:37<00:40,  1.87it/s]"
          ]
        },
        {
          "metadata": {
            "tags": null
          },
          "name": "stdout",
          "output_type": "stream",
          "text": [
            "{'epoch': 0, 'iter': 1250, 'avg_loss': 7.783527962023691, 'avg_acc': 50.35971223021583, 'loss': 6.583128929138184}\n"
          ]
        },
        {
          "metadata": {
            "tags": null
          },
          "name": "stderr",
          "output_type": "stream",
          "text": [
            "EP_train:0:  95%|| 1261/1327 [11:43<00:37,  1.75it/s]"
          ]
        },
        {
          "metadata": {
            "tags": null
          },
          "name": "stdout",
          "output_type": "stream",
          "text": [
            "{'epoch': 0, 'iter': 1260, 'avg_loss': 7.77531140839458, 'avg_acc': 50.35190325138779, 'loss': 6.869504451751709}\n"
          ]
        },
        {
          "metadata": {
            "tags": null
          },
          "name": "stderr",
          "output_type": "stream",
          "text": [
            "EP_train:0:  96%|| 1271/1327 [11:48<00:30,  1.82it/s]"
          ]
        },
        {
          "metadata": {
            "tags": null
          },
          "name": "stdout",
          "output_type": "stream",
          "text": [
            "{'epoch': 0, 'iter': 1270, 'avg_loss': 7.767397775882628, 'avg_acc': 50.37372147915028, 'loss': 6.745068550109863}\n"
          ]
        },
        {
          "metadata": {
            "tags": null
          },
          "name": "stderr",
          "output_type": "stream",
          "text": [
            "EP_train:0:  97%|| 1281/1327 [11:54<00:27,  1.65it/s]"
          ]
        },
        {
          "metadata": {
            "tags": null
          },
          "name": "stdout",
          "output_type": "stream",
          "text": [
            "{'epoch': 0, 'iter': 1280, 'avg_loss': 7.759976267907696, 'avg_acc': 50.36592505854801, 'loss': 6.741474151611328}\n"
          ]
        },
        {
          "metadata": {
            "tags": null
          },
          "name": "stderr",
          "output_type": "stream",
          "text": [
            "EP_train:0:  97%|| 1291/1327 [12:00<00:19,  1.84it/s]"
          ]
        },
        {
          "metadata": {
            "tags": null
          },
          "name": "stdout",
          "output_type": "stream",
          "text": [
            "{'epoch': 0, 'iter': 1290, 'avg_loss': 7.751174865444901, 'avg_acc': 50.35098760650658, 'loss': 4.787210464477539}\n"
          ]
        },
        {
          "metadata": {
            "tags": null
          },
          "name": "stderr",
          "output_type": "stream",
          "text": [
            "EP_train:0:  98%|| 1301/1327 [12:05<00:14,  1.83it/s]"
          ]
        },
        {
          "metadata": {
            "tags": null
          },
          "name": "stdout",
          "output_type": "stream",
          "text": [
            "{'epoch': 0, 'iter': 1300, 'avg_loss': 7.742848099423408, 'avg_acc': 50.360299769408144, 'loss': 5.911606788635254}\n"
          ]
        },
        {
          "metadata": {
            "tags": null
          },
          "name": "stderr",
          "output_type": "stream",
          "text": [
            "EP_train:0:  99%|| 1311/1327 [12:11<00:09,  1.78it/s]"
          ]
        },
        {
          "metadata": {
            "tags": null
          },
          "name": "stdout",
          "output_type": "stream",
          "text": [
            "{'epoch': 0, 'iter': 1310, 'avg_loss': 7.735287747066681, 'avg_acc': 50.34324942791763, 'loss': 6.901734352111816}\n"
          ]
        },
        {
          "metadata": {
            "tags": null
          },
          "name": "stderr",
          "output_type": "stream",
          "text": [
            "EP_train:0: 100%|| 1321/1327 [12:16<00:03,  1.87it/s]"
          ]
        },
        {
          "metadata": {
            "tags": null
          },
          "name": "stdout",
          "output_type": "stream",
          "text": [
            "{'epoch': 0, 'iter': 1320, 'avg_loss': 7.728397387072139, 'avg_acc': 50.32645722937169, 'loss': 7.139811038970947}\n"
          ]
        },
        {
          "metadata": {
            "tags": null
          },
          "name": "stderr",
          "output_type": "stream",
          "text": [
            "EP_train:0: 100%|| 1327/1327 [12:19<00:00,  1.79it/s]\n"
          ]
        },
        {
          "metadata": {
            "tags": null
          },
          "name": "stdout",
          "output_type": "stream",
          "text": [
            "EP0, train: avg_loss=7.724719926479084, total_acc=50.33341973185042\n",
            "Saved model after epoch 0 to /content/drive/MyDrive/email_bert/checkpoints/bert_email_epoch_0.pth\n"
          ]
        },
        {
          "metadata": {
            "tags": null
          },
          "name": "stderr",
          "output_type": "stream",
          "text": [
            "EP_train:1:   0%|| 1/1327 [00:00<12:58,  1.70it/s]"
          ]
        },
        {
          "metadata": {
            "tags": null
          },
          "name": "stdout",
          "output_type": "stream",
          "text": [
            "{'epoch': 1, 'iter': 0, 'avg_loss': 7.108290195465088, 'avg_acc': 46.875, 'loss': 7.108290195465088}\n",
            "Saved checkpoint model\n"
          ]
        },
        {
          "output_type": "stream",
          "name": "stderr",
          "text": [
            "EP_train:1:   1%|| 11/1327 [00:05<11:54,  1.84it/s]"
          ]
        },
        {
          "output_type": "stream",
          "name": "stdout",
          "text": [
            "{'epoch': 1, 'iter': 10, 'avg_loss': 6.482706720178777, 'avg_acc': 49.43181818181818, 'loss': 7.036828994750977}\n"
          ]
        },
        {
          "output_type": "stream",
          "name": "stderr",
          "text": [
            "EP_train:1:   2%|| 21/1327 [00:11<13:57,  1.56it/s]"
          ]
        },
        {
          "output_type": "stream",
          "name": "stdout",
          "text": [
            "{'epoch': 1, 'iter': 20, 'avg_loss': 6.606474422273182, 'avg_acc': 48.80952380952381, 'loss': 6.7763776779174805}\n"
          ]
        },
        {
          "output_type": "stream",
          "name": "stderr",
          "text": [
            "EP_train:1:   2%|| 31/1327 [00:17<12:03,  1.79it/s]"
          ]
        },
        {
          "output_type": "stream",
          "name": "stdout",
          "text": [
            "{'epoch': 1, 'iter': 30, 'avg_loss': 6.525045256460866, 'avg_acc': 48.79032258064516, 'loss': 6.372681140899658}\n"
          ]
        },
        {
          "output_type": "stream",
          "name": "stderr",
          "text": [
            "EP_train:1:   3%|| 41/1327 [00:23<13:19,  1.61it/s]"
          ]
        },
        {
          "output_type": "stream",
          "name": "stdout",
          "text": [
            "{'epoch': 1, 'iter': 40, 'avg_loss': 6.595431944219078, 'avg_acc': 49.542682926829265, 'loss': 7.037167549133301}\n"
          ]
        },
        {
          "output_type": "stream",
          "name": "stderr",
          "text": [
            "EP_train:1:   4%|| 51/1327 [00:29<12:21,  1.72it/s]"
          ]
        },
        {
          "output_type": "stream",
          "name": "stdout",
          "text": [
            "{'epoch': 1, 'iter': 50, 'avg_loss': 6.587541000515807, 'avg_acc': 49.01960784313725, 'loss': 6.571905136108398}\n"
          ]
        },
        {
          "output_type": "stream",
          "name": "stderr",
          "text": [
            "EP_train:1:   5%|| 61/1327 [00:35<11:50,  1.78it/s]"
          ]
        },
        {
          "output_type": "stream",
          "name": "stdout",
          "text": [
            "{'epoch': 1, 'iter': 60, 'avg_loss': 6.531221491391541, 'avg_acc': 49.02663934426229, 'loss': 6.52281379699707}\n"
          ]
        },
        {
          "output_type": "stream",
          "name": "stderr",
          "text": [
            "EP_train:1:   5%|| 71/1327 [00:41<11:44,  1.78it/s]"
          ]
        },
        {
          "output_type": "stream",
          "name": "stdout",
          "text": [
            "{'epoch': 1, 'iter': 70, 'avg_loss': 6.531310504590961, 'avg_acc': 49.07570422535211, 'loss': 6.565443515777588}\n"
          ]
        },
        {
          "output_type": "stream",
          "name": "stderr",
          "text": [
            "EP_train:1:   6%|| 81/1327 [00:46<11:15,  1.84it/s]"
          ]
        },
        {
          "output_type": "stream",
          "name": "stdout",
          "text": [
            "{'epoch': 1, 'iter': 80, 'avg_loss': 6.5618469038127385, 'avg_acc': 48.99691358024691, 'loss': 7.235918998718262}\n"
          ]
        },
        {
          "output_type": "stream",
          "name": "stderr",
          "text": [
            "EP_train:1:   7%|| 91/1327 [00:52<12:29,  1.65it/s]"
          ]
        },
        {
          "output_type": "stream",
          "name": "stdout",
          "text": [
            "{'epoch': 1, 'iter': 90, 'avg_loss': 6.585818023472042, 'avg_acc': 48.79807692307692, 'loss': 6.434009552001953}\n"
          ]
        },
        {
          "output_type": "stream",
          "name": "stderr",
          "text": [
            "EP_train:1:   8%|| 101/1327 [00:57<11:13,  1.82it/s]"
          ]
        },
        {
          "output_type": "stream",
          "name": "stdout",
          "text": [
            "{'epoch': 1, 'iter': 100, 'avg_loss': 6.613447581187333, 'avg_acc': 48.70049504950495, 'loss': 6.6015238761901855}\n"
          ]
        },
        {
          "output_type": "stream",
          "name": "stderr",
          "text": [
            "EP_train:1:   8%|| 111/1327 [01:03<10:56,  1.85it/s]"
          ]
        },
        {
          "output_type": "stream",
          "name": "stdout",
          "text": [
            "{'epoch': 1, 'iter': 110, 'avg_loss': 6.617370227435687, 'avg_acc': 48.789414414414416, 'loss': 6.42072868347168}\n"
          ]
        },
        {
          "output_type": "stream",
          "name": "stderr",
          "text": [
            "EP_train:1:   9%|| 121/1327 [01:09<11:12,  1.79it/s]"
          ]
        },
        {
          "output_type": "stream",
          "name": "stdout",
          "text": [
            "{'epoch': 1, 'iter': 120, 'avg_loss': 6.643581918448456, 'avg_acc': 49.070247933884296, 'loss': 6.341749668121338}\n"
          ]
        },
        {
          "output_type": "stream",
          "name": "stderr",
          "text": [
            "EP_train:1:  10%|| 131/1327 [01:14<10:43,  1.86it/s]"
          ]
        },
        {
          "output_type": "stream",
          "name": "stdout",
          "text": [
            "{'epoch': 1, 'iter': 130, 'avg_loss': 6.65727723463801, 'avg_acc': 49.61832061068702, 'loss': 6.567939758300781}\n"
          ]
        },
        {
          "output_type": "stream",
          "name": "stderr",
          "text": [
            "EP_train:1:  11%|| 141/1327 [01:20<12:06,  1.63it/s]"
          ]
        },
        {
          "output_type": "stream",
          "name": "stdout",
          "text": [
            "{'epoch': 1, 'iter': 140, 'avg_loss': 6.6532160745444875, 'avg_acc': 49.80053191489361, 'loss': 6.375087738037109}\n"
          ]
        },
        {
          "output_type": "stream",
          "name": "stderr",
          "text": [
            "EP_train:1:  11%|| 151/1327 [01:25<10:36,  1.85it/s]"
          ]
        },
        {
          "output_type": "stream",
          "name": "stdout",
          "text": [
            "{'epoch': 1, 'iter': 150, 'avg_loss': 6.663423711890417, 'avg_acc': 49.937913907284766, 'loss': 7.202819347381592}\n"
          ]
        },
        {
          "output_type": "stream",
          "name": "stderr",
          "text": [
            "EP_train:1:  12%|| 161/1327 [01:31<10:49,  1.79it/s]"
          ]
        },
        {
          "output_type": "stream",
          "name": "stdout",
          "text": [
            "{'epoch': 1, 'iter': 160, 'avg_loss': 6.669079285971126, 'avg_acc': 50.019409937888206, 'loss': 6.802474498748779}\n"
          ]
        },
        {
          "output_type": "stream",
          "name": "stderr",
          "text": [
            "EP_train:1:  13%|| 171/1327 [01:36<10:32,  1.83it/s]"
          ]
        },
        {
          "output_type": "stream",
          "name": "stdout",
          "text": [
            "{'epoch': 1, 'iter': 170, 'avg_loss': 6.6688003623694705, 'avg_acc': 50.03654970760234, 'loss': 6.846371650695801}\n"
          ]
        },
        {
          "output_type": "stream",
          "name": "stderr",
          "text": [
            "EP_train:1:  14%|| 181/1327 [01:42<10:11,  1.87it/s]"
          ]
        },
        {
          "output_type": "stream",
          "name": "stdout",
          "text": [
            "{'epoch': 1, 'iter': 180, 'avg_loss': 6.651646558751059, 'avg_acc': 50.103591160220994, 'loss': 6.398499488830566}\n"
          ]
        },
        {
          "output_type": "stream",
          "name": "stderr",
          "text": [
            "EP_train:1:  14%|| 191/1327 [01:48<11:21,  1.67it/s]"
          ]
        },
        {
          "output_type": "stream",
          "name": "stdout",
          "text": [
            "{'epoch': 1, 'iter': 190, 'avg_loss': 6.6490194160900815, 'avg_acc': 50.278141361256544, 'loss': 6.422512531280518}\n"
          ]
        },
        {
          "output_type": "stream",
          "name": "stderr",
          "text": [
            "EP_train:1:  15%|| 201/1327 [01:53<10:09,  1.85it/s]"
          ]
        },
        {
          "output_type": "stream",
          "name": "stdout",
          "text": [
            "{'epoch': 1, 'iter': 200, 'avg_loss': 6.645859594961897, 'avg_acc': 50.26430348258707, 'loss': 6.542071342468262}\n"
          ]
        },
        {
          "output_type": "stream",
          "name": "stderr",
          "text": [
            "EP_train:1:  16%|| 211/1327 [01:59<10:57,  1.70it/s]"
          ]
        },
        {
          "output_type": "stream",
          "name": "stdout",
          "text": [
            "{'epoch': 1, 'iter': 210, 'avg_loss': 6.645192363250877, 'avg_acc': 50.14810426540285, 'loss': 6.994568347930908}\n"
          ]
        },
        {
          "output_type": "stream",
          "name": "stderr",
          "text": [
            "EP_train:1:  17%|| 221/1327 [02:04<10:02,  1.84it/s]"
          ]
        },
        {
          "output_type": "stream",
          "name": "stdout",
          "text": [
            "{'epoch': 1, 'iter': 220, 'avg_loss': 6.657173385447506, 'avg_acc': 50.35350678733032, 'loss': 6.667822360992432}\n"
          ]
        },
        {
          "output_type": "stream",
          "name": "stderr",
          "text": [
            "EP_train:1:  17%|| 231/1327 [02:10<09:49,  1.86it/s]"
          ]
        },
        {
          "output_type": "stream",
          "name": "stdout",
          "text": [
            "{'epoch': 1, 'iter': 230, 'avg_loss': 6.66022118242272, 'avg_acc': 50.47348484848485, 'loss': 7.2328996658325195}\n"
          ]
        },
        {
          "output_type": "stream",
          "name": "stderr",
          "text": [
            "EP_train:1:  18%|| 241/1327 [02:15<10:16,  1.76it/s]"
          ]
        },
        {
          "output_type": "stream",
          "name": "stdout",
          "text": [
            "{'epoch': 1, 'iter': 240, 'avg_loss': 6.6506359191356355, 'avg_acc': 50.38900414937759, 'loss': 6.8094353675842285}\n"
          ]
        },
        {
          "output_type": "stream",
          "name": "stderr",
          "text": [
            "EP_train:1:  19%|| 251/1327 [02:21<09:43,  1.85it/s]"
          ]
        },
        {
          "output_type": "stream",
          "name": "stdout",
          "text": [
            "{'epoch': 1, 'iter': 250, 'avg_loss': 6.649641105378292, 'avg_acc': 50.36105577689243, 'loss': 7.139694690704346}\n"
          ]
        },
        {
          "output_type": "stream",
          "name": "stderr",
          "text": [
            "EP_train:1:  20%|| 261/1327 [02:27<10:47,  1.65it/s]"
          ]
        },
        {
          "output_type": "stream",
          "name": "stdout",
          "text": [
            "{'epoch': 1, 'iter': 260, 'avg_loss': 6.654129174477296, 'avg_acc': 50.287356321839084, 'loss': 6.851654052734375}\n"
          ]
        },
        {
          "output_type": "stream",
          "name": "stderr",
          "text": [
            "EP_train:1:  20%|| 271/1327 [02:32<09:38,  1.83it/s]"
          ]
        },
        {
          "output_type": "stream",
          "name": "stdout",
          "text": [
            "{'epoch': 1, 'iter': 270, 'avg_loss': 6.658700691377985, 'avg_acc': 50.43819188191881, 'loss': 6.806562900543213}\n"
          ]
        },
        {
          "output_type": "stream",
          "name": "stderr",
          "text": [
            "EP_train:1:  21%|| 281/1327 [02:38<10:24,  1.68it/s]"
          ]
        },
        {
          "output_type": "stream",
          "name": "stdout",
          "text": [
            "{'epoch': 1, 'iter': 280, 'avg_loss': 6.663997219126419, 'avg_acc': 50.28914590747331, 'loss': 6.777326583862305}\n"
          ]
        },
        {
          "output_type": "stream",
          "name": "stderr",
          "text": [
            "EP_train:1:  22%|| 291/1327 [02:44<10:03,  1.72it/s]"
          ]
        },
        {
          "output_type": "stream",
          "name": "stdout",
          "text": [
            "{'epoch': 1, 'iter': 290, 'avg_loss': 6.656756422364015, 'avg_acc': 50.30068728522337, 'loss': 6.999392032623291}\n"
          ]
        },
        {
          "output_type": "stream",
          "name": "stderr",
          "text": [
            "EP_train:1:  23%|| 301/1327 [02:49<09:08,  1.87it/s]"
          ]
        },
        {
          "output_type": "stream",
          "name": "stdout",
          "text": [
            "{'epoch': 1, 'iter': 300, 'avg_loss': 6.647117912571296, 'avg_acc': 50.31146179401993, 'loss': 6.641172409057617}\n",
            "Saved checkpoint model\n"
          ]
        },
        {
          "output_type": "stream",
          "name": "stderr",
          "text": [
            "EP_train:1:  23%|| 311/1327 [02:55<09:57,  1.70it/s]"
          ]
        },
        {
          "output_type": "stream",
          "name": "stdout",
          "text": [
            "{'epoch': 1, 'iter': 310, 'avg_loss': 6.6492820552691, 'avg_acc': 50.35168810289389, 'loss': 6.67678165435791}\n"
          ]
        },
        {
          "output_type": "stream",
          "name": "stderr",
          "text": [
            "EP_train:1:  24%|| 321/1327 [03:00<09:01,  1.86it/s]"
          ]
        },
        {
          "output_type": "stream",
          "name": "stdout",
          "text": [
            "{'epoch': 1, 'iter': 320, 'avg_loss': 6.653831872613259, 'avg_acc': 50.32126168224299, 'loss': 7.699387550354004}\n"
          ]
        },
        {
          "output_type": "stream",
          "name": "stderr",
          "text": [
            "EP_train:1:  25%|| 331/1327 [03:06<09:06,  1.82it/s]"
          ]
        },
        {
          "output_type": "stream",
          "name": "stdout",
          "text": [
            "{'epoch': 1, 'iter': 330, 'avg_loss': 6.658703423698864, 'avg_acc': 50.35876132930513, 'loss': 7.0258378982543945}\n"
          ]
        },
        {
          "output_type": "stream",
          "name": "stderr",
          "text": [
            "EP_train:1:  26%|| 341/1327 [03:12<09:07,  1.80it/s]"
          ]
        },
        {
          "output_type": "stream",
          "name": "stdout",
          "text": [
            "{'epoch': 1, 'iter': 340, 'avg_loss': 6.656368803768214, 'avg_acc': 50.44904692082112, 'loss': 6.538767337799072}\n"
          ]
        },
        {
          "output_type": "stream",
          "name": "stderr",
          "text": [
            "EP_train:1:  26%|| 351/1327 [03:17<08:37,  1.88it/s]"
          ]
        },
        {
          "output_type": "stream",
          "name": "stdout",
          "text": [
            "{'epoch': 1, 'iter': 350, 'avg_loss': 6.659449298836907, 'avg_acc': 50.41844729344729, 'loss': 6.964611530303955}\n"
          ]
        },
        {
          "output_type": "stream",
          "name": "stderr",
          "text": [
            "EP_train:1:  27%|| 361/1327 [03:23<09:34,  1.68it/s]"
          ]
        },
        {
          "output_type": "stream",
          "name": "stdout",
          "text": [
            "{'epoch': 1, 'iter': 360, 'avg_loss': 6.658156855945112, 'avg_acc': 50.476108033241, 'loss': 6.9393839836120605}\n"
          ]
        },
        {
          "output_type": "stream",
          "name": "stderr",
          "text": [
            "EP_train:1:  28%|| 371/1327 [03:28<08:47,  1.81it/s]"
          ]
        },
        {
          "output_type": "stream",
          "name": "stdout",
          "text": [
            "{'epoch': 1, 'iter': 370, 'avg_loss': 6.651640578421621, 'avg_acc': 50.429582210242586, 'loss': 6.757131576538086}\n"
          ]
        },
        {
          "output_type": "stream",
          "name": "stderr",
          "text": [
            "EP_train:1:  29%|| 381/1327 [03:34<08:29,  1.86it/s]"
          ]
        },
        {
          "output_type": "stream",
          "name": "stdout",
          "text": [
            "{'epoch': 1, 'iter': 380, 'avg_loss': 6.644006456290017, 'avg_acc': 50.36909448818898, 'loss': 6.782161712646484}\n"
          ]
        },
        {
          "output_type": "stream",
          "name": "stderr",
          "text": [
            "EP_train:1:  29%|| 391/1327 [03:39<08:40,  1.80it/s]"
          ]
        },
        {
          "output_type": "stream",
          "name": "stdout",
          "text": [
            "{'epoch': 1, 'iter': 390, 'avg_loss': 6.63934466905911, 'avg_acc': 50.35166240409207, 'loss': 6.101369857788086}\n"
          ]
        },
        {
          "output_type": "stream",
          "name": "stderr",
          "text": [
            "EP_train:1:  30%|| 401/1327 [03:45<08:24,  1.84it/s]"
          ]
        },
        {
          "output_type": "stream",
          "name": "stdout",
          "text": [
            "{'epoch': 1, 'iter': 400, 'avg_loss': 6.639535832583459, 'avg_acc': 50.27275561097257, 'loss': 6.5267229080200195}\n"
          ]
        },
        {
          "output_type": "stream",
          "name": "stderr",
          "text": [
            "EP_train:1:  31%|| 411/1327 [03:51<09:30,  1.60it/s]"
          ]
        },
        {
          "output_type": "stream",
          "name": "stdout",
          "text": [
            "{'epoch': 1, 'iter': 410, 'avg_loss': 6.635195495438402, 'avg_acc': 50.281326034063255, 'loss': 6.510637283325195}\n"
          ]
        },
        {
          "output_type": "stream",
          "name": "stderr",
          "text": [
            "EP_train:1:  32%|| 421/1327 [03:56<08:12,  1.84it/s]"
          ]
        },
        {
          "output_type": "stream",
          "name": "stdout",
          "text": [
            "{'epoch': 1, 'iter': 420, 'avg_loss': 6.6356049784571995, 'avg_acc': 50.20783847980997, 'loss': 6.142792701721191}\n"
          ]
        },
        {
          "output_type": "stream",
          "name": "stderr",
          "text": [
            "EP_train:1:  32%|| 431/1327 [04:02<08:43,  1.71it/s]"
          ]
        },
        {
          "output_type": "stream",
          "name": "stdout",
          "text": [
            "{'epoch': 1, 'iter': 430, 'avg_loss': 6.6360783056980495, 'avg_acc': 50.188515081206496, 'loss': 6.40362024307251}\n"
          ]
        },
        {
          "output_type": "stream",
          "name": "stderr",
          "text": [
            "EP_train:1:  33%|| 441/1327 [04:07<08:05,  1.82it/s]"
          ]
        },
        {
          "output_type": "stream",
          "name": "stdout",
          "text": [
            "{'epoch': 1, 'iter': 440, 'avg_loss': 6.628131412324452, 'avg_acc': 50.23384353741497, 'loss': 4.480875015258789}\n"
          ]
        },
        {
          "output_type": "stream",
          "name": "stderr",
          "text": [
            "EP_train:1:  34%|| 451/1327 [04:13<07:47,  1.88it/s]"
          ]
        },
        {
          "output_type": "stream",
          "name": "stdout",
          "text": [
            "{'epoch': 1, 'iter': 450, 'avg_loss': 6.629333304724514, 'avg_acc': 50.166297117516635, 'loss': 7.064393997192383}\n"
          ]
        },
        {
          "output_type": "stream",
          "name": "stderr",
          "text": [
            "EP_train:1:  35%|| 461/1327 [04:18<08:12,  1.76it/s]"
          ]
        },
        {
          "output_type": "stream",
          "name": "stdout",
          "text": [
            "{'epoch': 1, 'iter': 460, 'avg_loss': 6.63139483106369, 'avg_acc': 50.16946854663774, 'loss': 6.680980205535889}\n"
          ]
        },
        {
          "output_type": "stream",
          "name": "stderr",
          "text": [
            "EP_train:1:  35%|| 471/1327 [04:24<07:39,  1.86it/s]"
          ]
        },
        {
          "output_type": "stream",
          "name": "stdout",
          "text": [
            "{'epoch': 1, 'iter': 470, 'avg_loss': 6.62933730572905, 'avg_acc': 50.03317409766454, 'loss': 6.4720072746276855}\n"
          ]
        },
        {
          "output_type": "stream",
          "name": "stderr",
          "text": [
            "EP_train:1:  36%|| 481/1327 [04:29<08:08,  1.73it/s]"
          ]
        },
        {
          "output_type": "stream",
          "name": "stdout",
          "text": [
            "{'epoch': 1, 'iter': 480, 'avg_loss': 6.628983482749447, 'avg_acc': 50.1039501039501, 'loss': 6.421657085418701}\n"
          ]
        },
        {
          "output_type": "stream",
          "name": "stderr",
          "text": [
            "EP_train:1:  37%|| 491/1327 [04:35<07:30,  1.85it/s]"
          ]
        },
        {
          "output_type": "stream",
          "name": "stdout",
          "text": [
            "{'epoch': 1, 'iter': 490, 'avg_loss': 6.620011666641702, 'avg_acc': 50.19093686354379, 'loss': 6.434399604797363}\n"
          ]
        },
        {
          "output_type": "stream",
          "name": "stderr",
          "text": [
            "EP_train:1:  38%|| 501/1327 [04:40<07:31,  1.83it/s]"
          ]
        },
        {
          "output_type": "stream",
          "name": "stdout",
          "text": [
            "{'epoch': 1, 'iter': 500, 'avg_loss': 6.625531563977757, 'avg_acc': 50.1497005988024, 'loss': 6.607784748077393}\n"
          ]
        },
        {
          "output_type": "stream",
          "name": "stderr",
          "text": [
            "EP_train:1:  39%|| 511/1327 [04:46<07:43,  1.76it/s]"
          ]
        },
        {
          "output_type": "stream",
          "name": "stdout",
          "text": [
            "{'epoch': 1, 'iter': 510, 'avg_loss': 6.618811594296808, 'avg_acc': 50.20181017612525, 'loss': 6.565708160400391}\n"
          ]
        },
        {
          "output_type": "stream",
          "name": "stderr",
          "text": [
            "EP_train:1:  39%|| 521/1327 [04:52<07:12,  1.86it/s]"
          ]
        },
        {
          "output_type": "stream",
          "name": "stdout",
          "text": [
            "{'epoch': 1, 'iter': 520, 'avg_loss': 6.608938675695555, 'avg_acc': 50.11396353166987, 'loss': 6.296018600463867}\n"
          ]
        },
        {
          "output_type": "stream",
          "name": "stderr",
          "text": [
            "EP_train:1:  40%|| 531/1327 [04:57<07:48,  1.70it/s]"
          ]
        },
        {
          "output_type": "stream",
          "name": "stdout",
          "text": [
            "{'epoch': 1, 'iter': 530, 'avg_loss': 6.6092682962363725, 'avg_acc': 50.17066854990584, 'loss': 6.65011739730835}\n"
          ]
        },
        {
          "output_type": "stream",
          "name": "stderr",
          "text": [
            "EP_train:1:  41%|| 541/1327 [05:03<07:07,  1.84it/s]"
          ]
        },
        {
          "output_type": "stream",
          "name": "stdout",
          "text": [
            "{'epoch': 1, 'iter': 540, 'avg_loss': 6.605673782045431, 'avg_acc': 50.12707948243993, 'loss': 6.797236442565918}\n"
          ]
        },
        {
          "output_type": "stream",
          "name": "stderr",
          "text": [
            "EP_train:1:  42%|| 551/1327 [05:08<07:01,  1.84it/s]"
          ]
        },
        {
          "output_type": "stream",
          "name": "stdout",
          "text": [
            "{'epoch': 1, 'iter': 550, 'avg_loss': 6.6058060936832605, 'avg_acc': 50.17014519056261, 'loss': 6.184810161590576}\n"
          ]
        },
        {
          "output_type": "stream",
          "name": "stderr",
          "text": [
            "EP_train:1:  42%|| 561/1327 [05:14<07:06,  1.80it/s]"
          ]
        },
        {
          "output_type": "stream",
          "name": "stdout",
          "text": [
            "{'epoch': 1, 'iter': 560, 'avg_loss': 6.605810263152641, 'avg_acc': 50.189393939393945, 'loss': 6.863813877105713}\n"
          ]
        },
        {
          "output_type": "stream",
          "name": "stderr",
          "text": [
            "EP_train:1:  43%|| 571/1327 [05:19<06:47,  1.86it/s]"
          ]
        },
        {
          "output_type": "stream",
          "name": "stdout",
          "text": [
            "{'epoch': 1, 'iter': 570, 'avg_loss': 6.601146718040239, 'avg_acc': 50.1422942206655, 'loss': 6.085139274597168}\n"
          ]
        },
        {
          "output_type": "stream",
          "name": "stderr",
          "text": [
            "EP_train:1:  44%|| 581/1327 [05:25<07:36,  1.64it/s]"
          ]
        },
        {
          "output_type": "stream",
          "name": "stdout",
          "text": [
            "{'epoch': 1, 'iter': 580, 'avg_loss': 6.601124136460217, 'avg_acc': 50.1828743545611, 'loss': 6.337532997131348}\n"
          ]
        },
        {
          "output_type": "stream",
          "name": "stderr",
          "text": [
            "EP_train:1:  45%|| 591/1327 [05:31<06:40,  1.84it/s]"
          ]
        },
        {
          "output_type": "stream",
          "name": "stdout",
          "text": [
            "{'epoch': 1, 'iter': 590, 'avg_loss': 6.602891790483607, 'avg_acc': 50.22208121827412, 'loss': 6.629458904266357}\n"
          ]
        },
        {
          "output_type": "stream",
          "name": "stderr",
          "text": [
            "EP_train:1:  45%|| 601/1327 [05:36<06:51,  1.77it/s]"
          ]
        },
        {
          "output_type": "stream",
          "name": "stdout",
          "text": [
            "{'epoch': 1, 'iter': 600, 'avg_loss': 6.599536230084107, 'avg_acc': 50.2599833610649, 'loss': 6.712250709533691}\n",
            "Saved checkpoint model\n"
          ]
        },
        {
          "output_type": "stream",
          "name": "stderr",
          "text": [
            "EP_train:1:  46%|| 611/1327 [05:42<06:33,  1.82it/s]"
          ]
        },
        {
          "output_type": "stream",
          "name": "stdout",
          "text": [
            "{'epoch': 1, 'iter': 610, 'avg_loss': 6.595973565808685, 'avg_acc': 50.26595744680851, 'loss': 6.011958122253418}\n"
          ]
        },
        {
          "output_type": "stream",
          "name": "stderr",
          "text": [
            "EP_train:1:  47%|| 621/1327 [05:47<06:19,  1.86it/s]"
          ]
        },
        {
          "output_type": "stream",
          "name": "stdout",
          "text": [
            "{'epoch': 1, 'iter': 620, 'avg_loss': 6.588915678230077, 'avg_acc': 50.28683574879227, 'loss': 7.047766208648682}\n"
          ]
        },
        {
          "output_type": "stream",
          "name": "stderr",
          "text": [
            "EP_train:1:  48%|| 631/1327 [05:53<06:55,  1.67it/s]"
          ]
        },
        {
          "output_type": "stream",
          "name": "stdout",
          "text": [
            "{'epoch': 1, 'iter': 630, 'avg_loss': 6.587348311525517, 'avg_acc': 50.26743264659272, 'loss': 6.7109527587890625}\n"
          ]
        },
        {
          "output_type": "stream",
          "name": "stderr",
          "text": [
            "EP_train:1:  48%|| 641/1327 [05:58<06:10,  1.85it/s]"
          ]
        },
        {
          "output_type": "stream",
          "name": "stdout",
          "text": [
            "{'epoch': 1, 'iter': 640, 'avg_loss': 6.588732232913584, 'avg_acc': 50.33151326053043, 'loss': 6.398856163024902}\n"
          ]
        },
        {
          "output_type": "stream",
          "name": "stderr",
          "text": [
            "EP_train:1:  49%|| 651/1327 [06:04<06:28,  1.74it/s]"
          ]
        },
        {
          "output_type": "stream",
          "name": "stdout",
          "text": [
            "{'epoch': 1, 'iter': 650, 'avg_loss': 6.586917043647825, 'avg_acc': 50.369623655913976, 'loss': 6.963272571563721}\n"
          ]
        },
        {
          "output_type": "stream",
          "name": "stderr",
          "text": [
            "EP_train:1:  50%|| 661/1327 [06:09<06:02,  1.84it/s]"
          ]
        },
        {
          "output_type": "stream",
          "name": "stdout",
          "text": [
            "{'epoch': 1, 'iter': 660, 'avg_loss': 6.589412371077083, 'avg_acc': 50.31202723146747, 'loss': 7.044024467468262}\n"
          ]
        },
        {
          "output_type": "stream",
          "name": "stderr",
          "text": [
            "EP_train:1:  51%|| 671/1327 [06:15<05:56,  1.84it/s]"
          ]
        },
        {
          "output_type": "stream",
          "name": "stdout",
          "text": [
            "{'epoch': 1, 'iter': 670, 'avg_loss': 6.591211307599541, 'avg_acc': 50.209575260804776, 'loss': 5.606771945953369}\n"
          ]
        },
        {
          "output_type": "stream",
          "name": "stderr",
          "text": [
            "EP_train:1:  51%|| 681/1327 [06:20<06:07,  1.76it/s]"
          ]
        },
        {
          "output_type": "stream",
          "name": "stdout",
          "text": [
            "{'epoch': 1, 'iter': 680, 'avg_loss': 6.593159193859576, 'avg_acc': 50.22944199706314, 'loss': 6.514346599578857}\n"
          ]
        },
        {
          "output_type": "stream",
          "name": "stderr",
          "text": [
            "EP_train:1:  52%|| 691/1327 [06:26<05:45,  1.84it/s]"
          ]
        },
        {
          "output_type": "stream",
          "name": "stdout",
          "text": [
            "{'epoch': 1, 'iter': 690, 'avg_loss': 6.588996901008396, 'avg_acc': 50.280390738060774, 'loss': 7.244255065917969}\n"
          ]
        },
        {
          "output_type": "stream",
          "name": "stderr",
          "text": [
            "EP_train:1:  53%|| 701/1327 [06:32<06:11,  1.69it/s]"
          ]
        },
        {
          "output_type": "stream",
          "name": "stdout",
          "text": [
            "{'epoch': 1, 'iter': 700, 'avg_loss': 6.588183645855173, 'avg_acc': 50.23626961483595, 'loss': 6.139106750488281}\n"
          ]
        },
        {
          "output_type": "stream",
          "name": "stderr",
          "text": [
            "EP_train:1:  54%|| 711/1327 [06:37<05:41,  1.81it/s]"
          ]
        },
        {
          "output_type": "stream",
          "name": "stdout",
          "text": [
            "{'epoch': 1, 'iter': 710, 'avg_loss': 6.585249359597636, 'avg_acc': 50.259317862165965, 'loss': 7.209508895874023}\n"
          ]
        },
        {
          "output_type": "stream",
          "name": "stderr",
          "text": [
            "EP_train:1:  54%|| 721/1327 [06:43<05:56,  1.70it/s]"
          ]
        },
        {
          "output_type": "stream",
          "name": "stdout",
          "text": [
            "{'epoch': 1, 'iter': 720, 'avg_loss': 6.586651784867751, 'avg_acc': 50.268723994452145, 'loss': 6.545325756072998}\n"
          ]
        },
        {
          "output_type": "stream",
          "name": "stderr",
          "text": [
            "EP_train:1:  55%|| 731/1327 [06:49<05:42,  1.74it/s]"
          ]
        },
        {
          "output_type": "stream",
          "name": "stdout",
          "text": [
            "{'epoch': 1, 'iter': 730, 'avg_loss': 6.5847095151606405, 'avg_acc': 50.24794801641587, 'loss': 5.630156993865967}\n"
          ]
        },
        {
          "output_type": "stream",
          "name": "stderr",
          "text": [
            "EP_train:1:  56%|| 741/1327 [06:54<05:14,  1.86it/s]"
          ]
        },
        {
          "output_type": "stream",
          "name": "stdout",
          "text": [
            "{'epoch': 1, 'iter': 740, 'avg_loss': 6.585418862691614, 'avg_acc': 50.24460188933874, 'loss': 7.024580955505371}\n"
          ]
        },
        {
          "output_type": "stream",
          "name": "stderr",
          "text": [
            "EP_train:1:  57%|| 751/1327 [07:00<05:37,  1.71it/s]"
          ]
        },
        {
          "output_type": "stream",
          "name": "stdout",
          "text": [
            "{'epoch': 1, 'iter': 750, 'avg_loss': 6.584984382522725, 'avg_acc': 50.291278295605856, 'loss': 6.2713494300842285}\n"
          ]
        },
        {
          "output_type": "stream",
          "name": "stderr",
          "text": [
            "EP_train:1:  57%|| 761/1327 [07:05<05:05,  1.85it/s]"
          ]
        },
        {
          "output_type": "stream",
          "name": "stdout",
          "text": [
            "{'epoch': 1, 'iter': 760, 'avg_loss': 6.582617030350513, 'avg_acc': 50.26281208935611, 'loss': 7.012950420379639}\n"
          ]
        },
        {
          "output_type": "stream",
          "name": "stderr",
          "text": [
            "EP_train:1:  58%|| 771/1327 [07:11<04:58,  1.86it/s]"
          ]
        },
        {
          "output_type": "stream",
          "name": "stdout",
          "text": [
            "{'epoch': 1, 'iter': 770, 'avg_loss': 6.579347687163397, 'avg_acc': 50.23508430609598, 'loss': 6.279200553894043}\n"
          ]
        },
        {
          "output_type": "stream",
          "name": "stderr",
          "text": [
            "EP_train:1:  59%|| 781/1327 [07:17<05:05,  1.79it/s]"
          ]
        },
        {
          "output_type": "stream",
          "name": "stdout",
          "text": [
            "{'epoch': 1, 'iter': 780, 'avg_loss': 6.577750693820655, 'avg_acc': 50.20806658130602, 'loss': 5.907506465911865}\n"
          ]
        },
        {
          "output_type": "stream",
          "name": "stderr",
          "text": [
            "EP_train:1:  60%|| 791/1327 [07:22<04:44,  1.89it/s]"
          ]
        },
        {
          "output_type": "stream",
          "name": "stdout",
          "text": [
            "{'epoch': 1, 'iter': 790, 'avg_loss': 6.576507148790902, 'avg_acc': 50.288400758533506, 'loss': 6.174366474151611}\n"
          ]
        },
        {
          "output_type": "stream",
          "name": "stderr",
          "text": [
            "EP_train:1:  60%|| 801/1327 [07:28<05:16,  1.66it/s]"
          ]
        },
        {
          "output_type": "stream",
          "name": "stdout",
          "text": [
            "{'epoch': 1, 'iter': 800, 'avg_loss': 6.578568167454295, 'avg_acc': 50.31601123595506, 'loss': 6.631156921386719}\n"
          ]
        },
        {
          "output_type": "stream",
          "name": "stderr",
          "text": [
            "EP_train:1:  61%|| 811/1327 [07:33<04:40,  1.84it/s]"
          ]
        },
        {
          "output_type": "stream",
          "name": "stdout",
          "text": [
            "{'epoch': 1, 'iter': 810, 'avg_loss': 6.579740384945005, 'avg_acc': 50.31211467324292, 'loss': 6.363924026489258}\n"
          ]
        },
        {
          "output_type": "stream",
          "name": "stderr",
          "text": [
            "EP_train:1:  62%|| 821/1327 [07:39<04:41,  1.79it/s]"
          ]
        },
        {
          "output_type": "stream",
          "name": "stdout",
          "text": [
            "{'epoch': 1, 'iter': 820, 'avg_loss': 6.576798364683423, 'avg_acc': 50.28547503045067, 'loss': 6.432648658752441}\n"
          ]
        },
        {
          "output_type": "stream",
          "name": "stderr",
          "text": [
            "EP_train:1:  63%|| 831/1327 [07:44<04:31,  1.82it/s]"
          ]
        },
        {
          "output_type": "stream",
          "name": "stdout",
          "text": [
            "{'epoch': 1, 'iter': 830, 'avg_loss': 6.57985676181302, 'avg_acc': 50.30836341756919, 'loss': 6.793717861175537}\n"
          ]
        },
        {
          "output_type": "stream",
          "name": "stderr",
          "text": [
            "EP_train:1:  63%|| 841/1327 [07:50<04:27,  1.82it/s]"
          ]
        },
        {
          "output_type": "stream",
          "name": "stdout",
          "text": [
            "{'epoch': 1, 'iter': 840, 'avg_loss': 6.5807835928183245, 'avg_acc': 50.33813912009513, 'loss': 6.827037811279297}\n"
          ]
        },
        {
          "output_type": "stream",
          "name": "stderr",
          "text": [
            "EP_train:1:  64%|| 851/1327 [07:56<04:43,  1.68it/s]"
          ]
        },
        {
          "output_type": "stream",
          "name": "stdout",
          "text": [
            "{'epoch': 1, 'iter': 850, 'avg_loss': 6.579893095372847, 'avg_acc': 50.359870740305524, 'loss': 6.9551849365234375}\n"
          ]
        },
        {
          "output_type": "stream",
          "name": "stderr",
          "text": [
            "EP_train:1:  65%|| 861/1327 [08:01<04:15,  1.82it/s]"
          ]
        },
        {
          "output_type": "stream",
          "name": "stdout",
          "text": [
            "{'epoch': 1, 'iter': 860, 'avg_loss': 6.579629425664674, 'avg_acc': 50.33391405342624, 'loss': 5.863885879516602}\n"
          ]
        },
        {
          "output_type": "stream",
          "name": "stderr",
          "text": [
            "EP_train:1:  66%|| 871/1327 [08:07<04:28,  1.70it/s]"
          ]
        },
        {
          "output_type": "stream",
          "name": "stdout",
          "text": [
            "{'epoch': 1, 'iter': 870, 'avg_loss': 6.580812937082845, 'avg_acc': 50.34801951779564, 'loss': 6.888443470001221}\n"
          ]
        },
        {
          "output_type": "stream",
          "name": "stderr",
          "text": [
            "EP_train:1:  66%|| 881/1327 [08:12<04:04,  1.83it/s]"
          ]
        },
        {
          "output_type": "stream",
          "name": "stdout",
          "text": [
            "{'epoch': 1, 'iter': 880, 'avg_loss': 6.5799263100077425, 'avg_acc': 50.354710556186156, 'loss': 7.040815830230713}\n"
          ]
        },
        {
          "output_type": "stream",
          "name": "stderr",
          "text": [
            "EP_train:1:  67%|| 891/1327 [08:18<03:53,  1.87it/s]"
          ]
        },
        {
          "output_type": "stream",
          "name": "stdout",
          "text": [
            "{'epoch': 1, 'iter': 890, 'avg_loss': 6.576785071530326, 'avg_acc': 50.375280583613915, 'loss': 6.877387523651123}\n"
          ]
        },
        {
          "output_type": "stream",
          "name": "stderr",
          "text": [
            "EP_train:1:  68%|| 901/1327 [08:23<03:59,  1.78it/s]"
          ]
        },
        {
          "output_type": "stream",
          "name": "stdout",
          "text": [
            "{'epoch': 1, 'iter': 900, 'avg_loss': 6.578655739338628, 'avg_acc': 50.37458379578247, 'loss': 6.910975933074951}\n",
            "Saved checkpoint model\n"
          ]
        },
        {
          "output_type": "stream",
          "name": "stderr",
          "text": [
            "EP_train:1:  69%|| 911/1327 [08:29<03:46,  1.84it/s]"
          ]
        },
        {
          "output_type": "stream",
          "name": "stdout",
          "text": [
            "{'epoch': 1, 'iter': 910, 'avg_loss': 6.579084356582256, 'avg_acc': 50.336169045005484, 'loss': 6.770972728729248}\n"
          ]
        },
        {
          "output_type": "stream",
          "name": "stderr",
          "text": [
            "EP_train:1:  69%|| 921/1327 [08:34<04:02,  1.68it/s]"
          ]
        },
        {
          "output_type": "stream",
          "name": "stdout",
          "text": [
            "{'epoch': 1, 'iter': 920, 'avg_loss': 6.57949350296998, 'avg_acc': 50.32912595005429, 'loss': 6.175058364868164}\n"
          ]
        },
        {
          "output_type": "stream",
          "name": "stderr",
          "text": [
            "EP_train:1:  70%|| 931/1327 [08:40<03:34,  1.85it/s]"
          ]
        },
        {
          "output_type": "stream",
          "name": "stdout",
          "text": [
            "{'epoch': 1, 'iter': 930, 'avg_loss': 6.58077355639891, 'avg_acc': 50.318877551020414, 'loss': 6.303145885467529}\n"
          ]
        },
        {
          "output_type": "stream",
          "name": "stderr",
          "text": [
            "EP_train:1:  71%|| 941/1327 [08:45<03:33,  1.81it/s]"
          ]
        },
        {
          "output_type": "stream",
          "name": "stdout",
          "text": [
            "{'epoch': 1, 'iter': 940, 'avg_loss': 6.577450623041005, 'avg_acc': 50.33209351753454, 'loss': 6.808482646942139}\n"
          ]
        },
        {
          "output_type": "stream",
          "name": "stderr",
          "text": [
            "EP_train:1:  72%|| 951/1327 [08:51<03:29,  1.80it/s]"
          ]
        },
        {
          "output_type": "stream",
          "name": "stdout",
          "text": [
            "{'epoch': 1, 'iter': 950, 'avg_loss': 6.579589302231461, 'avg_acc': 50.308885383806526, 'loss': 6.724788188934326}\n"
          ]
        },
        {
          "output_type": "stream",
          "name": "stderr",
          "text": [
            "EP_train:1:  72%|| 961/1327 [08:57<03:19,  1.83it/s]"
          ]
        },
        {
          "output_type": "stream",
          "name": "stdout",
          "text": [
            "{'epoch': 1, 'iter': 960, 'avg_loss': 6.579510547864201, 'avg_acc': 50.29916753381893, 'loss': 6.132246017456055}\n"
          ]
        },
        {
          "output_type": "stream",
          "name": "stderr",
          "text": [
            "EP_train:1:  73%|| 971/1327 [09:03<03:45,  1.58it/s]"
          ]
        },
        {
          "output_type": "stream",
          "name": "stdout",
          "text": [
            "{'epoch': 1, 'iter': 970, 'avg_loss': 6.5782976258549954, 'avg_acc': 50.27355818743563, 'loss': 6.547405242919922}\n"
          ]
        },
        {
          "output_type": "stream",
          "name": "stderr",
          "text": [
            "EP_train:1:  74%|| 981/1327 [09:08<03:07,  1.85it/s]"
          ]
        },
        {
          "output_type": "stream",
          "name": "stdout",
          "text": [
            "{'epoch': 1, 'iter': 980, 'avg_loss': 6.577564836399028, 'avg_acc': 50.25165647298675, 'loss': 6.191848278045654}\n"
          ]
        },
        {
          "output_type": "stream",
          "name": "stderr",
          "text": [
            "EP_train:1:  75%|| 991/1327 [09:14<03:06,  1.80it/s]"
          ]
        },
        {
          "output_type": "stream",
          "name": "stdout",
          "text": [
            "{'epoch': 1, 'iter': 990, 'avg_loss': 6.577760519822599, 'avg_acc': 50.2648839556004, 'loss': 5.339761257171631}\n"
          ]
        },
        {
          "output_type": "stream",
          "name": "stderr",
          "text": [
            "EP_train:1:  75%|| 1001/1327 [09:19<03:00,  1.80it/s]"
          ]
        },
        {
          "output_type": "stream",
          "name": "stdout",
          "text": [
            "{'epoch': 1, 'iter': 1000, 'avg_loss': 6.577798284136213, 'avg_acc': 50.27472527472527, 'loss': 7.056865215301514}\n"
          ]
        },
        {
          "output_type": "stream",
          "name": "stderr",
          "text": [
            "EP_train:1:  76%|| 1011/1327 [09:25<02:50,  1.85it/s]"
          ]
        },
        {
          "output_type": "stream",
          "name": "stdout",
          "text": [
            "{'epoch': 1, 'iter': 1010, 'avg_loss': 6.578972844294578, 'avg_acc': 50.27200791295747, 'loss': 6.935501575469971}\n"
          ]
        },
        {
          "output_type": "stream",
          "name": "stderr",
          "text": [
            "EP_train:1:  77%|| 1021/1327 [09:31<03:02,  1.68it/s]"
          ]
        },
        {
          "output_type": "stream",
          "name": "stdout",
          "text": [
            "{'epoch': 1, 'iter': 1020, 'avg_loss': 6.578168178748897, 'avg_acc': 50.287708129285015, 'loss': 7.087092876434326}\n"
          ]
        },
        {
          "output_type": "stream",
          "name": "stderr",
          "text": [
            "EP_train:1:  78%|| 1031/1327 [09:36<02:39,  1.85it/s]"
          ]
        },
        {
          "output_type": "stream",
          "name": "stdout",
          "text": [
            "{'epoch': 1, 'iter': 1030, 'avg_loss': 6.577853624157022, 'avg_acc': 50.30613482056256, 'loss': 5.819960594177246}\n"
          ]
        },
        {
          "output_type": "stream",
          "name": "stderr",
          "text": [
            "EP_train:1:  78%|| 1041/1327 [09:42<02:50,  1.68it/s]"
          ]
        },
        {
          "output_type": "stream",
          "name": "stdout",
          "text": [
            "{'epoch': 1, 'iter': 1040, 'avg_loss': 6.57808064360898, 'avg_acc': 50.30919788664745, 'loss': 6.029034614562988}\n"
          ]
        },
        {
          "output_type": "stream",
          "name": "stderr",
          "text": [
            "EP_train:1:  79%|| 1051/1327 [09:47<02:30,  1.84it/s]"
          ]
        },
        {
          "output_type": "stream",
          "name": "stdout",
          "text": [
            "{'epoch': 1, 'iter': 1050, 'avg_loss': 6.579379114846067, 'avg_acc': 50.30030922930543, 'loss': 6.853928089141846}\n"
          ]
        },
        {
          "output_type": "stream",
          "name": "stderr",
          "text": [
            "EP_train:1:  80%|| 1061/1327 [09:53<02:22,  1.87it/s]"
          ]
        },
        {
          "output_type": "stream",
          "name": "stdout",
          "text": [
            "{'epoch': 1, 'iter': 1060, 'avg_loss': 6.580359932165119, 'avg_acc': 50.28275212064091, 'loss': 6.8600921630859375}\n"
          ]
        },
        {
          "output_type": "stream",
          "name": "stderr",
          "text": [
            "EP_train:1:  81%|| 1071/1327 [09:58<02:26,  1.75it/s]"
          ]
        },
        {
          "output_type": "stream",
          "name": "stdout",
          "text": [
            "{'epoch': 1, 'iter': 1070, 'avg_loss': 6.57764662057857, 'avg_acc': 50.335550887021476, 'loss': 6.987792491912842}\n"
          ]
        },
        {
          "output_type": "stream",
          "name": "stderr",
          "text": [
            "EP_train:1:  81%|| 1081/1327 [10:04<02:13,  1.84it/s]"
          ]
        },
        {
          "output_type": "stream",
          "name": "stdout",
          "text": [
            "{'epoch': 1, 'iter': 1080, 'avg_loss': 6.575149913720794, 'avg_acc': 50.38159111933395, 'loss': 6.327366828918457}\n"
          ]
        },
        {
          "output_type": "stream",
          "name": "stderr",
          "text": [
            "EP_train:1:  82%|| 1091/1327 [10:09<02:21,  1.67it/s]"
          ]
        },
        {
          "output_type": "stream",
          "name": "stdout",
          "text": [
            "{'epoch': 1, 'iter': 1090, 'avg_loss': 6.574321646738445, 'avg_acc': 50.358043079743354, 'loss': 6.156584739685059}\n"
          ]
        },
        {
          "output_type": "stream",
          "name": "stderr",
          "text": [
            "EP_train:1:  83%|| 1101/1327 [10:15<02:03,  1.83it/s]"
          ]
        },
        {
          "output_type": "stream",
          "name": "stdout",
          "text": [
            "{'epoch': 1, 'iter': 1100, 'avg_loss': 6.574914103307906, 'avg_acc': 50.343437783832876, 'loss': 7.274057388305664}\n"
          ]
        },
        {
          "output_type": "stream",
          "name": "stderr",
          "text": [
            "EP_train:1:  84%|| 1111/1327 [10:20<01:56,  1.85it/s]"
          ]
        },
        {
          "output_type": "stream",
          "name": "stdout",
          "text": [
            "{'epoch': 1, 'iter': 1110, 'avg_loss': 6.57458737001668, 'avg_acc': 50.312218721872185, 'loss': 5.782868385314941}\n"
          ]
        },
        {
          "output_type": "stream",
          "name": "stderr",
          "text": [
            "EP_train:1:  84%|| 1121/1327 [10:26<01:54,  1.80it/s]"
          ]
        },
        {
          "output_type": "stream",
          "name": "stdout",
          "text": [
            "{'epoch': 1, 'iter': 1120, 'avg_loss': 6.575551696168217, 'avg_acc': 50.28155664585192, 'loss': 6.651010513305664}\n"
          ]
        },
        {
          "output_type": "stream",
          "name": "stderr",
          "text": [
            "EP_train:1:  85%|| 1131/1327 [10:32<01:47,  1.83it/s]"
          ]
        },
        {
          "output_type": "stream",
          "name": "stdout",
          "text": [
            "{'epoch': 1, 'iter': 1130, 'avg_loss': 6.576200857508193, 'avg_acc': 50.276304155614504, 'loss': 6.470676422119141}\n"
          ]
        },
        {
          "output_type": "stream",
          "name": "stderr",
          "text": [
            "EP_train:1:  86%|| 1141/1327 [10:38<01:52,  1.65it/s]"
          ]
        },
        {
          "output_type": "stream",
          "name": "stdout",
          "text": [
            "{'epoch': 1, 'iter': 1140, 'avg_loss': 6.577671748937796, 'avg_acc': 50.273882559158636, 'loss': 6.824100017547607}\n"
          ]
        },
        {
          "output_type": "stream",
          "name": "stderr",
          "text": [
            "EP_train:1:  87%|| 1151/1327 [10:43<01:42,  1.72it/s]"
          ]
        },
        {
          "output_type": "stream",
          "name": "stdout",
          "text": [
            "{'epoch': 1, 'iter': 1150, 'avg_loss': 6.576720715397653, 'avg_acc': 50.249782797567335, 'loss': 6.487340927124023}\n"
          ]
        },
        {
          "output_type": "stream",
          "name": "stderr",
          "text": [
            "EP_train:1:  87%|| 1161/1327 [10:49<01:40,  1.65it/s]"
          ]
        },
        {
          "output_type": "stream",
          "name": "stdout",
          "text": [
            "{'epoch': 1, 'iter': 1160, 'avg_loss': 6.577271429861957, 'avg_acc': 50.277239448751075, 'loss': 6.086867809295654}\n"
          ]
        },
        {
          "output_type": "stream",
          "name": "stderr",
          "text": [
            "EP_train:1:  88%|| 1171/1327 [10:55<01:26,  1.80it/s]"
          ]
        },
        {
          "output_type": "stream",
          "name": "stdout",
          "text": [
            "{'epoch': 1, 'iter': 1170, 'avg_loss': 6.578085044629548, 'avg_acc': 50.2668659265585, 'loss': 6.873775959014893}\n"
          ]
        },
        {
          "output_type": "stream",
          "name": "stderr",
          "text": [
            "EP_train:1:  89%|| 1181/1327 [11:00<01:18,  1.86it/s]"
          ]
        },
        {
          "output_type": "stream",
          "name": "stdout",
          "text": [
            "{'epoch': 1, 'iter': 1180, 'avg_loss': 6.577910706716307, 'avg_acc': 50.25931414055885, 'loss': 7.144555568695068}\n"
          ]
        },
        {
          "output_type": "stream",
          "name": "stderr",
          "text": [
            "EP_train:1:  90%|| 1191/1327 [11:06<01:17,  1.76it/s]"
          ]
        },
        {
          "output_type": "stream",
          "name": "stdout",
          "text": [
            "{'epoch': 1, 'iter': 1190, 'avg_loss': 6.575059745013464, 'avg_acc': 50.265008396305625, 'loss': 6.031274795532227}\n"
          ]
        },
        {
          "output_type": "stream",
          "name": "stderr",
          "text": [
            "EP_train:1:  91%|| 1201/1327 [11:11<01:08,  1.85it/s]"
          ]
        },
        {
          "output_type": "stream",
          "name": "stdout",
          "text": [
            "{'epoch': 1, 'iter': 1200, 'avg_loss': 6.573205394808398, 'avg_acc': 50.29402581182348, 'loss': 6.61866569519043}\n",
            "Saved checkpoint model\n"
          ]
        },
        {
          "output_type": "stream",
          "name": "stderr",
          "text": [
            "EP_train:1:  91%|| 1211/1327 [11:17<01:08,  1.70it/s]"
          ]
        },
        {
          "output_type": "stream",
          "name": "stdout",
          "text": [
            "{'epoch': 1, 'iter': 1210, 'avg_loss': 6.571676129452165, 'avg_acc': 50.28385631709331, 'loss': 6.637469291687012}\n"
          ]
        },
        {
          "output_type": "stream",
          "name": "stderr",
          "text": [
            "EP_train:1:  92%|| 1221/1327 [11:23<00:57,  1.85it/s]"
          ]
        },
        {
          "output_type": "stream",
          "name": "stdout",
          "text": [
            "{'epoch': 1, 'iter': 1220, 'avg_loss': 6.570648343713434, 'avg_acc': 50.26361588861589, 'loss': 6.41047477722168}\n"
          ]
        },
        {
          "output_type": "stream",
          "name": "stderr",
          "text": [
            "EP_train:1:  93%|| 1231/1327 [11:28<00:51,  1.87it/s]"
          ]
        },
        {
          "output_type": "stream",
          "name": "stdout",
          "text": [
            "{'epoch': 1, 'iter': 1230, 'avg_loss': 6.571106638780559, 'avg_acc': 50.29701462225833, 'loss': 6.147581100463867}\n"
          ]
        },
        {
          "output_type": "stream",
          "name": "stderr",
          "text": [
            "EP_train:1:  94%|| 1241/1327 [11:34<00:48,  1.77it/s]"
          ]
        },
        {
          "output_type": "stream",
          "name": "stdout",
          "text": [
            "{'epoch': 1, 'iter': 1240, 'avg_loss': 6.572198482793151, 'avg_acc': 50.30217566478646, 'loss': 6.449601650238037}\n"
          ]
        },
        {
          "output_type": "stream",
          "name": "stderr",
          "text": [
            "EP_train:1:  94%|| 1251/1327 [11:39<00:41,  1.84it/s]"
          ]
        },
        {
          "output_type": "stream",
          "name": "stdout",
          "text": [
            "{'epoch': 1, 'iter': 1250, 'avg_loss': 6.573589125983149, 'avg_acc': 50.25979216626698, 'loss': 6.9791669845581055}\n"
          ]
        },
        {
          "output_type": "stream",
          "name": "stderr",
          "text": [
            "EP_train:1:  95%|| 1261/1327 [11:45<00:40,  1.64it/s]"
          ]
        },
        {
          "output_type": "stream",
          "name": "stdout",
          "text": [
            "{'epoch': 1, 'iter': 1260, 'avg_loss': 6.571901788416597, 'avg_acc': 50.210646312450436, 'loss': 6.4302897453308105}\n"
          ]
        },
        {
          "output_type": "stream",
          "name": "stderr",
          "text": [
            "EP_train:1:  96%|| 1271/1327 [11:51<00:30,  1.86it/s]"
          ]
        },
        {
          "output_type": "stream",
          "name": "stdout",
          "text": [
            "{'epoch': 1, 'iter': 1270, 'avg_loss': 6.572535837099929, 'avg_acc': 50.17702596380803, 'loss': 6.062929630279541}\n"
          ]
        },
        {
          "output_type": "stream",
          "name": "stderr",
          "text": [
            "EP_train:1:  97%|| 1281/1327 [11:56<00:24,  1.85it/s]"
          ]
        },
        {
          "output_type": "stream",
          "name": "stdout",
          "text": [
            "{'epoch': 1, 'iter': 1280, 'avg_loss': 6.572329296347315, 'avg_acc': 50.1585675253708, 'loss': 6.710468292236328}\n"
          ]
        },
        {
          "output_type": "stream",
          "name": "stderr",
          "text": [
            "EP_train:1:  97%|| 1291/1327 [12:02<00:19,  1.80it/s]"
          ]
        },
        {
          "output_type": "stream",
          "name": "stdout",
          "text": [
            "{'epoch': 1, 'iter': 1290, 'avg_loss': 6.572440159588614, 'avg_acc': 50.14281564678543, 'loss': 6.223392963409424}\n"
          ]
        },
        {
          "output_type": "stream",
          "name": "stderr",
          "text": [
            "EP_train:1:  98%|| 1301/1327 [12:07<00:14,  1.83it/s]"
          ]
        },
        {
          "output_type": "stream",
          "name": "stdout",
          "text": [
            "{'epoch': 1, 'iter': 1300, 'avg_loss': 6.572664744298701, 'avg_acc': 50.11769792467333, 'loss': 6.533585548400879}\n"
          ]
        },
        {
          "output_type": "stream",
          "name": "stderr",
          "text": [
            "EP_train:1:  99%|| 1311/1327 [12:13<00:10,  1.60it/s]"
          ]
        },
        {
          "output_type": "stream",
          "name": "stdout",
          "text": [
            "{'epoch': 1, 'iter': 1310, 'avg_loss': 6.571369953140969, 'avg_acc': 50.123951182303585, 'loss': 6.132957935333252}\n"
          ]
        },
        {
          "output_type": "stream",
          "name": "stderr",
          "text": [
            "EP_train:1: 100%|| 1321/1327 [12:18<00:03,  1.85it/s]"
          ]
        },
        {
          "output_type": "stream",
          "name": "stdout",
          "text": [
            "{'epoch': 1, 'iter': 1320, 'avg_loss': 6.571417677862729, 'avg_acc': 50.11591597274791, 'loss': 6.968485355377197}\n"
          ]
        },
        {
          "output_type": "stream",
          "name": "stderr",
          "text": [
            "EP_train:1: 100%|| 1327/1327 [12:21<00:00,  1.79it/s]\n"
          ]
        },
        {
          "output_type": "stream",
          "name": "stdout",
          "text": [
            "EP1, train: avg_loss=6.572242412696499, total_acc=50.10956902848795\n",
            "Saved model after epoch 1 to /content/drive/MyDrive/email_bert/checkpoints/bert_email_epoch_1.pth\n"
          ]
        },
        {
          "output_type": "stream",
          "name": "stderr",
          "text": [
            "EP_train:2:   0%|| 1/1327 [00:00<13:42,  1.61it/s]"
          ]
        },
        {
          "output_type": "stream",
          "name": "stdout",
          "text": [
            "{'epoch': 2, 'iter': 0, 'avg_loss': 7.346624374389648, 'avg_acc': 65.625, 'loss': 7.346624374389648}\n",
            "Saved checkpoint model\n"
          ]
        },
        {
          "output_type": "stream",
          "name": "stderr",
          "text": [
            "EP_train:2:   1%|| 11/1327 [00:06<11:55,  1.84it/s]"
          ]
        },
        {
          "output_type": "stream",
          "name": "stdout",
          "text": [
            "{'epoch': 2, 'iter': 10, 'avg_loss': 6.4397944970564405, 'avg_acc': 51.13636363636363, 'loss': 6.595701694488525}\n"
          ]
        },
        {
          "output_type": "stream",
          "name": "stderr",
          "text": [
            "EP_train:2:   2%|| 21/1327 [00:12<13:49,  1.57it/s]"
          ]
        },
        {
          "output_type": "stream",
          "name": "stdout",
          "text": [
            "{'epoch': 2, 'iter': 20, 'avg_loss': 6.516100202287946, 'avg_acc': 48.95833333333333, 'loss': 6.7425642013549805}\n"
          ]
        },
        {
          "output_type": "stream",
          "name": "stderr",
          "text": [
            "EP_train:2:   2%|| 31/1327 [00:18<12:40,  1.71it/s]"
          ]
        },
        {
          "output_type": "stream",
          "name": "stdout",
          "text": [
            "{'epoch': 2, 'iter': 30, 'avg_loss': 6.578081900073636, 'avg_acc': 47.88306451612903, 'loss': 6.67247200012207}\n"
          ]
        },
        {
          "output_type": "stream",
          "name": "stderr",
          "text": [
            "EP_train:2:   3%|| 41/1327 [00:24<14:06,  1.52it/s]"
          ]
        },
        {
          "output_type": "stream",
          "name": "stdout",
          "text": [
            "{'epoch': 2, 'iter': 40, 'avg_loss': 6.577025471664056, 'avg_acc': 48.170731707317074, 'loss': 6.622873783111572}\n"
          ]
        },
        {
          "output_type": "stream",
          "name": "stderr",
          "text": [
            "EP_train:2:   4%|| 51/1327 [00:30<12:01,  1.77it/s]"
          ]
        },
        {
          "output_type": "stream",
          "name": "stdout",
          "text": [
            "{'epoch': 2, 'iter': 50, 'avg_loss': 6.604848562502394, 'avg_acc': 47.42647058823529, 'loss': 6.07393217086792}\n"
          ]
        },
        {
          "output_type": "stream",
          "name": "stderr",
          "text": [
            "EP_train:2:   5%|| 61/1327 [00:35<11:28,  1.84it/s]"
          ]
        },
        {
          "output_type": "stream",
          "name": "stdout",
          "text": [
            "{'epoch': 2, 'iter': 60, 'avg_loss': 6.57033465338535, 'avg_acc': 47.43852459016394, 'loss': 6.498737335205078}\n"
          ]
        },
        {
          "output_type": "stream",
          "name": "stderr",
          "text": [
            "EP_train:2:   5%|| 71/1327 [00:41<11:46,  1.78it/s]"
          ]
        },
        {
          "output_type": "stream",
          "name": "stdout",
          "text": [
            "{'epoch': 2, 'iter': 70, 'avg_loss': 6.561381837012062, 'avg_acc': 48.107394366197184, 'loss': 6.078577041625977}\n"
          ]
        },
        {
          "output_type": "stream",
          "name": "stderr",
          "text": [
            "EP_train:2:   6%|| 81/1327 [00:47<11:11,  1.85it/s]"
          ]
        },
        {
          "output_type": "stream",
          "name": "stdout",
          "text": [
            "{'epoch': 2, 'iter': 80, 'avg_loss': 6.543778148698218, 'avg_acc': 48.495370370370374, 'loss': 7.154736518859863}\n"
          ]
        },
        {
          "output_type": "stream",
          "name": "stderr",
          "text": [
            "EP_train:2:   7%|| 91/1327 [00:52<12:21,  1.67it/s]"
          ]
        },
        {
          "output_type": "stream",
          "name": "stdout",
          "text": [
            "{'epoch': 2, 'iter': 90, 'avg_loss': 6.525577901483892, 'avg_acc': 49.004120879120876, 'loss': 6.2722649574279785}\n"
          ]
        },
        {
          "output_type": "stream",
          "name": "stderr",
          "text": [
            "EP_train:2:   8%|| 101/1327 [00:58<11:01,  1.85it/s]"
          ]
        },
        {
          "output_type": "stream",
          "name": "stdout",
          "text": [
            "{'epoch': 2, 'iter': 100, 'avg_loss': 6.484548620658345, 'avg_acc': 48.85519801980198, 'loss': 6.842861652374268}\n"
          ]
        },
        {
          "output_type": "stream",
          "name": "stderr",
          "text": [
            "EP_train:2:   8%|| 111/1327 [01:03<11:42,  1.73it/s]"
          ]
        },
        {
          "output_type": "stream",
          "name": "stdout",
          "text": [
            "{'epoch': 2, 'iter': 110, 'avg_loss': 6.489356732583261, 'avg_acc': 48.53603603603604, 'loss': 6.245608329772949}\n"
          ]
        },
        {
          "output_type": "stream",
          "name": "stderr",
          "text": [
            "EP_train:2:   9%|| 121/1327 [01:09<10:51,  1.85it/s]"
          ]
        },
        {
          "output_type": "stream",
          "name": "stdout",
          "text": [
            "{'epoch': 2, 'iter': 120, 'avg_loss': 6.506131294345067, 'avg_acc': 48.78615702479338, 'loss': 6.785928726196289}\n"
          ]
        },
        {
          "output_type": "stream",
          "name": "stderr",
          "text": [
            "EP_train:2:  10%|| 131/1327 [01:14<10:56,  1.82it/s]"
          ]
        },
        {
          "output_type": "stream",
          "name": "stdout",
          "text": [
            "{'epoch': 2, 'iter': 130, 'avg_loss': 6.510040869239632, 'avg_acc': 49.11736641221374, 'loss': 7.054839134216309}\n"
          ]
        },
        {
          "output_type": "stream",
          "name": "stderr",
          "text": [
            "EP_train:2:  11%|| 141/1327 [01:20<11:49,  1.67it/s]"
          ]
        },
        {
          "output_type": "stream",
          "name": "stdout",
          "text": [
            "{'epoch': 2, 'iter': 140, 'avg_loss': 6.5204587388545905, 'avg_acc': 49.00265957446808, 'loss': 6.477371692657471}\n"
          ]
        },
        {
          "output_type": "stream",
          "name": "stderr",
          "text": [
            "EP_train:2:  11%|| 151/1327 [01:26<10:41,  1.83it/s]"
          ]
        },
        {
          "output_type": "stream",
          "name": "stdout",
          "text": [
            "{'epoch': 2, 'iter': 150, 'avg_loss': 6.509300023514704, 'avg_acc': 48.944536423841065, 'loss': 6.881477355957031}\n"
          ]
        },
        {
          "output_type": "stream",
          "name": "stderr",
          "text": [
            "EP_train:2:  12%|| 161/1327 [01:31<11:19,  1.72it/s]"
          ]
        },
        {
          "output_type": "stream",
          "name": "stdout",
          "text": [
            "{'epoch': 2, 'iter': 160, 'avg_loss': 6.516306110050367, 'avg_acc': 49.22360248447205, 'loss': 6.799972057342529}\n"
          ]
        },
        {
          "output_type": "stream",
          "name": "stderr",
          "text": [
            "EP_train:2:  13%|| 171/1327 [01:37<10:41,  1.80it/s]"
          ]
        },
        {
          "output_type": "stream",
          "name": "stdout",
          "text": [
            "{'epoch': 2, 'iter': 170, 'avg_loss': 6.516745436261272, 'avg_acc': 49.21418128654971, 'loss': 6.355891227722168}\n"
          ]
        },
        {
          "output_type": "stream",
          "name": "stderr",
          "text": [
            "EP_train:2:  14%|| 181/1327 [01:42<10:17,  1.85it/s]"
          ]
        },
        {
          "output_type": "stream",
          "name": "stdout",
          "text": [
            "{'epoch': 2, 'iter': 180, 'avg_loss': 6.5189567771405805, 'avg_acc': 49.20580110497237, 'loss': 6.692995548248291}\n"
          ]
        },
        {
          "output_type": "stream",
          "name": "stderr",
          "text": [
            "EP_train:2:  14%|| 191/1327 [01:48<10:49,  1.75it/s]"
          ]
        },
        {
          "output_type": "stream",
          "name": "stdout",
          "text": [
            "{'epoch': 2, 'iter': 190, 'avg_loss': 6.52829992334256, 'avg_acc': 49.06740837696335, 'loss': 6.480497360229492}\n"
          ]
        },
        {
          "output_type": "stream",
          "name": "stderr",
          "text": [
            "EP_train:2:  15%|| 201/1327 [01:54<10:14,  1.83it/s]"
          ]
        },
        {
          "output_type": "stream",
          "name": "stdout",
          "text": [
            "{'epoch': 2, 'iter': 200, 'avg_loss': 6.5239943532801385, 'avg_acc': 49.25373134328358, 'loss': 6.176898002624512}\n"
          ]
        },
        {
          "output_type": "stream",
          "name": "stderr",
          "text": [
            "EP_train:2:  16%|| 211/1327 [01:59<11:06,  1.68it/s]"
          ]
        },
        {
          "output_type": "stream",
          "name": "stdout",
          "text": [
            "{'epoch': 2, 'iter': 210, 'avg_loss': 6.5130376296020795, 'avg_acc': 49.437203791469194, 'loss': 6.7953972816467285}\n"
          ]
        },
        {
          "output_type": "stream",
          "name": "stderr",
          "text": [
            "EP_train:2:  17%|| 221/1327 [02:05<09:56,  1.85it/s]"
          ]
        },
        {
          "output_type": "stream",
          "name": "stdout",
          "text": [
            "{'epoch': 2, 'iter': 220, 'avg_loss': 6.517817067884212, 'avg_acc': 49.547511312217196, 'loss': 6.428596019744873}\n"
          ]
        },
        {
          "output_type": "stream",
          "name": "stderr",
          "text": [
            "EP_train:2:  17%|| 231/1327 [02:10<09:58,  1.83it/s]"
          ]
        },
        {
          "output_type": "stream",
          "name": "stdout",
          "text": [
            "{'epoch': 2, 'iter': 230, 'avg_loss': 6.516747726506485, 'avg_acc': 49.63474025974026, 'loss': 7.188895225524902}\n"
          ]
        },
        {
          "output_type": "stream",
          "name": "stderr",
          "text": [
            "EP_train:2:  18%|| 241/1327 [02:16<09:58,  1.82it/s]"
          ]
        },
        {
          "output_type": "stream",
          "name": "stdout",
          "text": [
            "{'epoch': 2, 'iter': 240, 'avg_loss': 6.521057397992779, 'avg_acc': 49.8054979253112, 'loss': 6.773187160491943}\n"
          ]
        },
        {
          "output_type": "stream",
          "name": "stderr",
          "text": [
            "EP_train:2:  19%|| 251/1327 [02:22<10:30,  1.71it/s]"
          ]
        },
        {
          "output_type": "stream",
          "name": "stdout",
          "text": [
            "{'epoch': 2, 'iter': 250, 'avg_loss': 6.5105151237244625, 'avg_acc': 49.95019920318725, 'loss': 6.307165622711182}\n"
          ]
        },
        {
          "output_type": "stream",
          "name": "stderr",
          "text": [
            "EP_train:2:  20%|| 261/1327 [02:28<10:46,  1.65it/s]"
          ]
        },
        {
          "output_type": "stream",
          "name": "stdout",
          "text": [
            "{'epoch': 2, 'iter': 260, 'avg_loss': 6.508628815983447, 'avg_acc': 49.964080459770116, 'loss': 5.565164089202881}\n"
          ]
        },
        {
          "output_type": "stream",
          "name": "stderr",
          "text": [
            "EP_train:2:  20%|| 271/1327 [02:33<09:33,  1.84it/s]"
          ]
        },
        {
          "output_type": "stream",
          "name": "stdout",
          "text": [
            "{'epoch': 2, 'iter': 270, 'avg_loss': 6.50273557782613, 'avg_acc': 50.0, 'loss': 6.880232334136963}\n"
          ]
        },
        {
          "output_type": "stream",
          "name": "stderr",
          "text": [
            "EP_train:2:  21%|| 281/1327 [02:39<09:46,  1.78it/s]"
          ]
        },
        {
          "output_type": "stream",
          "name": "stdout",
          "text": [
            "{'epoch': 2, 'iter': 280, 'avg_loss': 6.5018123613133545, 'avg_acc': 49.91103202846975, 'loss': 7.07166051864624}\n"
          ]
        },
        {
          "output_type": "stream",
          "name": "stderr",
          "text": [
            "EP_train:2:  22%|| 291/1327 [02:44<09:26,  1.83it/s]"
          ]
        },
        {
          "output_type": "stream",
          "name": "stdout",
          "text": [
            "{'epoch': 2, 'iter': 290, 'avg_loss': 6.501422062772246, 'avg_acc': 49.9463058419244, 'loss': 7.071719646453857}\n"
          ]
        },
        {
          "output_type": "stream",
          "name": "stderr",
          "text": [
            "EP_train:2:  23%|| 301/1327 [02:50<09:09,  1.87it/s]"
          ]
        },
        {
          "output_type": "stream",
          "name": "stdout",
          "text": [
            "{'epoch': 2, 'iter': 300, 'avg_loss': 6.506161567776702, 'avg_acc': 49.91694352159469, 'loss': 6.7820305824279785}\n",
            "Saved checkpoint model\n"
          ]
        },
        {
          "output_type": "stream",
          "name": "stderr",
          "text": [
            "EP_train:2:  23%|| 311/1327 [02:56<10:08,  1.67it/s]"
          ]
        },
        {
          "output_type": "stream",
          "name": "stdout",
          "text": [
            "{'epoch': 2, 'iter': 310, 'avg_loss': 6.502592818146733, 'avg_acc': 49.90956591639871, 'loss': 6.106100559234619}\n"
          ]
        },
        {
          "output_type": "stream",
          "name": "stderr",
          "text": [
            "EP_train:2:  24%|| 321/1327 [03:01<09:01,  1.86it/s]"
          ]
        },
        {
          "output_type": "stream",
          "name": "stdout",
          "text": [
            "{'epoch': 2, 'iter': 320, 'avg_loss': 6.500007452623124, 'avg_acc': 49.902647975077876, 'loss': 6.525041580200195}\n"
          ]
        },
        {
          "output_type": "stream",
          "name": "stderr",
          "text": [
            "EP_train:2:  25%|| 331/1327 [03:07<09:40,  1.71it/s]"
          ]
        },
        {
          "output_type": "stream",
          "name": "stdout",
          "text": [
            "{'epoch': 2, 'iter': 330, 'avg_loss': 6.503018605384942, 'avg_acc': 49.93391238670695, 'loss': 6.691093444824219}\n"
          ]
        },
        {
          "output_type": "stream",
          "name": "stderr",
          "text": [
            "EP_train:2:  26%|| 341/1327 [03:12<09:03,  1.82it/s]"
          ]
        },
        {
          "output_type": "stream",
          "name": "stdout",
          "text": [
            "{'epoch': 2, 'iter': 340, 'avg_loss': 6.501310289780066, 'avg_acc': 50.0274926686217, 'loss': 5.908054351806641}\n"
          ]
        },
        {
          "output_type": "stream",
          "name": "stderr",
          "text": [
            "EP_train:2:  26%|| 351/1327 [03:18<08:47,  1.85it/s]"
          ]
        },
        {
          "output_type": "stream",
          "name": "stdout",
          "text": [
            "{'epoch': 2, 'iter': 350, 'avg_loss': 6.492004999068388, 'avg_acc': 49.87535612535613, 'loss': 5.593271732330322}\n"
          ]
        },
        {
          "output_type": "stream",
          "name": "stderr",
          "text": [
            "EP_train:2:  27%|| 361/1327 [03:23<09:08,  1.76it/s]"
          ]
        },
        {
          "output_type": "stream",
          "name": "stdout",
          "text": [
            "{'epoch': 2, 'iter': 360, 'avg_loss': 6.492107136427861, 'avg_acc': 49.930747922437675, 'loss': 6.442541122436523}\n"
          ]
        },
        {
          "output_type": "stream",
          "name": "stderr",
          "text": [
            "EP_train:2:  28%|| 371/1327 [03:29<08:28,  1.88it/s]"
          ]
        },
        {
          "output_type": "stream",
          "name": "stdout",
          "text": [
            "{'epoch': 2, 'iter': 370, 'avg_loss': 6.491640409690672, 'avg_acc': 49.94103773584906, 'loss': 6.736736297607422}\n"
          ]
        },
        {
          "output_type": "stream",
          "name": "stderr",
          "text": [
            "EP_train:2:  29%|| 381/1327 [03:35<09:27,  1.67it/s]"
          ]
        },
        {
          "output_type": "stream",
          "name": "stdout",
          "text": [
            "{'epoch': 2, 'iter': 380, 'avg_loss': 6.4945658999165214, 'avg_acc': 49.95898950131233, 'loss': 5.992330074310303}\n"
          ]
        },
        {
          "output_type": "stream",
          "name": "stderr",
          "text": [
            "EP_train:2:  29%|| 391/1327 [03:40<08:22,  1.86it/s]"
          ]
        },
        {
          "output_type": "stream",
          "name": "stdout",
          "text": [
            "{'epoch': 2, 'iter': 390, 'avg_loss': 6.495998127686093, 'avg_acc': 49.93606138107417, 'loss': 5.301651954650879}\n"
          ]
        },
        {
          "output_type": "stream",
          "name": "stderr",
          "text": [
            "EP_train:2:  30%|| 401/1327 [03:45<08:21,  1.85it/s]"
          ]
        },
        {
          "output_type": "stream",
          "name": "stdout",
          "text": [
            "{'epoch': 2, 'iter': 400, 'avg_loss': 6.499254717791169, 'avg_acc': 49.937655860349125, 'loss': 6.609030246734619}\n"
          ]
        },
        {
          "output_type": "stream",
          "name": "stderr",
          "text": [
            "EP_train:2:  31%|| 411/1327 [03:51<08:24,  1.82it/s]"
          ]
        },
        {
          "output_type": "stream",
          "name": "stdout",
          "text": [
            "{'epoch': 2, 'iter': 410, 'avg_loss': 6.502876427921936, 'avg_acc': 49.863138686131386, 'loss': 7.069908618927002}\n"
          ]
        },
        {
          "output_type": "stream",
          "name": "stderr",
          "text": [
            "EP_train:2:  32%|| 421/1327 [03:57<08:14,  1.83it/s]"
          ]
        },
        {
          "output_type": "stream",
          "name": "stdout",
          "text": [
            "{'epoch': 2, 'iter': 420, 'avg_loss': 6.495802641481232, 'avg_acc': 49.962885985748215, 'loss': 6.353960990905762}\n"
          ]
        },
        {
          "output_type": "stream",
          "name": "stderr",
          "text": [
            "EP_train:2:  32%|| 431/1327 [04:02<08:54,  1.68it/s]"
          ]
        },
        {
          "output_type": "stream",
          "name": "stdout",
          "text": [
            "{'epoch': 2, 'iter': 430, 'avg_loss': 6.492479292256649, 'avg_acc': 49.898491879350345, 'loss': 6.777129173278809}\n"
          ]
        },
        {
          "output_type": "stream",
          "name": "stderr",
          "text": [
            "EP_train:2:  33%|| 441/1327 [04:08<08:09,  1.81it/s]"
          ]
        },
        {
          "output_type": "stream",
          "name": "stdout",
          "text": [
            "{'epoch': 2, 'iter': 440, 'avg_loss': 6.49687705396795, 'avg_acc': 49.76615646258503, 'loss': 7.489769458770752}\n"
          ]
        },
        {
          "output_type": "stream",
          "name": "stderr",
          "text": [
            "EP_train:2:  34%|| 451/1327 [04:13<08:07,  1.80it/s]"
          ]
        },
        {
          "output_type": "stream",
          "name": "stdout",
          "text": [
            "{'epoch': 2, 'iter': 450, 'avg_loss': 6.491638081036756, 'avg_acc': 49.74362527716186, 'loss': 5.575911045074463}\n"
          ]
        },
        {
          "output_type": "stream",
          "name": "stderr",
          "text": [
            "EP_train:2:  35%|| 461/1327 [04:19<08:00,  1.80it/s]"
          ]
        },
        {
          "output_type": "stream",
          "name": "stdout",
          "text": [
            "{'epoch': 2, 'iter': 460, 'avg_loss': 6.490322545397049, 'avg_acc': 49.579718004338396, 'loss': 6.419758319854736}\n"
          ]
        },
        {
          "output_type": "stream",
          "name": "stderr",
          "text": [
            "EP_train:2:  35%|| 471/1327 [04:25<07:46,  1.83it/s]"
          ]
        },
        {
          "output_type": "stream",
          "name": "stdout",
          "text": [
            "{'epoch': 2, 'iter': 470, 'avg_loss': 6.483546982904908, 'avg_acc': 49.66162420382166, 'loss': 6.2386155128479}\n"
          ]
        },
        {
          "output_type": "stream",
          "name": "stderr",
          "text": [
            "EP_train:2:  36%|| 481/1327 [04:30<08:17,  1.70it/s]"
          ]
        },
        {
          "output_type": "stream",
          "name": "stdout",
          "text": [
            "{'epoch': 2, 'iter': 480, 'avg_loss': 6.480514616579623, 'avg_acc': 49.68165280665281, 'loss': 5.497747898101807}\n"
          ]
        },
        {
          "output_type": "stream",
          "name": "stderr",
          "text": [
            "EP_train:2:  37%|| 491/1327 [04:36<07:34,  1.84it/s]"
          ]
        },
        {
          "output_type": "stream",
          "name": "stdout",
          "text": [
            "{'epoch': 2, 'iter': 490, 'avg_loss': 6.47714695085576, 'avg_acc': 49.84088594704684, 'loss': 6.1661248207092285}\n"
          ]
        },
        {
          "output_type": "stream",
          "name": "stderr",
          "text": [
            "EP_train:2:  38%|| 501/1327 [04:41<08:09,  1.69it/s]"
          ]
        },
        {
          "output_type": "stream",
          "name": "stdout",
          "text": [
            "{'epoch': 2, 'iter': 500, 'avg_loss': 6.47685711302919, 'avg_acc': 49.76297405189621, 'loss': 6.664994716644287}\n"
          ]
        },
        {
          "output_type": "stream",
          "name": "stderr",
          "text": [
            "EP_train:2:  39%|| 511/1327 [04:47<07:18,  1.86it/s]"
          ]
        },
        {
          "output_type": "stream",
          "name": "stdout",
          "text": [
            "{'epoch': 2, 'iter': 510, 'avg_loss': 6.479994770132166, 'avg_acc': 49.76149706457926, 'loss': 6.838631629943848}\n"
          ]
        },
        {
          "output_type": "stream",
          "name": "stderr",
          "text": [
            "EP_train:2:  39%|| 521/1327 [04:52<07:14,  1.86it/s]"
          ]
        },
        {
          "output_type": "stream",
          "name": "stdout",
          "text": [
            "{'epoch': 2, 'iter': 520, 'avg_loss': 6.480303223439691, 'avg_acc': 49.72408829174665, 'loss': 7.05820894241333}\n"
          ]
        },
        {
          "output_type": "stream",
          "name": "stderr",
          "text": [
            "EP_train:2:  40%|| 531/1327 [04:58<07:25,  1.79it/s]"
          ]
        },
        {
          "output_type": "stream",
          "name": "stdout",
          "text": [
            "{'epoch': 2, 'iter': 530, 'avg_loss': 6.477115545793667, 'avg_acc': 49.74105461393597, 'loss': 6.523749828338623}\n"
          ]
        },
        {
          "output_type": "stream",
          "name": "stderr",
          "text": [
            "EP_train:2:  41%|| 541/1327 [05:04<07:06,  1.84it/s]"
          ]
        },
        {
          "output_type": "stream",
          "name": "stdout",
          "text": [
            "{'epoch': 2, 'iter': 540, 'avg_loss': 6.478066243437874, 'avg_acc': 49.751617375231056, 'loss': 6.39011287689209}\n"
          ]
        },
        {
          "output_type": "stream",
          "name": "stderr",
          "text": [
            "EP_train:2:  42%|| 551/1327 [05:09<07:47,  1.66it/s]"
          ]
        },
        {
          "output_type": "stream",
          "name": "stdout",
          "text": [
            "{'epoch': 2, 'iter': 550, 'avg_loss': 6.478861280015506, 'avg_acc': 49.80149727767695, 'loss': 6.811419486999512}\n"
          ]
        },
        {
          "output_type": "stream",
          "name": "stderr",
          "text": [
            "EP_train:2:  42%|| 561/1327 [05:15<06:53,  1.85it/s]"
          ]
        },
        {
          "output_type": "stream",
          "name": "stdout",
          "text": [
            "{'epoch': 2, 'iter': 560, 'avg_loss': 6.479517908657298, 'avg_acc': 49.77718360071301, 'loss': 6.27970552444458}\n"
          ]
        },
        {
          "output_type": "stream",
          "name": "stderr",
          "text": [
            "EP_train:2:  43%|| 571/1327 [05:20<06:51,  1.84it/s]"
          ]
        },
        {
          "output_type": "stream",
          "name": "stdout",
          "text": [
            "{'epoch': 2, 'iter': 570, 'avg_loss': 6.4796780053454395, 'avg_acc': 49.792031523642734, 'loss': 6.582493305206299}\n"
          ]
        },
        {
          "output_type": "stream",
          "name": "stderr",
          "text": [
            "EP_train:2:  44%|| 581/1327 [05:26<06:49,  1.82it/s]"
          ]
        },
        {
          "output_type": "stream",
          "name": "stdout",
          "text": [
            "{'epoch': 2, 'iter': 580, 'avg_loss': 6.483466043324561, 'avg_acc': 49.77947504302926, 'loss': 6.331058502197266}\n"
          ]
        },
        {
          "output_type": "stream",
          "name": "stderr",
          "text": [
            "EP_train:2:  45%|| 591/1327 [05:31<06:39,  1.84it/s]"
          ]
        },
        {
          "output_type": "stream",
          "name": "stdout",
          "text": [
            "{'epoch': 2, 'iter': 590, 'avg_loss': 6.482884293280277, 'avg_acc': 49.79378172588832, 'loss': 6.179956912994385}\n"
          ]
        },
        {
          "output_type": "stream",
          "name": "stderr",
          "text": [
            "EP_train:2:  45%|| 601/1327 [05:37<07:23,  1.64it/s]"
          ]
        },
        {
          "output_type": "stream",
          "name": "stdout",
          "text": [
            "{'epoch': 2, 'iter': 600, 'avg_loss': 6.48299839175283, 'avg_acc': 49.79201331114809, 'loss': 6.316912651062012}\n",
            "Saved checkpoint model\n"
          ]
        },
        {
          "output_type": "stream",
          "name": "stderr",
          "text": [
            "EP_train:2:  46%|| 611/1327 [05:43<06:35,  1.81it/s]"
          ]
        },
        {
          "output_type": "stream",
          "name": "stdout",
          "text": [
            "{'epoch': 2, 'iter': 610, 'avg_loss': 6.481442455379155, 'avg_acc': 49.80053191489361, 'loss': 6.68061637878418}\n"
          ]
        },
        {
          "output_type": "stream",
          "name": "stderr",
          "text": [
            "EP_train:2:  47%|| 621/1327 [05:48<06:43,  1.75it/s]"
          ]
        },
        {
          "output_type": "stream",
          "name": "stdout",
          "text": [
            "{'epoch': 2, 'iter': 620, 'avg_loss': 6.482507200440731, 'avg_acc': 49.74335748792271, 'loss': 6.607388973236084}\n"
          ]
        },
        {
          "output_type": "stream",
          "name": "stderr",
          "text": [
            "EP_train:2:  48%|| 631/1327 [05:54<06:20,  1.83it/s]"
          ]
        },
        {
          "output_type": "stream",
          "name": "stdout",
          "text": [
            "{'epoch': 2, 'iter': 630, 'avg_loss': 6.478572571901059, 'avg_acc': 49.76228209191759, 'loss': 6.771690845489502}\n"
          ]
        },
        {
          "output_type": "stream",
          "name": "stderr",
          "text": [
            "EP_train:2:  48%|| 641/1327 [05:59<06:14,  1.83it/s]"
          ]
        },
        {
          "output_type": "stream",
          "name": "stdout",
          "text": [
            "{'epoch': 2, 'iter': 640, 'avg_loss': 6.476358205405487, 'avg_acc': 49.765990639625585, 'loss': 5.801030158996582}\n"
          ]
        },
        {
          "output_type": "stream",
          "name": "stderr",
          "text": [
            "EP_train:2:  49%|| 651/1327 [06:05<06:33,  1.72it/s]"
          ]
        },
        {
          "output_type": "stream",
          "name": "stdout",
          "text": [
            "{'epoch': 2, 'iter': 650, 'avg_loss': 6.477260248269171, 'avg_acc': 49.80798771121352, 'loss': 6.800365447998047}\n"
          ]
        },
        {
          "output_type": "stream",
          "name": "stderr",
          "text": [
            "EP_train:2:  50%|| 661/1327 [06:11<06:02,  1.84it/s]"
          ]
        },
        {
          "output_type": "stream",
          "name": "stdout",
          "text": [
            "{'epoch': 2, 'iter': 660, 'avg_loss': 6.476289741931632, 'avg_acc': 49.79198184568835, 'loss': 4.990322113037109}\n"
          ]
        },
        {
          "output_type": "stream",
          "name": "stderr",
          "text": [
            "EP_train:2:  51%|| 671/1327 [06:16<06:28,  1.69it/s]"
          ]
        },
        {
          "output_type": "stream",
          "name": "stdout",
          "text": [
            "{'epoch': 2, 'iter': 670, 'avg_loss': 6.477838654809489, 'avg_acc': 49.799739195231, 'loss': 6.454893589019775}\n"
          ]
        },
        {
          "output_type": "stream",
          "name": "stderr",
          "text": [
            "EP_train:2:  51%|| 681/1327 [06:22<05:58,  1.80it/s]"
          ]
        },
        {
          "output_type": "stream",
          "name": "stdout",
          "text": [
            "{'epoch': 2, 'iter': 680, 'avg_loss': 6.478364177737467, 'avg_acc': 49.85315712187959, 'loss': 7.172192573547363}\n"
          ]
        },
        {
          "output_type": "stream",
          "name": "stderr",
          "text": [
            "EP_train:2:  52%|| 691/1327 [06:28<06:10,  1.71it/s]"
          ]
        },
        {
          "output_type": "stream",
          "name": "stdout",
          "text": [
            "{'epoch': 2, 'iter': 690, 'avg_loss': 6.479543143519444, 'avg_acc': 49.84171490593343, 'loss': 6.6098127365112305}\n"
          ]
        },
        {
          "output_type": "stream",
          "name": "stderr",
          "text": [
            "EP_train:2:  53%|| 701/1327 [06:34<05:50,  1.79it/s]"
          ]
        },
        {
          "output_type": "stream",
          "name": "stdout",
          "text": [
            "{'epoch': 2, 'iter': 700, 'avg_loss': 6.477088968355884, 'avg_acc': 49.81276747503566, 'loss': 7.097499370574951}\n"
          ]
        },
        {
          "output_type": "stream",
          "name": "stderr",
          "text": [
            "EP_train:2:  54%|| 711/1327 [06:39<05:38,  1.82it/s]"
          ]
        },
        {
          "output_type": "stream",
          "name": "stdout",
          "text": [
            "{'epoch': 2, 'iter': 710, 'avg_loss': 6.477315536531215, 'avg_acc': 49.740682137834035, 'loss': 6.428780555725098}\n"
          ]
        },
        {
          "output_type": "stream",
          "name": "stderr",
          "text": [
            "EP_train:2:  54%|| 721/1327 [06:45<05:59,  1.69it/s]"
          ]
        },
        {
          "output_type": "stream",
          "name": "stdout",
          "text": [
            "{'epoch': 2, 'iter': 720, 'avg_loss': 6.479639680309534, 'avg_acc': 49.77895284327323, 'loss': 7.007490634918213}\n"
          ]
        },
        {
          "output_type": "stream",
          "name": "stderr",
          "text": [
            "EP_train:2:  55%|| 731/1327 [06:50<05:20,  1.86it/s]"
          ]
        },
        {
          "output_type": "stream",
          "name": "stdout",
          "text": [
            "{'epoch': 2, 'iter': 730, 'avg_loss': 6.479397700684178, 'avg_acc': 49.807626538987684, 'loss': 6.333243370056152}\n"
          ]
        },
        {
          "output_type": "stream",
          "name": "stderr",
          "text": [
            "EP_train:2:  56%|| 741/1327 [06:55<05:17,  1.85it/s]"
          ]
        },
        {
          "output_type": "stream",
          "name": "stdout",
          "text": [
            "{'epoch': 2, 'iter': 740, 'avg_loss': 6.480753081369335, 'avg_acc': 49.81022267206478, 'loss': 5.036210060119629}\n"
          ]
        },
        {
          "output_type": "stream",
          "name": "stderr",
          "text": [
            "EP_train:2:  57%|| 751/1327 [07:01<05:22,  1.79it/s]"
          ]
        },
        {
          "output_type": "stream",
          "name": "stdout",
          "text": [
            "{'epoch': 2, 'iter': 750, 'avg_loss': 6.479800755745879, 'avg_acc': 49.7961051930759, 'loss': 6.414557456970215}\n"
          ]
        },
        {
          "output_type": "stream",
          "name": "stderr",
          "text": [
            "EP_train:2:  57%|| 761/1327 [07:07<05:06,  1.85it/s]"
          ]
        },
        {
          "output_type": "stream",
          "name": "stdout",
          "text": [
            "{'epoch': 2, 'iter': 760, 'avg_loss': 6.481382427015067, 'avg_acc': 49.83574244415243, 'loss': 6.748119354248047}\n"
          ]
        },
        {
          "output_type": "stream",
          "name": "stderr",
          "text": [
            "EP_train:2:  58%|| 771/1327 [07:13<05:38,  1.64it/s]"
          ]
        },
        {
          "output_type": "stream",
          "name": "stdout",
          "text": [
            "{'epoch': 2, 'iter': 770, 'avg_loss': 6.481609555997737, 'avg_acc': 49.82571335927367, 'loss': 7.154473781585693}\n"
          ]
        },
        {
          "output_type": "stream",
          "name": "stderr",
          "text": [
            "EP_train:2:  59%|| 781/1327 [07:18<05:00,  1.82it/s]"
          ]
        },
        {
          "output_type": "stream",
          "name": "stdout",
          "text": [
            "{'epoch': 2, 'iter': 780, 'avg_loss': 6.482397023908002, 'avg_acc': 49.85195262483995, 'loss': 6.609012603759766}\n"
          ]
        },
        {
          "output_type": "stream",
          "name": "stderr",
          "text": [
            "EP_train:2:  60%|| 791/1327 [07:24<05:08,  1.74it/s]"
          ]
        },
        {
          "output_type": "stream",
          "name": "stdout",
          "text": [
            "{'epoch': 2, 'iter': 790, 'avg_loss': 6.484238869923858, 'avg_acc': 49.853824273072064, 'loss': 6.565692901611328}\n"
          ]
        },
        {
          "output_type": "stream",
          "name": "stderr",
          "text": [
            "EP_train:2:  60%|| 801/1327 [07:29<04:51,  1.80it/s]"
          ]
        },
        {
          "output_type": "stream",
          "name": "stdout",
          "text": [
            "{'epoch': 2, 'iter': 800, 'avg_loss': 6.482914853185304, 'avg_acc': 49.82443820224719, 'loss': 5.45072603225708}\n"
          ]
        },
        {
          "output_type": "stream",
          "name": "stderr",
          "text": [
            "EP_train:2:  61%|| 811/1327 [07:35<04:42,  1.83it/s]"
          ]
        },
        {
          "output_type": "stream",
          "name": "stdout",
          "text": [
            "{'epoch': 2, 'iter': 810, 'avg_loss': 6.486409112057762, 'avg_acc': 49.784217016029594, 'loss': 7.243561744689941}\n"
          ]
        },
        {
          "output_type": "stream",
          "name": "stderr",
          "text": [
            "EP_train:2:  62%|| 821/1327 [07:41<04:51,  1.74it/s]"
          ]
        },
        {
          "output_type": "stream",
          "name": "stdout",
          "text": [
            "{'epoch': 2, 'iter': 820, 'avg_loss': 6.484316977455613, 'avg_acc': 49.79065164433617, 'loss': 6.853328227996826}\n"
          ]
        },
        {
          "output_type": "stream",
          "name": "stderr",
          "text": [
            "EP_train:2:  63%|| 831/1327 [07:46<04:28,  1.85it/s]"
          ]
        },
        {
          "output_type": "stream",
          "name": "stdout",
          "text": [
            "{'epoch': 2, 'iter': 830, 'avg_loss': 6.487033671850762, 'avg_acc': 49.80821299638989, 'loss': 6.165555000305176}\n"
          ]
        },
        {
          "output_type": "stream",
          "name": "stderr",
          "text": [
            "EP_train:2:  63%|| 841/1327 [07:52<04:52,  1.66it/s]"
          ]
        },
        {
          "output_type": "stream",
          "name": "stdout",
          "text": [
            "{'epoch': 2, 'iter': 840, 'avg_loss': 6.487114790078434, 'avg_acc': 49.79191438763377, 'loss': 5.961497783660889}\n"
          ]
        },
        {
          "output_type": "stream",
          "name": "stderr",
          "text": [
            "EP_train:2:  64%|| 851/1327 [07:57<04:18,  1.84it/s]"
          ]
        },
        {
          "output_type": "stream",
          "name": "stdout",
          "text": [
            "{'epoch': 2, 'iter': 850, 'avg_loss': 6.489327449776171, 'avg_acc': 49.809048178613395, 'loss': 6.964824199676514}\n"
          ]
        },
        {
          "output_type": "stream",
          "name": "stderr",
          "text": [
            "EP_train:2:  65%|| 861/1327 [08:03<04:14,  1.83it/s]"
          ]
        },
        {
          "output_type": "stream",
          "name": "stdout",
          "text": [
            "{'epoch': 2, 'iter': 860, 'avg_loss': 6.490262574296657, 'avg_acc': 49.81852497096399, 'loss': 6.501418590545654}\n"
          ]
        },
        {
          "output_type": "stream",
          "name": "stderr",
          "text": [
            "EP_train:2:  66%|| 871/1327 [08:09<04:17,  1.77it/s]"
          ]
        },
        {
          "output_type": "stream",
          "name": "stdout",
          "text": [
            "{'epoch': 2, 'iter': 870, 'avg_loss': 6.488547587914801, 'avg_acc': 49.8349598163031, 'loss': 6.5017805099487305}\n"
          ]
        },
        {
          "output_type": "stream",
          "name": "stderr",
          "text": [
            "EP_train:2:  66%|| 881/1327 [08:14<03:59,  1.86it/s]"
          ]
        },
        {
          "output_type": "stream",
          "name": "stdout",
          "text": [
            "{'epoch': 2, 'iter': 880, 'avg_loss': 6.489236033869385, 'avg_acc': 49.854568671963676, 'loss': 6.970783710479736}\n"
          ]
        },
        {
          "output_type": "stream",
          "name": "stderr",
          "text": [
            "EP_train:2:  67%|| 891/1327 [08:20<04:25,  1.64it/s]"
          ]
        },
        {
          "output_type": "stream",
          "name": "stdout",
          "text": [
            "{'epoch': 2, 'iter': 890, 'avg_loss': 6.487515612751011, 'avg_acc': 49.87724466891134, 'loss': 6.290521144866943}\n"
          ]
        },
        {
          "output_type": "stream",
          "name": "stderr",
          "text": [
            "EP_train:2:  68%|| 901/1327 [08:25<03:58,  1.79it/s]"
          ]
        },
        {
          "output_type": "stream",
          "name": "stdout",
          "text": [
            "{'epoch': 2, 'iter': 900, 'avg_loss': 6.487366600121298, 'avg_acc': 49.89941731409545, 'loss': 5.4310808181762695}\n",
            "Saved checkpoint model\n"
          ]
        },
        {
          "output_type": "stream",
          "name": "stderr",
          "text": [
            "EP_train:2:  69%|| 911/1327 [08:31<03:53,  1.78it/s]"
          ]
        },
        {
          "output_type": "stream",
          "name": "stdout",
          "text": [
            "{'epoch': 2, 'iter': 910, 'avg_loss': 6.487161113454272, 'avg_acc': 49.93482436882547, 'loss': 5.210875511169434}\n"
          ]
        },
        {
          "output_type": "stream",
          "name": "stderr",
          "text": [
            "EP_train:2:  69%|| 921/1327 [08:37<03:48,  1.78it/s]"
          ]
        },
        {
          "output_type": "stream",
          "name": "stdout",
          "text": [
            "{'epoch': 2, 'iter': 920, 'avg_loss': 6.486750959443994, 'avg_acc': 49.93213897937025, 'loss': 6.660939693450928}\n"
          ]
        },
        {
          "output_type": "stream",
          "name": "stderr",
          "text": [
            "EP_train:2:  70%|| 931/1327 [08:42<03:40,  1.80it/s]"
          ]
        },
        {
          "output_type": "stream",
          "name": "stdout",
          "text": [
            "{'epoch': 2, 'iter': 930, 'avg_loss': 6.48221997415725, 'avg_acc': 49.96979054779806, 'loss': 5.26720666885376}\n"
          ]
        },
        {
          "output_type": "stream",
          "name": "stderr",
          "text": [
            "EP_train:2:  71%|| 941/1327 [08:48<03:45,  1.71it/s]"
          ]
        },
        {
          "output_type": "stream",
          "name": "stdout",
          "text": [
            "{'epoch': 2, 'iter': 940, 'avg_loss': 6.484995341833035, 'avg_acc': 50.00996280552603, 'loss': 7.037342071533203}\n"
          ]
        },
        {
          "output_type": "stream",
          "name": "stderr",
          "text": [
            "EP_train:2:  72%|| 951/1327 [08:53<03:24,  1.84it/s]"
          ]
        },
        {
          "output_type": "stream",
          "name": "stdout",
          "text": [
            "{'epoch': 2, 'iter': 950, 'avg_loss': 6.4837667137290405, 'avg_acc': 50.0427181913775, 'loss': 6.988034248352051}\n"
          ]
        },
        {
          "output_type": "stream",
          "name": "stderr",
          "text": [
            "EP_train:2:  72%|| 961/1327 [08:59<03:35,  1.70it/s]"
          ]
        },
        {
          "output_type": "stream",
          "name": "stdout",
          "text": [
            "{'epoch': 2, 'iter': 960, 'avg_loss': 6.484327458194094, 'avg_acc': 50.022762747138394, 'loss': 6.672572135925293}\n"
          ]
        },
        {
          "output_type": "stream",
          "name": "stderr",
          "text": [
            "EP_train:2:  73%|| 971/1327 [09:05<03:15,  1.82it/s]"
          ]
        },
        {
          "output_type": "stream",
          "name": "stdout",
          "text": [
            "{'epoch': 2, 'iter': 970, 'avg_loss': 6.48323170409512, 'avg_acc': 50.054711637487124, 'loss': 5.525005340576172}\n"
          ]
        },
        {
          "output_type": "stream",
          "name": "stderr",
          "text": [
            "EP_train:2:  74%|| 981/1327 [09:10<03:08,  1.84it/s]"
          ]
        },
        {
          "output_type": "stream",
          "name": "stdout",
          "text": [
            "{'epoch': 2, 'iter': 980, 'avg_loss': 6.481209284425632, 'avg_acc': 50.076452599388375, 'loss': 6.772068023681641}\n"
          ]
        },
        {
          "output_type": "stream",
          "name": "stderr",
          "text": [
            "EP_train:2:  75%|| 991/1327 [09:16<03:10,  1.76it/s]"
          ]
        },
        {
          "output_type": "stream",
          "name": "stdout",
          "text": [
            "{'epoch': 2, 'iter': 990, 'avg_loss': 6.480363704843069, 'avg_acc': 50.07252774974773, 'loss': 6.469307899475098}\n"
          ]
        },
        {
          "output_type": "stream",
          "name": "stderr",
          "text": [
            "EP_train:2:  75%|| 1001/1327 [09:21<02:53,  1.88it/s]"
          ]
        },
        {
          "output_type": "stream",
          "name": "stdout",
          "text": [
            "{'epoch': 2, 'iter': 1000, 'avg_loss': 6.482208472984535, 'avg_acc': 50.046828171828174, 'loss': 6.5333075523376465}\n"
          ]
        },
        {
          "output_type": "stream",
          "name": "stderr",
          "text": [
            "EP_train:2:  76%|| 1011/1327 [09:27<03:09,  1.67it/s]"
          ]
        },
        {
          "output_type": "stream",
          "name": "stdout",
          "text": [
            "{'epoch': 2, 'iter': 1010, 'avg_loss': 6.483377891997083, 'avg_acc': 50.02472799208705, 'loss': 6.677905082702637}\n"
          ]
        },
        {
          "output_type": "stream",
          "name": "stderr",
          "text": [
            "EP_train:2:  77%|| 1021/1327 [09:32<02:50,  1.80it/s]"
          ]
        },
        {
          "output_type": "stream",
          "name": "stdout",
          "text": [
            "{'epoch': 2, 'iter': 1020, 'avg_loss': 6.481734274416782, 'avg_acc': 50.036728697355535, 'loss': 6.8250412940979}\n"
          ]
        },
        {
          "output_type": "stream",
          "name": "stderr",
          "text": [
            "EP_train:2:  78%|| 1031/1327 [09:38<02:42,  1.83it/s]"
          ]
        },
        {
          "output_type": "stream",
          "name": "stdout",
          "text": [
            "{'epoch': 2, 'iter': 1030, 'avg_loss': 6.481849995084923, 'avg_acc': 50.04849660523764, 'loss': 6.547519207000732}\n"
          ]
        },
        {
          "output_type": "stream",
          "name": "stderr",
          "text": [
            "EP_train:2:  78%|| 1041/1327 [09:44<02:37,  1.82it/s]"
          ]
        },
        {
          "output_type": "stream",
          "name": "stdout",
          "text": [
            "{'epoch': 2, 'iter': 1040, 'avg_loss': 6.481216512198178, 'avg_acc': 50.08405379442843, 'loss': 6.712514400482178}\n"
          ]
        },
        {
          "output_type": "stream",
          "name": "stderr",
          "text": [
            "EP_train:2:  79%|| 1051/1327 [09:49<02:29,  1.85it/s]"
          ]
        },
        {
          "output_type": "stream",
          "name": "stdout",
          "text": [
            "{'epoch': 2, 'iter': 1050, 'avg_loss': 6.480964022290696, 'avg_acc': 50.09514747859182, 'loss': 6.765965461730957}\n"
          ]
        },
        {
          "output_type": "stream",
          "name": "stderr",
          "text": [
            "EP_train:2:  80%|| 1061/1327 [09:55<02:42,  1.64it/s]"
          ]
        },
        {
          "output_type": "stream",
          "name": "stdout",
          "text": [
            "{'epoch': 2, 'iter': 1060, 'avg_loss': 6.482369121799595, 'avg_acc': 50.082469368520265, 'loss': 6.802164077758789}\n"
          ]
        },
        {
          "output_type": "stream",
          "name": "stderr",
          "text": [
            "EP_train:2:  81%|| 1071/1327 [10:00<02:17,  1.86it/s]"
          ]
        },
        {
          "output_type": "stream",
          "name": "stdout",
          "text": [
            "{'epoch': 2, 'iter': 1070, 'avg_loss': 6.482270382810819, 'avg_acc': 50.07294584500467, 'loss': 6.859408855438232}\n"
          ]
        },
        {
          "output_type": "stream",
          "name": "stderr",
          "text": [
            "EP_train:2:  81%|| 1081/1327 [10:06<02:18,  1.77it/s]"
          ]
        },
        {
          "output_type": "stream",
          "name": "stdout",
          "text": [
            "{'epoch': 2, 'iter': 1080, 'avg_loss': 6.482342307155161, 'avg_acc': 50.063598519889, 'loss': 6.955508232116699}\n"
          ]
        },
        {
          "output_type": "stream",
          "name": "stderr",
          "text": [
            "EP_train:2:  82%|| 1091/1327 [10:11<02:09,  1.82it/s]"
          ]
        },
        {
          "output_type": "stream",
          "name": "stdout",
          "text": [
            "{'epoch': 2, 'iter': 1090, 'avg_loss': 6.482863288970304, 'avg_acc': 50.01718606782768, 'loss': 6.757218360900879}\n"
          ]
        },
        {
          "output_type": "stream",
          "name": "stderr",
          "text": [
            "EP_train:2:  83%|| 1101/1327 [10:17<02:02,  1.84it/s]"
          ]
        },
        {
          "output_type": "stream",
          "name": "stdout",
          "text": [
            "{'epoch': 2, 'iter': 1100, 'avg_loss': 6.483981235150745, 'avg_acc': 50.01419164396004, 'loss': 6.783562183380127}\n"
          ]
        },
        {
          "output_type": "stream",
          "name": "stderr",
          "text": [
            "EP_train:2:  84%|| 1111/1327 [10:23<02:14,  1.60it/s]"
          ]
        },
        {
          "output_type": "stream",
          "name": "stdout",
          "text": [
            "{'epoch': 2, 'iter': 1110, 'avg_loss': 6.483213591210806, 'avg_acc': 50.02531503150315, 'loss': 6.817791938781738}\n"
          ]
        },
        {
          "output_type": "stream",
          "name": "stderr",
          "text": [
            "EP_train:2:  84%|| 1121/1327 [10:29<01:53,  1.81it/s]"
          ]
        },
        {
          "output_type": "stream",
          "name": "stdout",
          "text": [
            "{'epoch': 2, 'iter': 1120, 'avg_loss': 6.482610448570149, 'avg_acc': 49.98884924174844, 'loss': 6.745584011077881}\n"
          ]
        },
        {
          "output_type": "stream",
          "name": "stderr",
          "text": [
            "EP_train:2:  85%|| 1131/1327 [10:34<01:56,  1.68it/s]"
          ]
        },
        {
          "output_type": "stream",
          "name": "stdout",
          "text": [
            "{'epoch': 2, 'iter': 1130, 'avg_loss': 6.483981725707927, 'avg_acc': 49.95855437665783, 'loss': 7.121029853820801}\n"
          ]
        },
        {
          "output_type": "stream",
          "name": "stderr",
          "text": [
            "EP_train:2:  86%|| 1141/1327 [10:40<01:40,  1.84it/s]"
          ]
        },
        {
          "output_type": "stream",
          "name": "stdout",
          "text": [
            "{'epoch': 2, 'iter': 1140, 'avg_loss': 6.484052115631772, 'avg_acc': 49.928790534618756, 'loss': 7.023894309997559}\n"
          ]
        },
        {
          "output_type": "stream",
          "name": "stderr",
          "text": [
            "EP_train:2:  87%|| 1151/1327 [10:45<01:35,  1.85it/s]"
          ]
        },
        {
          "output_type": "stream",
          "name": "stdout",
          "text": [
            "{'epoch': 2, 'iter': 1150, 'avg_loss': 6.482079231252264, 'avg_acc': 49.90225890529974, 'loss': 5.485633373260498}\n"
          ]
        },
        {
          "output_type": "stream",
          "name": "stderr",
          "text": [
            "EP_train:2:  87%|| 1161/1327 [10:51<01:36,  1.72it/s]"
          ]
        },
        {
          "output_type": "stream",
          "name": "stdout",
          "text": [
            "{'epoch': 2, 'iter': 1160, 'avg_loss': 6.479433524208168, 'avg_acc': 49.873492678725235, 'loss': 6.566573143005371}\n"
          ]
        },
        {
          "output_type": "stream",
          "name": "stderr",
          "text": [
            "EP_train:2:  88%|| 1171/1327 [10:56<01:24,  1.85it/s]"
          ]
        },
        {
          "output_type": "stream",
          "name": "stdout",
          "text": [
            "{'epoch': 2, 'iter': 1170, 'avg_loss': 6.475653235063301, 'avg_acc': 49.87190435525192, 'loss': 5.955199241638184}\n"
          ]
        },
        {
          "output_type": "stream",
          "name": "stderr",
          "text": [
            "EP_train:2:  89%|| 1181/1327 [11:02<01:26,  1.69it/s]"
          ]
        },
        {
          "output_type": "stream",
          "name": "stdout",
          "text": [
            "{'epoch': 2, 'iter': 1180, 'avg_loss': 6.47537888075516, 'avg_acc': 49.880927180355634, 'loss': 6.839024543762207}\n"
          ]
        },
        {
          "output_type": "stream",
          "name": "stderr",
          "text": [
            "EP_train:2:  90%|| 1191/1327 [11:08<01:13,  1.85it/s]"
          ]
        },
        {
          "output_type": "stream",
          "name": "stdout",
          "text": [
            "{'epoch': 2, 'iter': 1190, 'avg_loss': 6.477935909924639, 'avg_acc': 49.829450041981524, 'loss': 7.273644924163818}\n"
          ]
        },
        {
          "output_type": "stream",
          "name": "stderr",
          "text": [
            "EP_train:2:  91%|| 1201/1327 [11:13<01:08,  1.85it/s]"
          ]
        },
        {
          "output_type": "stream",
          "name": "stdout",
          "text": [
            "{'epoch': 2, 'iter': 1200, 'avg_loss': 6.480092642210009, 'avg_acc': 49.83347210657785, 'loss': 6.8369669914245605}\n",
            "Saved checkpoint model\n"
          ]
        },
        {
          "output_type": "stream",
          "name": "stderr",
          "text": [
            "EP_train:2:  91%|| 1211/1327 [11:19<01:04,  1.79it/s]"
          ]
        },
        {
          "output_type": "stream",
          "name": "stdout",
          "text": [
            "{'epoch': 2, 'iter': 1210, 'avg_loss': 6.477364871641705, 'avg_acc': 49.891618497109825, 'loss': 7.100484848022461}\n"
          ]
        },
        {
          "output_type": "stream",
          "name": "stderr",
          "text": [
            "EP_train:2:  92%|| 1221/1327 [11:24<00:56,  1.86it/s]"
          ]
        },
        {
          "output_type": "stream",
          "name": "stdout",
          "text": [
            "{'epoch': 2, 'iter': 1220, 'avg_loss': 6.4779142361015305, 'avg_acc': 49.84643734643734, 'loss': 6.164895057678223}\n"
          ]
        },
        {
          "output_type": "stream",
          "name": "stderr",
          "text": [
            "EP_train:2:  93%|| 1231/1327 [11:30<00:57,  1.67it/s]"
          ]
        },
        {
          "output_type": "stream",
          "name": "stdout",
          "text": [
            "{'epoch': 2, 'iter': 1230, 'avg_loss': 6.479028281111915, 'avg_acc': 49.837530463038185, 'loss': 6.381155490875244}\n"
          ]
        },
        {
          "output_type": "stream",
          "name": "stderr",
          "text": [
            "EP_train:2:  94%|| 1241/1327 [11:35<00:46,  1.86it/s]"
          ]
        },
        {
          "output_type": "stream",
          "name": "stdout",
          "text": [
            "{'epoch': 2, 'iter': 1240, 'avg_loss': 6.478403658947572, 'avg_acc': 49.88668412570508, 'loss': 6.17659330368042}\n"
          ]
        },
        {
          "output_type": "stream",
          "name": "stderr",
          "text": [
            "EP_train:2:  94%|| 1251/1327 [11:41<00:42,  1.77it/s]"
          ]
        },
        {
          "output_type": "stream",
          "name": "stdout",
          "text": [
            "{'epoch': 2, 'iter': 1250, 'avg_loss': 6.479364695880625, 'avg_acc': 49.94254596322942, 'loss': 6.541332244873047}\n"
          ]
        },
        {
          "output_type": "stream",
          "name": "stderr",
          "text": [
            "EP_train:2:  95%|| 1261/1327 [11:47<00:36,  1.82it/s]"
          ]
        },
        {
          "output_type": "stream",
          "name": "stdout",
          "text": [
            "{'epoch': 2, 'iter': 1260, 'avg_loss': 6.479703474763269, 'avg_acc': 49.945479777954006, 'loss': 6.012971878051758}\n"
          ]
        },
        {
          "output_type": "stream",
          "name": "stderr",
          "text": [
            "EP_train:2:  96%|| 1271/1327 [11:52<00:30,  1.85it/s]"
          ]
        },
        {
          "output_type": "stream",
          "name": "stdout",
          "text": [
            "{'epoch': 2, 'iter': 1270, 'avg_loss': 6.47858491007687, 'avg_acc': 49.972954366640444, 'loss': 6.266886234283447}\n"
          ]
        },
        {
          "output_type": "stream",
          "name": "stderr",
          "text": [
            "EP_train:2:  97%|| 1281/1327 [11:58<00:27,  1.66it/s]"
          ]
        },
        {
          "output_type": "stream",
          "name": "stdout",
          "text": [
            "{'epoch': 2, 'iter': 1280, 'avg_loss': 6.479321226675374, 'avg_acc': 49.9634074941452, 'loss': 7.145463466644287}\n"
          ]
        },
        {
          "output_type": "stream",
          "name": "stderr",
          "text": [
            "EP_train:2:  97%|| 1291/1327 [12:03<00:19,  1.84it/s]"
          ]
        },
        {
          "output_type": "stream",
          "name": "stdout",
          "text": [
            "{'epoch': 2, 'iter': 1290, 'avg_loss': 6.478853017761207, 'avg_acc': 49.94674670797831, 'loss': 5.574043273925781}\n"
          ]
        },
        {
          "output_type": "stream",
          "name": "stderr",
          "text": [
            "EP_train:2:  98%|| 1301/1327 [12:09<00:15,  1.70it/s]"
          ]
        },
        {
          "output_type": "stream",
          "name": "stdout",
          "text": [
            "{'epoch': 2, 'iter': 1300, 'avg_loss': 6.4802500811290225, 'avg_acc': 49.98318601076095, 'loss': 5.989400863647461}\n"
          ]
        },
        {
          "output_type": "stream",
          "name": "stderr",
          "text": [
            "EP_train:2:  99%|| 1311/1327 [12:14<00:08,  1.82it/s]"
          ]
        },
        {
          "output_type": "stream",
          "name": "stdout",
          "text": [
            "{'epoch': 2, 'iter': 1310, 'avg_loss': 6.480759065629506, 'avg_acc': 50.02383676582761, 'loss': 5.879947662353516}\n"
          ]
        },
        {
          "output_type": "stream",
          "name": "stderr",
          "text": [
            "EP_train:2: 100%|| 1321/1327 [12:20<00:03,  1.85it/s]"
          ]
        },
        {
          "output_type": "stream",
          "name": "stdout",
          "text": [
            "{'epoch': 2, 'iter': 1320, 'avg_loss': 6.480919643751515, 'avg_acc': 50.052043906131715, 'loss': 6.761014461517334}\n"
          ]
        },
        {
          "output_type": "stream",
          "name": "stderr",
          "text": [
            "EP_train:2: 100%|| 1327/1327 [12:23<00:00,  1.78it/s]\n"
          ]
        },
        {
          "output_type": "stream",
          "name": "stdout",
          "text": [
            "EP2, train: avg_loss=6.4819910700552965, total_acc=50.03652300949598\n",
            "Saved model after epoch 2 to /content/drive/MyDrive/email_bert/checkpoints/bert_email_epoch_2.pth\n"
          ]
        },
        {
          "output_type": "stream",
          "name": "stderr",
          "text": [
            "EP_train:3:   0%|| 1/1327 [00:00<13:00,  1.70it/s]"
          ]
        },
        {
          "output_type": "stream",
          "name": "stdout",
          "text": [
            "{'epoch': 3, 'iter': 0, 'avg_loss': 6.504920959472656, 'avg_acc': 53.125, 'loss': 6.504920959472656}\n",
            "Saved checkpoint model\n"
          ]
        },
        {
          "output_type": "stream",
          "name": "stderr",
          "text": [
            "EP_train:3:   1%|| 11/1327 [00:06<11:56,  1.84it/s]"
          ]
        },
        {
          "output_type": "stream",
          "name": "stdout",
          "text": [
            "{'epoch': 3, 'iter': 10, 'avg_loss': 6.3777078281749375, 'avg_acc': 46.590909090909086, 'loss': 6.675041675567627}\n"
          ]
        },
        {
          "output_type": "stream",
          "name": "stderr",
          "text": [
            "EP_train:3:   2%|| 21/1327 [00:12<12:46,  1.70it/s]"
          ]
        },
        {
          "output_type": "stream",
          "name": "stdout",
          "text": [
            "{'epoch': 3, 'iter': 20, 'avg_loss': 6.432017371768043, 'avg_acc': 47.023809523809526, 'loss': 6.802243709564209}\n"
          ]
        },
        {
          "output_type": "stream",
          "name": "stderr",
          "text": [
            "EP_train:3:   2%|| 31/1327 [00:17<12:50,  1.68it/s]"
          ]
        },
        {
          "output_type": "stream",
          "name": "stdout",
          "text": [
            "{'epoch': 3, 'iter': 30, 'avg_loss': 6.463081436772501, 'avg_acc': 49.193548387096776, 'loss': 6.748161315917969}\n"
          ]
        },
        {
          "output_type": "stream",
          "name": "stderr",
          "text": [
            "EP_train:3:   3%|| 41/1327 [00:24<14:15,  1.50it/s]"
          ]
        },
        {
          "output_type": "stream",
          "name": "stdout",
          "text": [
            "{'epoch': 3, 'iter': 40, 'avg_loss': 6.509989994328197, 'avg_acc': 47.94207317073171, 'loss': 6.723900318145752}\n"
          ]
        },
        {
          "output_type": "stream",
          "name": "stderr",
          "text": [
            "EP_train:3:   4%|| 51/1327 [00:30<12:34,  1.69it/s]"
          ]
        },
        {
          "output_type": "stream",
          "name": "stdout",
          "text": [
            "{'epoch': 3, 'iter': 50, 'avg_loss': 6.476438241846421, 'avg_acc': 48.77450980392157, 'loss': 6.4008002281188965}\n"
          ]
        },
        {
          "output_type": "stream",
          "name": "stderr",
          "text": [
            "EP_train:3:   5%|| 61/1327 [00:36<13:35,  1.55it/s]"
          ]
        },
        {
          "output_type": "stream",
          "name": "stdout",
          "text": [
            "{'epoch': 3, 'iter': 60, 'avg_loss': 6.444788541950163, 'avg_acc': 48.5655737704918, 'loss': 5.554096698760986}\n"
          ]
        },
        {
          "output_type": "stream",
          "name": "stderr",
          "text": [
            "EP_train:3:   5%|| 71/1327 [00:42<11:35,  1.80it/s]"
          ]
        },
        {
          "output_type": "stream",
          "name": "stdout",
          "text": [
            "{'epoch': 3, 'iter': 70, 'avg_loss': 6.433534279675551, 'avg_acc': 48.811619718309856, 'loss': 6.425833225250244}\n"
          ]
        },
        {
          "output_type": "stream",
          "name": "stderr",
          "text": [
            "EP_train:3:   6%|| 81/1327 [00:47<11:20,  1.83it/s]"
          ]
        },
        {
          "output_type": "stream",
          "name": "stdout",
          "text": [
            "{'epoch': 3, 'iter': 80, 'avg_loss': 6.409224062790106, 'avg_acc': 48.726851851851855, 'loss': 6.790257453918457}\n"
          ]
        },
        {
          "output_type": "stream",
          "name": "stderr",
          "text": [
            "EP_train:3:   7%|| 91/1327 [00:53<11:21,  1.81it/s]"
          ]
        },
        {
          "output_type": "stream",
          "name": "stdout",
          "text": [
            "{'epoch': 3, 'iter': 90, 'avg_loss': 6.44056954226651, 'avg_acc': 49.21016483516483, 'loss': 6.562846660614014}\n"
          ]
        },
        {
          "output_type": "stream",
          "name": "stderr",
          "text": [
            "EP_train:3:   8%|| 101/1327 [00:58<11:08,  1.83it/s]"
          ]
        },
        {
          "output_type": "stream",
          "name": "stdout",
          "text": [
            "{'epoch': 3, 'iter': 100, 'avg_loss': 6.456764896317284, 'avg_acc': 49.350247524752476, 'loss': 6.410511016845703}\n"
          ]
        },
        {
          "output_type": "stream",
          "name": "stderr",
          "text": [
            "EP_train:3:   8%|| 111/1327 [01:04<12:34,  1.61it/s]"
          ]
        },
        {
          "output_type": "stream",
          "name": "stdout",
          "text": [
            "{'epoch': 3, 'iter': 110, 'avg_loss': 6.455410368807681, 'avg_acc': 49.38063063063063, 'loss': 6.89867639541626}\n"
          ]
        },
        {
          "output_type": "stream",
          "name": "stderr",
          "text": [
            "EP_train:3:   9%|| 121/1327 [01:10<11:05,  1.81it/s]"
          ]
        },
        {
          "output_type": "stream",
          "name": "stdout",
          "text": [
            "{'epoch': 3, 'iter': 120, 'avg_loss': 6.451543059230836, 'avg_acc': 49.664256198347104, 'loss': 6.170587539672852}\n"
          ]
        },
        {
          "output_type": "stream",
          "name": "stderr",
          "text": [
            "EP_train:3:  10%|| 131/1327 [01:15<11:13,  1.78it/s]"
          ]
        },
        {
          "output_type": "stream",
          "name": "stdout",
          "text": [
            "{'epoch': 3, 'iter': 130, 'avg_loss': 6.454279812237688, 'avg_acc': 49.68988549618321, 'loss': 6.472142696380615}\n"
          ]
        },
        {
          "output_type": "stream",
          "name": "stderr",
          "text": [
            "EP_train:3:  11%|| 141/1327 [01:21<10:53,  1.81it/s]"
          ]
        },
        {
          "output_type": "stream",
          "name": "stdout",
          "text": [
            "{'epoch': 3, 'iter': 140, 'avg_loss': 6.438891383773046, 'avg_acc': 49.80053191489361, 'loss': 6.817718029022217}\n"
          ]
        },
        {
          "output_type": "stream",
          "name": "stderr",
          "text": [
            "EP_train:3:  11%|| 151/1327 [01:26<10:29,  1.87it/s]"
          ]
        },
        {
          "output_type": "stream",
          "name": "stdout",
          "text": [
            "{'epoch': 3, 'iter': 150, 'avg_loss': 6.42177477261878, 'avg_acc': 49.83443708609271, 'loss': 6.213235855102539}\n"
          ]
        },
        {
          "output_type": "stream",
          "name": "stderr",
          "text": [
            "EP_train:3:  12%|| 161/1327 [01:32<11:35,  1.68it/s]"
          ]
        },
        {
          "output_type": "stream",
          "name": "stdout",
          "text": [
            "{'epoch': 3, 'iter': 160, 'avg_loss': 6.436814405903313, 'avg_acc': 50.11645962732919, 'loss': 6.668890476226807}\n"
          ]
        },
        {
          "output_type": "stream",
          "name": "stderr",
          "text": [
            "EP_train:3:  13%|| 171/1327 [01:38<10:31,  1.83it/s]"
          ]
        },
        {
          "output_type": "stream",
          "name": "stdout",
          "text": [
            "{'epoch': 3, 'iter': 170, 'avg_loss': 6.438586837367008, 'avg_acc': 50.14619883040936, 'loss': 6.2072014808654785}\n"
          ]
        },
        {
          "output_type": "stream",
          "name": "stderr",
          "text": [
            "EP_train:3:  14%|| 181/1327 [01:43<11:02,  1.73it/s]"
          ]
        },
        {
          "output_type": "stream",
          "name": "stdout",
          "text": [
            "{'epoch': 3, 'iter': 180, 'avg_loss': 6.43288334166806, 'avg_acc': 50.25897790055248, 'loss': 7.2552571296691895}\n"
          ]
        },
        {
          "output_type": "stream",
          "name": "stderr",
          "text": [
            "EP_train:3:  14%|| 191/1327 [01:49<10:26,  1.81it/s]"
          ]
        },
        {
          "output_type": "stream",
          "name": "stdout",
          "text": [
            "{'epoch': 3, 'iter': 190, 'avg_loss': 6.427690416106379, 'avg_acc': 50.22905759162304, 'loss': 6.22700309753418}\n"
          ]
        },
        {
          "output_type": "stream",
          "name": "stderr",
          "text": [
            "EP_train:3:  15%|| 201/1327 [01:54<10:12,  1.84it/s]"
          ]
        },
        {
          "output_type": "stream",
          "name": "stdout",
          "text": [
            "{'epoch': 3, 'iter': 200, 'avg_loss': 6.431215302861152, 'avg_acc': 50.093283582089555, 'loss': 6.0073957443237305}\n"
          ]
        },
        {
          "output_type": "stream",
          "name": "stderr",
          "text": [
            "EP_train:3:  16%|| 211/1327 [02:00<12:05,  1.54it/s]"
          ]
        },
        {
          "output_type": "stream",
          "name": "stdout",
          "text": [
            "{'epoch': 3, 'iter': 210, 'avg_loss': 6.4397139345865115, 'avg_acc': 50.08886255924171, 'loss': 6.815741539001465}\n"
          ]
        },
        {
          "output_type": "stream",
          "name": "stderr",
          "text": [
            "EP_train:3:  17%|| 221/1327 [02:06<10:06,  1.82it/s]"
          ]
        },
        {
          "output_type": "stream",
          "name": "stdout",
          "text": [
            "{'epoch': 3, 'iter': 220, 'avg_loss': 6.4481889457184804, 'avg_acc': 50.24038461538461, 'loss': 6.356971740722656}\n"
          ]
        },
        {
          "output_type": "stream",
          "name": "stderr",
          "text": [
            "EP_train:3:  17%|| 231/1327 [02:12<10:26,  1.75it/s]"
          ]
        },
        {
          "output_type": "stream",
          "name": "stdout",
          "text": [
            "{'epoch': 3, 'iter': 230, 'avg_loss': 6.456497173804741, 'avg_acc': 50.25703463203464, 'loss': 6.545339584350586}\n"
          ]
        },
        {
          "output_type": "stream",
          "name": "stderr",
          "text": [
            "EP_train:3:  18%|| 241/1327 [02:17<09:57,  1.82it/s]"
          ]
        },
        {
          "output_type": "stream",
          "name": "stdout",
          "text": [
            "{'epoch': 3, 'iter': 240, 'avg_loss': 6.459804437961815, 'avg_acc': 50.155601659751035, 'loss': 6.72864294052124}\n"
          ]
        },
        {
          "output_type": "stream",
          "name": "stderr",
          "text": [
            "EP_train:3:  19%|| 251/1327 [02:23<09:48,  1.83it/s]"
          ]
        },
        {
          "output_type": "stream",
          "name": "stdout",
          "text": [
            "{'epoch': 3, 'iter': 250, 'avg_loss': 6.464049259504949, 'avg_acc': 50.14940239043825, 'loss': 6.350865364074707}\n"
          ]
        },
        {
          "output_type": "stream",
          "name": "stderr",
          "text": [
            "EP_train:3:  20%|| 261/1327 [02:29<09:53,  1.80it/s]"
          ]
        },
        {
          "output_type": "stream",
          "name": "stdout",
          "text": [
            "{'epoch': 3, 'iter': 260, 'avg_loss': 6.468430654299214, 'avg_acc': 50.179597701149426, 'loss': 6.393492698669434}\n"
          ]
        },
        {
          "output_type": "stream",
          "name": "stderr",
          "text": [
            "EP_train:3:  20%|| 271/1327 [02:34<09:29,  1.85it/s]"
          ]
        },
        {
          "output_type": "stream",
          "name": "stdout",
          "text": [
            "{'epoch': 3, 'iter': 270, 'avg_loss': 6.470662778593957, 'avg_acc': 50.115313653136525, 'loss': 6.29025936126709}\n"
          ]
        },
        {
          "output_type": "stream",
          "name": "stderr",
          "text": [
            "EP_train:3:  21%|| 281/1327 [02:40<10:30,  1.66it/s]"
          ]
        },
        {
          "output_type": "stream",
          "name": "stdout",
          "text": [
            "{'epoch': 3, 'iter': 280, 'avg_loss': 6.469034530938308, 'avg_acc': 50.07784697508897, 'loss': 6.891258239746094}\n"
          ]
        },
        {
          "output_type": "stream",
          "name": "stderr",
          "text": [
            "EP_train:3:  22%|| 291/1327 [02:45<09:20,  1.85it/s]"
          ]
        },
        {
          "output_type": "stream",
          "name": "stdout",
          "text": [
            "{'epoch': 3, 'iter': 290, 'avg_loss': 6.471449989633462, 'avg_acc': 50.075171821305844, 'loss': 6.478186130523682}\n"
          ]
        },
        {
          "output_type": "stream",
          "name": "stderr",
          "text": [
            "EP_train:3:  23%|| 301/1327 [02:51<09:35,  1.78it/s]"
          ]
        },
        {
          "output_type": "stream",
          "name": "stdout",
          "text": [
            "{'epoch': 3, 'iter': 300, 'avg_loss': 6.4655423005950015, 'avg_acc': 49.98961794019934, 'loss': 6.507753372192383}\n",
            "Saved checkpoint model\n"
          ]
        },
        {
          "output_type": "stream",
          "name": "stderr",
          "text": [
            "EP_train:3:  23%|| 311/1327 [02:56<09:29,  1.78it/s]"
          ]
        },
        {
          "output_type": "stream",
          "name": "stdout",
          "text": [
            "{'epoch': 3, 'iter': 310, 'avg_loss': 6.458497455265745, 'avg_acc': 49.809083601286176, 'loss': 6.444983959197998}\n"
          ]
        },
        {
          "output_type": "stream",
          "name": "stderr",
          "text": [
            "EP_train:3:  24%|| 321/1327 [03:02<09:04,  1.85it/s]"
          ]
        },
        {
          "output_type": "stream",
          "name": "stdout",
          "text": [
            "{'epoch': 3, 'iter': 320, 'avg_loss': 6.456533925184209, 'avg_acc': 49.95132398753894, 'loss': 6.173864841461182}\n"
          ]
        },
        {
          "output_type": "stream",
          "name": "stderr",
          "text": [
            "EP_train:3:  25%|| 331/1327 [03:08<09:52,  1.68it/s]"
          ]
        },
        {
          "output_type": "stream",
          "name": "stdout",
          "text": [
            "{'epoch': 3, 'iter': 330, 'avg_loss': 6.452682996444472, 'avg_acc': 50.12273413897282, 'loss': 6.386955261230469}\n"
          ]
        },
        {
          "output_type": "stream",
          "name": "stderr",
          "text": [
            "EP_train:3:  26%|| 341/1327 [03:13<09:00,  1.82it/s]"
          ]
        },
        {
          "output_type": "stream",
          "name": "stdout",
          "text": [
            "{'epoch': 3, 'iter': 340, 'avg_loss': 6.458163861305483, 'avg_acc': 50.16495601173021, 'loss': 6.599716663360596}\n"
          ]
        },
        {
          "output_type": "stream",
          "name": "stderr",
          "text": [
            "EP_train:3:  26%|| 351/1327 [03:19<09:20,  1.74it/s]"
          ]
        },
        {
          "output_type": "stream",
          "name": "stdout",
          "text": [
            "{'epoch': 3, 'iter': 350, 'avg_loss': 6.460737754137088, 'avg_acc': 50.16915954415955, 'loss': 6.969531536102295}\n"
          ]
        },
        {
          "output_type": "stream",
          "name": "stderr",
          "text": [
            "EP_train:3:  27%|| 361/1327 [03:24<08:53,  1.81it/s]"
          ]
        },
        {
          "output_type": "stream",
          "name": "stdout",
          "text": [
            "{'epoch': 3, 'iter': 360, 'avg_loss': 6.455743495116934, 'avg_acc': 49.99134349030471, 'loss': 6.4873480796813965}\n"
          ]
        },
        {
          "output_type": "stream",
          "name": "stderr",
          "text": [
            "EP_train:3:  28%|| 371/1327 [03:30<08:34,  1.86it/s]"
          ]
        },
        {
          "output_type": "stream",
          "name": "stdout",
          "text": [
            "{'epoch': 3, 'iter': 370, 'avg_loss': 6.455659510311733, 'avg_acc': 49.91576819407008, 'loss': 6.565494060516357}\n"
          ]
        },
        {
          "output_type": "stream",
          "name": "stderr",
          "text": [
            "EP_train:3:  29%|| 381/1327 [03:36<09:03,  1.74it/s]"
          ]
        },
        {
          "output_type": "stream",
          "name": "stdout",
          "text": [
            "{'epoch': 3, 'iter': 380, 'avg_loss': 6.461105778461366, 'avg_acc': 49.86056430446194, 'loss': 7.057201862335205}\n"
          ]
        },
        {
          "output_type": "stream",
          "name": "stderr",
          "text": [
            "EP_train:3:  29%|| 391/1327 [03:41<08:22,  1.86it/s]"
          ]
        },
        {
          "output_type": "stream",
          "name": "stdout",
          "text": [
            "{'epoch': 3, 'iter': 390, 'avg_loss': 6.464924212306967, 'avg_acc': 49.880115089514064, 'loss': 6.504700183868408}\n"
          ]
        },
        {
          "output_type": "stream",
          "name": "stderr",
          "text": [
            "EP_train:3:  30%|| 401/1327 [03:47<09:12,  1.68it/s]"
          ]
        },
        {
          "output_type": "stream",
          "name": "stdout",
          "text": [
            "{'epoch': 3, 'iter': 400, 'avg_loss': 6.461723099325661, 'avg_acc': 49.906483790523694, 'loss': 6.507724761962891}\n"
          ]
        },
        {
          "output_type": "stream",
          "name": "stderr",
          "text": [
            "EP_train:3:  31%|| 411/1327 [03:52<08:15,  1.85it/s]"
          ]
        },
        {
          "output_type": "stream",
          "name": "stdout",
          "text": [
            "{'epoch': 3, 'iter': 410, 'avg_loss': 6.4650435262062835, 'avg_acc': 49.840328467153284, 'loss': 6.940064907073975}\n"
          ]
        },
        {
          "output_type": "stream",
          "name": "stderr",
          "text": [
            "EP_train:3:  32%|| 421/1327 [03:58<08:03,  1.87it/s]"
          ]
        },
        {
          "output_type": "stream",
          "name": "stdout",
          "text": [
            "{'epoch': 3, 'iter': 420, 'avg_loss': 6.467915392261786, 'avg_acc': 49.829275534441805, 'loss': 7.2433857917785645}\n"
          ]
        },
        {
          "output_type": "stream",
          "name": "stderr",
          "text": [
            "EP_train:3:  32%|| 431/1327 [04:03<08:18,  1.80it/s]"
          ]
        },
        {
          "output_type": "stream",
          "name": "stdout",
          "text": [
            "{'epoch': 3, 'iter': 430, 'avg_loss': 6.470762079110555, 'avg_acc': 49.83323665893272, 'loss': 5.867558002471924}\n"
          ]
        },
        {
          "output_type": "stream",
          "name": "stderr",
          "text": [
            "EP_train:3:  33%|| 441/1327 [04:09<07:58,  1.85it/s]"
          ]
        },
        {
          "output_type": "stream",
          "name": "stdout",
          "text": [
            "{'epoch': 3, 'iter': 440, 'avg_loss': 6.4693004117260715, 'avg_acc': 49.88662131519274, 'loss': 6.441914081573486}\n"
          ]
        },
        {
          "output_type": "stream",
          "name": "stderr",
          "text": [
            "EP_train:3:  34%|| 451/1327 [04:14<08:47,  1.66it/s]"
          ]
        },
        {
          "output_type": "stream",
          "name": "stdout",
          "text": [
            "{'epoch': 3, 'iter': 450, 'avg_loss': 6.4679943579527865, 'avg_acc': 49.840631929046566, 'loss': 6.428597927093506}\n"
          ]
        },
        {
          "output_type": "stream",
          "name": "stderr",
          "text": [
            "EP_train:3:  35%|| 461/1327 [04:20<07:46,  1.85it/s]"
          ]
        },
        {
          "output_type": "stream",
          "name": "stdout",
          "text": [
            "{'epoch': 3, 'iter': 460, 'avg_loss': 6.465599574132493, 'avg_acc': 49.783080260303684, 'loss': 6.328124523162842}\n"
          ]
        },
        {
          "output_type": "stream",
          "name": "stderr",
          "text": [
            "EP_train:3:  35%|| 471/1327 [04:25<07:51,  1.81it/s]"
          ]
        },
        {
          "output_type": "stream",
          "name": "stdout",
          "text": [
            "{'epoch': 3, 'iter': 470, 'avg_loss': 6.462549873724612, 'avg_acc': 49.807590233545646, 'loss': 6.592222690582275}\n"
          ]
        },
        {
          "output_type": "stream",
          "name": "stderr",
          "text": [
            "EP_train:3:  36%|| 481/1327 [04:31<07:39,  1.84it/s]"
          ]
        },
        {
          "output_type": "stream",
          "name": "stdout",
          "text": [
            "{'epoch': 3, 'iter': 480, 'avg_loss': 6.469548799391844, 'avg_acc': 49.83757796257796, 'loss': 6.377346992492676}\n"
          ]
        },
        {
          "output_type": "stream",
          "name": "stderr",
          "text": [
            "EP_train:3:  37%|| 491/1327 [04:37<07:30,  1.85it/s]"
          ]
        },
        {
          "output_type": "stream",
          "name": "stdout",
          "text": [
            "{'epoch': 3, 'iter': 490, 'avg_loss': 6.473025791028366, 'avg_acc': 49.872708757637476, 'loss': 6.988549709320068}\n"
          ]
        },
        {
          "output_type": "stream",
          "name": "stderr",
          "text": [
            "EP_train:3:  38%|| 501/1327 [04:42<08:19,  1.65it/s]"
          ]
        },
        {
          "output_type": "stream",
          "name": "stdout",
          "text": [
            "{'epoch': 3, 'iter': 500, 'avg_loss': 6.468076404221281, 'avg_acc': 49.86901197604791, 'loss': 5.426817417144775}\n"
          ]
        },
        {
          "output_type": "stream",
          "name": "stderr",
          "text": [
            "EP_train:3:  39%|| 511/1327 [04:48<07:17,  1.86it/s]"
          ]
        },
        {
          "output_type": "stream",
          "name": "stdout",
          "text": [
            "{'epoch': 3, 'iter': 510, 'avg_loss': 6.4736071985995, 'avg_acc': 49.96942270058709, 'loss': 6.961898326873779}\n"
          ]
        },
        {
          "output_type": "stream",
          "name": "stderr",
          "text": [
            "EP_train:3:  39%|| 521/1327 [04:53<07:45,  1.73it/s]"
          ]
        },
        {
          "output_type": "stream",
          "name": "stdout",
          "text": [
            "{'epoch': 3, 'iter': 520, 'avg_loss': 6.476784961466139, 'avg_acc': 49.94601727447217, 'loss': 6.886814594268799}\n"
          ]
        },
        {
          "output_type": "stream",
          "name": "stderr",
          "text": [
            "EP_train:3:  40%|| 531/1327 [04:59<07:14,  1.83it/s]"
          ]
        },
        {
          "output_type": "stream",
          "name": "stdout",
          "text": [
            "{'epoch': 3, 'iter': 530, 'avg_loss': 6.475242260934718, 'avg_acc': 49.87641242937853, 'loss': 6.966220855712891}\n"
          ]
        },
        {
          "output_type": "stream",
          "name": "stderr",
          "text": [
            "EP_train:3:  41%|| 541/1327 [05:04<07:03,  1.86it/s]"
          ]
        },
        {
          "output_type": "stream",
          "name": "stdout",
          "text": [
            "{'epoch': 3, 'iter': 540, 'avg_loss': 6.475162315721212, 'avg_acc': 49.913354898336415, 'loss': 6.561749458312988}\n"
          ]
        },
        {
          "output_type": "stream",
          "name": "stderr",
          "text": [
            "EP_train:3:  42%|| 551/1327 [05:10<07:23,  1.75it/s]"
          ]
        },
        {
          "output_type": "stream",
          "name": "stdout",
          "text": [
            "{'epoch': 3, 'iter': 550, 'avg_loss': 6.472681861607436, 'avg_acc': 49.93194192377495, 'loss': 6.482933521270752}\n"
          ]
        },
        {
          "output_type": "stream",
          "name": "stderr",
          "text": [
            "EP_train:3:  42%|| 561/1327 [05:15<07:00,  1.82it/s]"
          ]
        },
        {
          "output_type": "stream",
          "name": "stdout",
          "text": [
            "{'epoch': 3, 'iter': 560, 'avg_loss': 6.473735299339906, 'avg_acc': 49.922014260249554, 'loss': 6.097646236419678}\n"
          ]
        },
        {
          "output_type": "stream",
          "name": "stderr",
          "text": [
            "EP_train:3:  43%|| 571/1327 [05:21<07:24,  1.70it/s]"
          ]
        },
        {
          "output_type": "stream",
          "name": "stdout",
          "text": [
            "{'epoch': 3, 'iter': 570, 'avg_loss': 6.475101002461021, 'avg_acc': 49.89054290718038, 'loss': 6.639443874359131}\n"
          ]
        },
        {
          "output_type": "stream",
          "name": "stderr",
          "text": [
            "EP_train:3:  44%|| 581/1327 [05:27<06:42,  1.85it/s]"
          ]
        },
        {
          "output_type": "stream",
          "name": "stdout",
          "text": [
            "{'epoch': 3, 'iter': 580, 'avg_loss': 6.4762851637940395, 'avg_acc': 49.924698795180724, 'loss': 6.308460235595703}\n"
          ]
        },
        {
          "output_type": "stream",
          "name": "stderr",
          "text": [
            "EP_train:3:  45%|| 591/1327 [05:32<06:43,  1.82it/s]"
          ]
        },
        {
          "output_type": "stream",
          "name": "stdout",
          "text": [
            "{'epoch': 3, 'iter': 590, 'avg_loss': 6.477125853653083, 'avg_acc': 49.867808798646365, 'loss': 6.163937568664551}\n"
          ]
        },
        {
          "output_type": "stream",
          "name": "stderr",
          "text": [
            "EP_train:3:  45%|| 601/1327 [05:38<06:45,  1.79it/s]"
          ]
        },
        {
          "output_type": "stream",
          "name": "stdout",
          "text": [
            "{'epoch': 3, 'iter': 600, 'avg_loss': 6.478279739767065, 'avg_acc': 49.859608985024956, 'loss': 6.981374263763428}\n",
            "Saved checkpoint model\n"
          ]
        },
        {
          "output_type": "stream",
          "name": "stderr",
          "text": [
            "EP_train:3:  46%|| 611/1327 [05:43<06:28,  1.84it/s]"
          ]
        },
        {
          "output_type": "stream",
          "name": "stdout",
          "text": [
            "{'epoch': 3, 'iter': 610, 'avg_loss': 6.480960314480646, 'avg_acc': 49.80564648117839, 'loss': 5.60982084274292}\n"
          ]
        },
        {
          "output_type": "stream",
          "name": "stderr",
          "text": [
            "EP_train:3:  47%|| 621/1327 [05:49<07:12,  1.63it/s]"
          ]
        },
        {
          "output_type": "stream",
          "name": "stdout",
          "text": [
            "{'epoch': 3, 'iter': 620, 'avg_loss': 6.4778023334325034, 'avg_acc': 49.86413043478261, 'loss': 6.396552085876465}\n"
          ]
        },
        {
          "output_type": "stream",
          "name": "stderr",
          "text": [
            "EP_train:3:  48%|| 631/1327 [05:55<06:17,  1.84it/s]"
          ]
        },
        {
          "output_type": "stream",
          "name": "stdout",
          "text": [
            "{'epoch': 3, 'iter': 630, 'avg_loss': 6.4721626109442125, 'avg_acc': 49.88114104595879, 'loss': 6.472781658172607}\n"
          ]
        },
        {
          "output_type": "stream",
          "name": "stderr",
          "text": [
            "EP_train:3:  48%|| 641/1327 [06:01<07:10,  1.59it/s]"
          ]
        },
        {
          "output_type": "stream",
          "name": "stdout",
          "text": [
            "{'epoch': 3, 'iter': 640, 'avg_loss': 6.4731370097203484, 'avg_acc': 49.9317472698908, 'loss': 6.957470417022705}\n"
          ]
        },
        {
          "output_type": "stream",
          "name": "stderr",
          "text": [
            "EP_train:3:  49%|| 651/1327 [06:06<06:13,  1.81it/s]"
          ]
        },
        {
          "output_type": "stream",
          "name": "stdout",
          "text": [
            "{'epoch': 3, 'iter': 650, 'avg_loss': 6.473348294534991, 'avg_acc': 49.96639784946236, 'loss': 5.574980735778809}\n"
          ]
        },
        {
          "output_type": "stream",
          "name": "stderr",
          "text": [
            "EP_train:3:  50%|| 661/1327 [06:12<05:54,  1.88it/s]"
          ]
        },
        {
          "output_type": "stream",
          "name": "stdout",
          "text": [
            "{'epoch': 3, 'iter': 660, 'avg_loss': 6.475958926594744, 'avg_acc': 49.97636157337368, 'loss': 6.062900543212891}\n"
          ]
        },
        {
          "output_type": "stream",
          "name": "stderr",
          "text": [
            "EP_train:3:  51%|| 671/1327 [06:18<06:36,  1.65it/s]"
          ]
        },
        {
          "output_type": "stream",
          "name": "stdout",
          "text": [
            "{'epoch': 3, 'iter': 670, 'avg_loss': 6.47597983128623, 'avg_acc': 49.981371087928466, 'loss': 6.795856952667236}\n"
          ]
        },
        {
          "output_type": "stream",
          "name": "stderr",
          "text": [
            "EP_train:3:  51%|| 681/1327 [06:23<05:54,  1.82it/s]"
          ]
        },
        {
          "output_type": "stream",
          "name": "stdout",
          "text": [
            "{'epoch': 3, 'iter': 680, 'avg_loss': 6.476228716089862, 'avg_acc': 49.98623348017621, 'loss': 7.183791160583496}\n"
          ]
        },
        {
          "output_type": "stream",
          "name": "stderr",
          "text": [
            "EP_train:3:  52%|| 691/1327 [06:29<06:04,  1.74it/s]"
          ]
        },
        {
          "output_type": "stream",
          "name": "stdout",
          "text": [
            "{'epoch': 3, 'iter': 690, 'avg_loss': 6.478577906419503, 'avg_acc': 50.07235890014472, 'loss': 6.882779598236084}\n"
          ]
        },
        {
          "output_type": "stream",
          "name": "stderr",
          "text": [
            "EP_train:3:  53%|| 701/1327 [06:34<05:37,  1.86it/s]"
          ]
        },
        {
          "output_type": "stream",
          "name": "stdout",
          "text": [
            "{'epoch': 3, 'iter': 700, 'avg_loss': 6.4791122761670605, 'avg_acc': 50.10699001426534, 'loss': 6.229858875274658}\n"
          ]
        },
        {
          "output_type": "stream",
          "name": "stderr",
          "text": [
            "EP_train:3:  54%|| 711/1327 [06:40<05:33,  1.85it/s]"
          ]
        },
        {
          "output_type": "stream",
          "name": "stdout",
          "text": [
            "{'epoch': 3, 'iter': 710, 'avg_loss': 6.481728180215999, 'avg_acc': 50.12306610407876, 'loss': 7.188157558441162}\n"
          ]
        },
        {
          "output_type": "stream",
          "name": "stderr",
          "text": [
            "EP_train:3:  54%|| 721/1327 [06:45<05:51,  1.72it/s]"
          ]
        },
        {
          "output_type": "stream",
          "name": "stdout",
          "text": [
            "{'epoch': 3, 'iter': 720, 'avg_loss': 6.482524901587159, 'avg_acc': 50.078016643550626, 'loss': 6.4050774574279785}\n"
          ]
        },
        {
          "output_type": "stream",
          "name": "stderr",
          "text": [
            "EP_train:3:  55%|| 731/1327 [06:51<05:20,  1.86it/s]"
          ]
        },
        {
          "output_type": "stream",
          "name": "stdout",
          "text": [
            "{'epoch': 3, 'iter': 730, 'avg_loss': 6.482913930504169, 'avg_acc': 50.05557455540356, 'loss': 6.870237350463867}\n"
          ]
        },
        {
          "output_type": "stream",
          "name": "stderr",
          "text": [
            "EP_train:3:  56%|| 741/1327 [06:56<05:50,  1.67it/s]"
          ]
        },
        {
          "output_type": "stream",
          "name": "stdout",
          "text": [
            "{'epoch': 3, 'iter': 740, 'avg_loss': 6.4811944433873805, 'avg_acc': 50.0253036437247, 'loss': 6.68235969543457}\n"
          ]
        },
        {
          "output_type": "stream",
          "name": "stderr",
          "text": [
            "EP_train:3:  57%|| 751/1327 [07:02<05:10,  1.85it/s]"
          ]
        },
        {
          "output_type": "stream",
          "name": "stdout",
          "text": [
            "{'epoch': 3, 'iter': 750, 'avg_loss': 6.480707830817658, 'avg_acc': 50.0, 'loss': 6.693408489227295}\n"
          ]
        },
        {
          "output_type": "stream",
          "name": "stderr",
          "text": [
            "EP_train:3:  57%|| 761/1327 [07:07<05:03,  1.86it/s]"
          ]
        },
        {
          "output_type": "stream",
          "name": "stdout",
          "text": [
            "{'epoch': 3, 'iter': 760, 'avg_loss': 6.479862122905395, 'avg_acc': 49.95482917214192, 'loss': 5.946192741394043}\n"
          ]
        },
        {
          "output_type": "stream",
          "name": "stderr",
          "text": [
            "EP_train:3:  58%|| 771/1327 [07:13<05:10,  1.79it/s]"
          ]
        },
        {
          "output_type": "stream",
          "name": "stdout",
          "text": [
            "{'epoch': 3, 'iter': 770, 'avg_loss': 6.4782457364053885, 'avg_acc': 49.95136186770428, 'loss': 6.342598915100098}\n"
          ]
        },
        {
          "output_type": "stream",
          "name": "stderr",
          "text": [
            "EP_train:3:  59%|| 781/1327 [07:18<04:50,  1.88it/s]"
          ]
        },
        {
          "output_type": "stream",
          "name": "stdout",
          "text": [
            "{'epoch': 3, 'iter': 780, 'avg_loss': 6.480502571858151, 'avg_acc': 49.8839628681178, 'loss': 6.575070381164551}\n"
          ]
        },
        {
          "output_type": "stream",
          "name": "stderr",
          "text": [
            "EP_train:3:  60%|| 791/1327 [07:24<05:18,  1.68it/s]"
          ]
        },
        {
          "output_type": "stream",
          "name": "stdout",
          "text": [
            "{'epoch': 3, 'iter': 790, 'avg_loss': 6.479393216360987, 'avg_acc': 49.905183312262956, 'loss': 6.794243335723877}\n"
          ]
        },
        {
          "output_type": "stream",
          "name": "stderr",
          "text": [
            "EP_train:3:  60%|| 801/1327 [07:30<04:46,  1.83it/s]"
          ]
        },
        {
          "output_type": "stream",
          "name": "stdout",
          "text": [
            "{'epoch': 3, 'iter': 800, 'avg_loss': 6.480816296423866, 'avg_acc': 49.91807116104869, 'loss': 6.62744140625}\n"
          ]
        },
        {
          "output_type": "stream",
          "name": "stderr",
          "text": [
            "EP_train:3:  61%|| 811/1327 [07:35<04:35,  1.87it/s]"
          ]
        },
        {
          "output_type": "stream",
          "name": "stdout",
          "text": [
            "{'epoch': 3, 'iter': 810, 'avg_loss': 6.481123796667624, 'avg_acc': 49.9267879161529, 'loss': 6.437987804412842}\n"
          ]
        },
        {
          "output_type": "stream",
          "name": "stderr",
          "text": [
            "EP_train:3:  62%|| 821/1327 [07:41<04:42,  1.79it/s]"
          ]
        },
        {
          "output_type": "stream",
          "name": "stdout",
          "text": [
            "{'epoch': 3, 'iter': 820, 'avg_loss': 6.479859622184019, 'avg_acc': 49.9010353227771, 'loss': 6.618236541748047}\n"
          ]
        },
        {
          "output_type": "stream",
          "name": "stderr",
          "text": [
            "EP_train:3:  63%|| 831/1327 [07:46<04:31,  1.83it/s]"
          ]
        },
        {
          "output_type": "stream",
          "name": "stdout",
          "text": [
            "{'epoch': 3, 'iter': 830, 'avg_loss': 6.480940936991741, 'avg_acc': 49.95111311672684, 'loss': 6.412960529327393}\n"
          ]
        },
        {
          "output_type": "stream",
          "name": "stderr",
          "text": [
            "EP_train:3:  63%|| 841/1327 [07:52<05:00,  1.62it/s]"
          ]
        },
        {
          "output_type": "stream",
          "name": "stdout",
          "text": [
            "{'epoch': 3, 'iter': 840, 'avg_loss': 6.477186880553945, 'avg_acc': 49.95912604042807, 'loss': 6.453955173492432}\n"
          ]
        },
        {
          "output_type": "stream",
          "name": "stderr",
          "text": [
            "EP_train:3:  64%|| 851/1327 [07:58<04:18,  1.84it/s]"
          ]
        },
        {
          "output_type": "stream",
          "name": "stdout",
          "text": [
            "{'epoch': 3, 'iter': 850, 'avg_loss': 6.480367687978419, 'avg_acc': 49.95593419506463, 'loss': 6.685673713684082}\n"
          ]
        },
        {
          "output_type": "stream",
          "name": "stderr",
          "text": [
            "EP_train:3:  65%|| 861/1327 [08:03<04:16,  1.82it/s]"
          ]
        },
        {
          "output_type": "stream",
          "name": "stdout",
          "text": [
            "{'epoch': 3, 'iter': 860, 'avg_loss': 6.482253297834585, 'avg_acc': 49.96007549361208, 'loss': 6.651043891906738}\n"
          ]
        },
        {
          "output_type": "stream",
          "name": "stderr",
          "text": [
            "EP_train:3:  66%|| 871/1327 [08:09<04:11,  1.81it/s]"
          ]
        },
        {
          "output_type": "stream",
          "name": "stdout",
          "text": [
            "{'epoch': 3, 'iter': 870, 'avg_loss': 6.481670958303283, 'avg_acc': 50.010763490241104, 'loss': 6.768220901489258}\n"
          ]
        },
        {
          "output_type": "stream",
          "name": "stderr",
          "text": [
            "EP_train:3:  66%|| 881/1327 [08:14<03:57,  1.88it/s]"
          ]
        },
        {
          "output_type": "stream",
          "name": "stdout",
          "text": [
            "{'epoch': 3, 'iter': 880, 'avg_loss': 6.480860643570864, 'avg_acc': 50.00709421112373, 'loss': 6.57423210144043}\n"
          ]
        },
        {
          "output_type": "stream",
          "name": "stderr",
          "text": [
            "EP_train:3:  67%|| 891/1327 [08:20<04:10,  1.74it/s]"
          ]
        },
        {
          "output_type": "stream",
          "name": "stdout",
          "text": [
            "{'epoch': 3, 'iter': 890, 'avg_loss': 6.484153007417415, 'avg_acc': 49.98246352413019, 'loss': 7.247960567474365}\n"
          ]
        },
        {
          "output_type": "stream",
          "name": "stderr",
          "text": [
            "EP_train:3:  68%|| 901/1327 [08:25<03:48,  1.86it/s]"
          ]
        },
        {
          "output_type": "stream",
          "name": "stdout",
          "text": [
            "{'epoch': 3, 'iter': 900, 'avg_loss': 6.485331924853393, 'avg_acc': 49.95144284128746, 'loss': 6.6497697830200195}\n",
            "Saved checkpoint model\n"
          ]
        },
        {
          "output_type": "stream",
          "name": "stderr",
          "text": [
            "EP_train:3:  69%|| 911/1327 [08:31<04:01,  1.73it/s]"
          ]
        },
        {
          "output_type": "stream",
          "name": "stdout",
          "text": [
            "{'epoch': 3, 'iter': 910, 'avg_loss': 6.48460605874674, 'avg_acc': 49.948545554335894, 'loss': 5.993572235107422}\n"
          ]
        },
        {
          "output_type": "stream",
          "name": "stderr",
          "text": [
            "EP_train:3:  69%|| 921/1327 [08:36<03:42,  1.82it/s]"
          ]
        },
        {
          "output_type": "stream",
          "name": "stdout",
          "text": [
            "{'epoch': 3, 'iter': 920, 'avg_loss': 6.480375742938179, 'avg_acc': 49.98642779587405, 'loss': 5.574785232543945}\n"
          ]
        },
        {
          "output_type": "stream",
          "name": "stderr",
          "text": [
            "EP_train:3:  70%|| 931/1327 [08:42<03:32,  1.86it/s]"
          ]
        },
        {
          "output_type": "stream",
          "name": "stdout",
          "text": [
            "{'epoch': 3, 'iter': 930, 'avg_loss': 6.480677409023527, 'avg_acc': 49.929511278195484, 'loss': 6.513471603393555}\n"
          ]
        },
        {
          "output_type": "stream",
          "name": "stderr",
          "text": [
            "EP_train:3:  71%|| 941/1327 [08:48<03:38,  1.76it/s]"
          ]
        },
        {
          "output_type": "stream",
          "name": "stdout",
          "text": [
            "{'epoch': 3, 'iter': 940, 'avg_loss': 6.478220532728432, 'avg_acc': 49.873804463336874, 'loss': 7.267277240753174}\n"
          ]
        },
        {
          "output_type": "stream",
          "name": "stderr",
          "text": [
            "EP_train:3:  72%|| 951/1327 [08:53<03:19,  1.89it/s]"
          ]
        },
        {
          "output_type": "stream",
          "name": "stdout",
          "text": [
            "{'epoch': 3, 'iter': 950, 'avg_loss': 6.4772745036176325, 'avg_acc': 49.86527339642481, 'loss': 6.214763641357422}\n"
          ]
        },
        {
          "output_type": "stream",
          "name": "stderr",
          "text": [
            "EP_train:3:  72%|| 961/1327 [08:58<03:34,  1.71it/s]"
          ]
        },
        {
          "output_type": "stream",
          "name": "stdout",
          "text": [
            "{'epoch': 3, 'iter': 960, 'avg_loss': 6.479972860691575, 'avg_acc': 49.86667533818939, 'loss': 6.843387603759766}\n"
          ]
        },
        {
          "output_type": "stream",
          "name": "stderr",
          "text": [
            "EP_train:3:  73%|| 971/1327 [09:04<03:18,  1.80it/s]"
          ]
        },
        {
          "output_type": "stream",
          "name": "stdout",
          "text": [
            "{'epoch': 3, 'iter': 970, 'avg_loss': 6.479069163698615, 'avg_acc': 49.880921730175075, 'loss': 6.547079563140869}\n"
          ]
        },
        {
          "output_type": "stream",
          "name": "stderr",
          "text": [
            "EP_train:3:  74%|| 981/1327 [09:10<03:06,  1.85it/s]"
          ]
        },
        {
          "output_type": "stream",
          "name": "stdout",
          "text": [
            "{'epoch': 3, 'iter': 980, 'avg_loss': 6.480703193963971, 'avg_acc': 49.92673292558614, 'loss': 7.100419998168945}\n"
          ]
        },
        {
          "output_type": "stream",
          "name": "stderr",
          "text": [
            "EP_train:3:  75%|| 991/1327 [09:15<03:06,  1.80it/s]"
          ]
        },
        {
          "output_type": "stream",
          "name": "stdout",
          "text": [
            "{'epoch': 3, 'iter': 990, 'avg_loss': 6.482726839067476, 'avg_acc': 49.94954591321898, 'loss': 6.637692928314209}\n"
          ]
        },
        {
          "output_type": "stream",
          "name": "stderr",
          "text": [
            "EP_train:3:  75%|| 1001/1327 [09:21<02:55,  1.85it/s]"
          ]
        },
        {
          "output_type": "stream",
          "name": "stdout",
          "text": [
            "{'epoch': 3, 'iter': 1000, 'avg_loss': 6.483061047819826, 'avg_acc': 49.95941558441558, 'loss': 6.8822760581970215}\n"
          ]
        },
        {
          "output_type": "stream",
          "name": "stderr",
          "text": [
            "EP_train:3:  76%|| 1011/1327 [09:26<03:09,  1.67it/s]"
          ]
        },
        {
          "output_type": "stream",
          "name": "stdout",
          "text": [
            "{'epoch': 3, 'iter': 1010, 'avg_loss': 6.485126221804897, 'avg_acc': 49.922725024727995, 'loss': 6.904293060302734}\n"
          ]
        },
        {
          "output_type": "stream",
          "name": "stderr",
          "text": [
            "EP_train:3:  77%|| 1021/1327 [09:32<02:43,  1.87it/s]"
          ]
        },
        {
          "output_type": "stream",
          "name": "stdout",
          "text": [
            "{'epoch': 3, 'iter': 1020, 'avg_loss': 6.484997107630028, 'avg_acc': 49.92654260528893, 'loss': 6.258779525756836}\n"
          ]
        },
        {
          "output_type": "stream",
          "name": "stderr",
          "text": [
            "EP_train:3:  78%|| 1031/1327 [09:37<02:38,  1.87it/s]"
          ]
        },
        {
          "output_type": "stream",
          "name": "stdout",
          "text": [
            "{'epoch': 3, 'iter': 1030, 'avg_loss': 6.486076498817866, 'avg_acc': 49.90906886517944, 'loss': 6.536184787750244}\n"
          ]
        },
        {
          "output_type": "stream",
          "name": "stderr",
          "text": [
            "EP_train:3:  78%|| 1041/1327 [09:43<02:40,  1.78it/s]"
          ]
        },
        {
          "output_type": "stream",
          "name": "stdout",
          "text": [
            "{'epoch': 3, 'iter': 1040, 'avg_loss': 6.486880733460675, 'avg_acc': 49.96097502401537, 'loss': 5.619089126586914}\n"
          ]
        },
        {
          "output_type": "stream",
          "name": "stderr",
          "text": [
            "EP_train:3:  79%|| 1051/1327 [09:48<02:30,  1.83it/s]"
          ]
        },
        {
          "output_type": "stream",
          "name": "stdout",
          "text": [
            "{'epoch': 3, 'iter': 1050, 'avg_loss': 6.484664707383465, 'avg_acc': 49.95837297811608, 'loss': 6.355477809906006}\n"
          ]
        },
        {
          "output_type": "stream",
          "name": "stderr",
          "text": [
            "EP_train:3:  80%|| 1061/1327 [09:54<02:45,  1.61it/s]"
          ]
        },
        {
          "output_type": "stream",
          "name": "stdout",
          "text": [
            "{'epoch': 3, 'iter': 1060, 'avg_loss': 6.48538595095319, 'avg_acc': 49.973491988689915, 'loss': 7.136652946472168}\n"
          ]
        },
        {
          "output_type": "stream",
          "name": "stderr",
          "text": [
            "EP_train:3:  81%|| 1071/1327 [10:00<02:20,  1.82it/s]"
          ]
        },
        {
          "output_type": "stream",
          "name": "stdout",
          "text": [
            "{'epoch': 3, 'iter': 1070, 'avg_loss': 6.484670046887366, 'avg_acc': 49.99708216619981, 'loss': 6.1191935539245605}\n"
          ]
        },
        {
          "output_type": "stream",
          "name": "stderr",
          "text": [
            "EP_train:3:  81%|| 1081/1327 [10:06<02:25,  1.69it/s]"
          ]
        },
        {
          "output_type": "stream",
          "name": "stdout",
          "text": [
            "{'epoch': 3, 'iter': 1080, 'avg_loss': 6.486130149798962, 'avg_acc': 49.982654949121184, 'loss': 6.912282943725586}\n"
          ]
        },
        {
          "output_type": "stream",
          "name": "stderr",
          "text": [
            "EP_train:3:  82%|| 1091/1327 [10:11<02:07,  1.85it/s]"
          ]
        },
        {
          "output_type": "stream",
          "name": "stdout",
          "text": [
            "{'epoch': 3, 'iter': 1090, 'avg_loss': 6.484812497437055, 'avg_acc': 50.02577910174152, 'loss': 6.664072513580322}\n"
          ]
        },
        {
          "output_type": "stream",
          "name": "stderr",
          "text": [
            "EP_train:3:  83%|| 1101/1327 [10:17<02:01,  1.86it/s]"
          ]
        },
        {
          "output_type": "stream",
          "name": "stdout",
          "text": [
            "{'epoch': 3, 'iter': 1100, 'avg_loss': 6.485845789705809, 'avg_acc': 50.0397366030881, 'loss': 6.301637172698975}\n"
          ]
        },
        {
          "output_type": "stream",
          "name": "stderr",
          "text": [
            "EP_train:3:  84%|| 1111/1327 [10:22<02:04,  1.73it/s]"
          ]
        },
        {
          "output_type": "stream",
          "name": "stdout",
          "text": [
            "{'epoch': 3, 'iter': 1110, 'avg_loss': 6.485271553001781, 'avg_acc': 50.05906840684068, 'loss': 6.641603946685791}\n"
          ]
        },
        {
          "output_type": "stream",
          "name": "stderr",
          "text": [
            "EP_train:3:  84%|| 1121/1327 [10:28<01:49,  1.87it/s]"
          ]
        },
        {
          "output_type": "stream",
          "name": "stdout",
          "text": [
            "{'epoch': 3, 'iter': 1120, 'avg_loss': 6.484891952732437, 'avg_acc': 50.07247992863515, 'loss': 6.849635601043701}\n"
          ]
        },
        {
          "output_type": "stream",
          "name": "stderr",
          "text": [
            "EP_train:3:  85%|| 1131/1327 [10:33<01:55,  1.70it/s]"
          ]
        },
        {
          "output_type": "stream",
          "name": "stdout",
          "text": [
            "{'epoch': 3, 'iter': 1130, 'avg_loss': 6.483990138026068, 'avg_acc': 50.08841732979664, 'loss': 6.112590789794922}\n"
          ]
        },
        {
          "output_type": "stream",
          "name": "stderr",
          "text": [
            "EP_train:3:  86%|| 1141/1327 [10:39<01:41,  1.84it/s]"
          ]
        },
        {
          "output_type": "stream",
          "name": "stdout",
          "text": [
            "{'epoch': 3, 'iter': 1140, 'avg_loss': 6.481941684101048, 'avg_acc': 50.06847063978965, 'loss': 6.215579509735107}\n"
          ]
        },
        {
          "output_type": "stream",
          "name": "stderr",
          "text": [
            "EP_train:3:  87%|| 1151/1327 [10:44<01:33,  1.87it/s]"
          ]
        },
        {
          "output_type": "stream",
          "name": "stdout",
          "text": [
            "{'epoch': 3, 'iter': 1150, 'avg_loss': 6.484059276216244, 'avg_acc': 50.05973066898349, 'loss': 6.900302410125732}\n"
          ]
        },
        {
          "output_type": "stream",
          "name": "stderr",
          "text": [
            "EP_train:3:  87%|| 1161/1327 [10:50<01:33,  1.78it/s]"
          ]
        },
        {
          "output_type": "stream",
          "name": "stdout",
          "text": [
            "{'epoch': 3, 'iter': 1160, 'avg_loss': 6.485759572054578, 'avg_acc': 50.07536606373816, 'loss': 6.7751336097717285}\n"
          ]
        },
        {
          "output_type": "stream",
          "name": "stderr",
          "text": [
            "EP_train:3:  88%|| 1171/1327 [10:55<01:22,  1.89it/s]"
          ]
        },
        {
          "output_type": "stream",
          "name": "stdout",
          "text": [
            "{'epoch': 3, 'iter': 1170, 'avg_loss': 6.4853204907157505, 'avg_acc': 50.0346925704526, 'loss': 5.873898983001709}\n"
          ]
        },
        {
          "output_type": "stream",
          "name": "stderr",
          "text": [
            "EP_train:3:  89%|| 1181/1327 [11:01<01:25,  1.70it/s]"
          ]
        },
        {
          "output_type": "stream",
          "name": "stdout",
          "text": [
            "{'epoch': 3, 'iter': 1180, 'avg_loss': 6.484689543753938, 'avg_acc': 50.029106689246404, 'loss': 5.949039936065674}\n"
          ]
        },
        {
          "output_type": "stream",
          "name": "stderr",
          "text": [
            "EP_train:3:  90%|| 1191/1327 [11:07<01:12,  1.88it/s]"
          ]
        },
        {
          "output_type": "stream",
          "name": "stdout",
          "text": [
            "{'epoch': 3, 'iter': 1190, 'avg_loss': 6.484399407576554, 'avg_acc': 50.01574307304786, 'loss': 6.378179550170898}\n"
          ]
        },
        {
          "output_type": "stream",
          "name": "stderr",
          "text": [
            "EP_train:3:  91%|| 1201/1327 [11:12<01:07,  1.88it/s]"
          ]
        },
        {
          "output_type": "stream",
          "name": "stdout",
          "text": [
            "{'epoch': 3, 'iter': 1200, 'avg_loss': 6.486614039101073, 'avg_acc': 50.023417985012486, 'loss': 6.48241662979126}\n",
            "Saved checkpoint model\n"
          ]
        },
        {
          "output_type": "stream",
          "name": "stderr",
          "text": [
            "EP_train:3:  91%|| 1211/1327 [11:18<01:04,  1.79it/s]"
          ]
        },
        {
          "output_type": "stream",
          "name": "stdout",
          "text": [
            "{'epoch': 3, 'iter': 1210, 'avg_loss': 6.485708798188793, 'avg_acc': 50.0412881915772, 'loss': 5.461719036102295}\n"
          ]
        },
        {
          "output_type": "stream",
          "name": "stderr",
          "text": [
            "EP_train:3:  92%|| 1221/1327 [11:23<00:56,  1.87it/s]"
          ]
        },
        {
          "output_type": "stream",
          "name": "stdout",
          "text": [
            "{'epoch': 3, 'iter': 1220, 'avg_loss': 6.488159710027271, 'avg_acc': 50.071662571662564, 'loss': 6.137512683868408}\n"
          ]
        },
        {
          "output_type": "stream",
          "name": "stderr",
          "text": [
            "EP_train:3:  93%|| 1231/1327 [11:29<00:56,  1.69it/s]"
          ]
        },
        {
          "output_type": "stream",
          "name": "stdout",
          "text": [
            "{'epoch': 3, 'iter': 1230, 'avg_loss': 6.487775759228258, 'avg_acc': 50.05584890333063, 'loss': 6.604644775390625}\n"
          ]
        },
        {
          "output_type": "stream",
          "name": "stderr",
          "text": [
            "EP_train:3:  94%|| 1241/1327 [11:34<00:45,  1.87it/s]"
          ]
        },
        {
          "output_type": "stream",
          "name": "stdout",
          "text": [
            "{'epoch': 3, 'iter': 1240, 'avg_loss': 6.487605634377331, 'avg_acc': 50.03777195809831, 'loss': 6.227753639221191}\n"
          ]
        },
        {
          "output_type": "stream",
          "name": "stderr",
          "text": [
            "EP_train:3:  94%|| 1251/1327 [11:39<00:41,  1.82it/s]"
          ]
        },
        {
          "output_type": "stream",
          "name": "stdout",
          "text": [
            "{'epoch': 3, 'iter': 1250, 'avg_loss': 6.488895142583443, 'avg_acc': 50.03497202238209, 'loss': 6.417688369750977}\n"
          ]
        },
        {
          "output_type": "stream",
          "name": "stderr",
          "text": [
            "EP_train:3:  95%|| 1261/1327 [11:45<00:36,  1.81it/s]"
          ]
        },
        {
          "output_type": "stream",
          "name": "stdout",
          "text": [
            "{'epoch': 3, 'iter': 1260, 'avg_loss': 6.485931102667982, 'avg_acc': 50.049563838223634, 'loss': 6.022523880004883}\n"
          ]
        },
        {
          "output_type": "stream",
          "name": "stderr",
          "text": [
            "EP_train:3:  96%|| 1271/1327 [11:51<00:29,  1.88it/s]"
          ]
        },
        {
          "output_type": "stream",
          "name": "stdout",
          "text": [
            "{'epoch': 3, 'iter': 1270, 'avg_loss': 6.485342510472499, 'avg_acc': 50.0565499606609, 'loss': 5.601425647735596}\n"
          ]
        },
        {
          "output_type": "stream",
          "name": "stderr",
          "text": [
            "EP_train:3:  97%|| 1281/1327 [11:56<00:27,  1.68it/s]"
          ]
        },
        {
          "output_type": "stream",
          "name": "stdout",
          "text": [
            "{'epoch': 3, 'iter': 1280, 'avg_loss': 6.484675892063828, 'avg_acc': 50.05854800936768, 'loss': 6.047631740570068}\n"
          ]
        },
        {
          "output_type": "stream",
          "name": "stderr",
          "text": [
            "EP_train:3:  97%|| 1291/1327 [12:02<00:19,  1.85it/s]"
          ]
        },
        {
          "output_type": "stream",
          "name": "stdout",
          "text": [
            "{'epoch': 3, 'iter': 1290, 'avg_loss': 6.485961659576984, 'avg_acc': 50.07503872966692, 'loss': 6.677878379821777}\n"
          ]
        },
        {
          "output_type": "stream",
          "name": "stderr",
          "text": [
            "EP_train:3:  98%|| 1301/1327 [12:07<00:14,  1.79it/s]"
          ]
        },
        {
          "output_type": "stream",
          "name": "stdout",
          "text": [
            "{'epoch': 3, 'iter': 1300, 'avg_loss': 6.486417043584755, 'avg_acc': 50.052843966179864, 'loss': 6.400397777557373}\n"
          ]
        },
        {
          "output_type": "stream",
          "name": "stderr",
          "text": [
            "EP_train:3:  99%|| 1311/1327 [12:13<00:08,  1.85it/s]"
          ]
        },
        {
          "output_type": "stream",
          "name": "stdout",
          "text": [
            "{'epoch': 3, 'iter': 1310, 'avg_loss': 6.487170288891941, 'avg_acc': 50.03337147215866, 'loss': 6.790931701660156}\n"
          ]
        },
        {
          "output_type": "stream",
          "name": "stderr",
          "text": [
            "EP_train:3: 100%|| 1321/1327 [12:18<00:03,  1.88it/s]"
          ]
        },
        {
          "output_type": "stream",
          "name": "stdout",
          "text": [
            "{'epoch': 3, 'iter': 1320, 'avg_loss': 6.488127202720555, 'avg_acc': 49.9976343679031, 'loss': 6.741285800933838}\n"
          ]
        },
        {
          "output_type": "stream",
          "name": "stderr",
          "text": [
            "EP_train:3: 100%|| 1327/1327 [12:21<00:00,  1.79it/s]\n"
          ]
        },
        {
          "output_type": "stream",
          "name": "stdout",
          "text": [
            "EP3, train: avg_loss=6.4888293917410875, total_acc=50.00353448478993\n",
            "Saved model after epoch 3 to /content/drive/MyDrive/email_bert/checkpoints/bert_email_epoch_3.pth\n"
          ]
        },
        {
          "output_type": "stream",
          "name": "stderr",
          "text": [
            "EP_train:4:   0%|| 1/1327 [00:00<13:34,  1.63it/s]"
          ]
        },
        {
          "output_type": "stream",
          "name": "stdout",
          "text": [
            "{'epoch': 4, 'iter': 0, 'avg_loss': 5.562652587890625, 'avg_acc': 37.5, 'loss': 5.562652587890625}\n",
            "Saved checkpoint model\n"
          ]
        },
        {
          "output_type": "stream",
          "name": "stderr",
          "text": [
            "EP_train:4:   1%|| 11/1327 [00:06<12:51,  1.71it/s]"
          ]
        },
        {
          "output_type": "stream",
          "name": "stdout",
          "text": [
            "{'epoch': 4, 'iter': 10, 'avg_loss': 6.110224333676425, 'avg_acc': 50.0, 'loss': 6.414937973022461}\n"
          ]
        },
        {
          "output_type": "stream",
          "name": "stderr",
          "text": [
            "EP_train:4:   2%|| 21/1327 [00:12<13:04,  1.66it/s]"
          ]
        },
        {
          "output_type": "stream",
          "name": "stdout",
          "text": [
            "{'epoch': 4, 'iter': 20, 'avg_loss': 6.384622301374163, 'avg_acc': 49.55357142857143, 'loss': 7.044796466827393}\n"
          ]
        },
        {
          "output_type": "stream",
          "name": "stderr",
          "text": [
            "EP_train:4:   2%|| 31/1327 [00:18<13:31,  1.60it/s]"
          ]
        },
        {
          "output_type": "stream",
          "name": "stdout",
          "text": [
            "{'epoch': 4, 'iter': 30, 'avg_loss': 6.321821366586993, 'avg_acc': 50.50403225806451, 'loss': 6.395533561706543}\n"
          ]
        },
        {
          "output_type": "stream",
          "name": "stderr",
          "text": [
            "EP_train:4:   3%|| 41/1327 [00:24<12:55,  1.66it/s]"
          ]
        },
        {
          "output_type": "stream",
          "name": "stdout",
          "text": [
            "{'epoch': 4, 'iter': 40, 'avg_loss': 6.303611685590046, 'avg_acc': 50.838414634146346, 'loss': 5.639540672302246}\n"
          ]
        },
        {
          "output_type": "stream",
          "name": "stderr",
          "text": [
            "EP_train:4:   4%|| 51/1327 [00:30<11:42,  1.82it/s]"
          ]
        },
        {
          "output_type": "stream",
          "name": "stdout",
          "text": [
            "{'epoch': 4, 'iter': 50, 'avg_loss': 6.329627167944815, 'avg_acc': 50.674019607843135, 'loss': 6.089866638183594}\n"
          ]
        },
        {
          "output_type": "stream",
          "name": "stderr",
          "text": [
            "EP_train:4:   5%|| 61/1327 [00:36<12:03,  1.75it/s]"
          ]
        },
        {
          "output_type": "stream",
          "name": "stdout",
          "text": [
            "{'epoch': 4, 'iter': 60, 'avg_loss': 6.396759572576304, 'avg_acc': 50.51229508196722, 'loss': 6.8349738121032715}\n"
          ]
        },
        {
          "output_type": "stream",
          "name": "stderr",
          "text": [
            "EP_train:4:   5%|| 71/1327 [00:41<11:14,  1.86it/s]"
          ]
        },
        {
          "output_type": "stream",
          "name": "stdout",
          "text": [
            "{'epoch': 4, 'iter': 70, 'avg_loss': 6.403281796146446, 'avg_acc': 50.39612676056338, 'loss': 5.768378257751465}\n"
          ]
        },
        {
          "output_type": "stream",
          "name": "stderr",
          "text": [
            "EP_train:4:   6%|| 81/1327 [00:47<12:33,  1.65it/s]"
          ]
        },
        {
          "output_type": "stream",
          "name": "stdout",
          "text": [
            "{'epoch': 4, 'iter': 80, 'avg_loss': 6.390239662594265, 'avg_acc': 49.88425925925926, 'loss': 6.259149551391602}\n"
          ]
        },
        {
          "output_type": "stream",
          "name": "stderr",
          "text": [
            "EP_train:4:   7%|| 91/1327 [00:52<11:17,  1.82it/s]"
          ]
        },
        {
          "output_type": "stream",
          "name": "stdout",
          "text": [
            "{'epoch': 4, 'iter': 90, 'avg_loss': 6.421858782296653, 'avg_acc': 49.862637362637365, 'loss': 6.884068012237549}\n"
          ]
        },
        {
          "output_type": "stream",
          "name": "stderr",
          "text": [
            "EP_train:4:   8%|| 101/1327 [00:58<10:52,  1.88it/s]"
          ]
        },
        {
          "output_type": "stream",
          "name": "stdout",
          "text": [
            "{'epoch': 4, 'iter': 100, 'avg_loss': 6.431171464447928, 'avg_acc': 49.87623762376238, 'loss': 6.973782062530518}\n"
          ]
        },
        {
          "output_type": "stream",
          "name": "stderr",
          "text": [
            "EP_train:4:   8%|| 111/1327 [01:04<10:59,  1.84it/s]"
          ]
        },
        {
          "output_type": "stream",
          "name": "stdout",
          "text": [
            "{'epoch': 4, 'iter': 110, 'avg_loss': 6.443106917647628, 'avg_acc': 49.88738738738739, 'loss': 5.8564372062683105}\n"
          ]
        },
        {
          "output_type": "stream",
          "name": "stderr",
          "text": [
            "EP_train:4:   9%|| 121/1327 [01:09<10:36,  1.90it/s]"
          ]
        },
        {
          "output_type": "stream",
          "name": "stdout",
          "text": [
            "{'epoch': 4, 'iter': 120, 'avg_loss': 6.456326788122004, 'avg_acc': 50.0, 'loss': 6.851245403289795}\n"
          ]
        },
        {
          "output_type": "stream",
          "name": "stderr",
          "text": [
            "EP_train:4:  10%|| 131/1327 [01:15<11:49,  1.69it/s]"
          ]
        },
        {
          "output_type": "stream",
          "name": "stdout",
          "text": [
            "{'epoch': 4, 'iter': 130, 'avg_loss': 6.460973160867472, 'avg_acc': 49.76145038167939, 'loss': 6.658543586730957}\n"
          ]
        },
        {
          "output_type": "stream",
          "name": "stderr",
          "text": [
            "EP_train:4:  11%|| 141/1327 [01:20<10:41,  1.85it/s]"
          ]
        },
        {
          "output_type": "stream",
          "name": "stdout",
          "text": [
            "{'epoch': 4, 'iter': 140, 'avg_loss': 6.464424356501153, 'avg_acc': 49.49024822695036, 'loss': 6.771247386932373}\n"
          ]
        },
        {
          "output_type": "stream",
          "name": "stderr",
          "text": [
            "EP_train:4:  11%|| 151/1327 [01:26<10:41,  1.83it/s]"
          ]
        },
        {
          "output_type": "stream",
          "name": "stdout",
          "text": [
            "{'epoch': 4, 'iter': 150, 'avg_loss': 6.466681331988202, 'avg_acc': 49.52400662251656, 'loss': 6.413169860839844}\n"
          ]
        },
        {
          "output_type": "stream",
          "name": "stderr",
          "text": [
            "EP_train:4:  12%|| 161/1327 [01:31<10:39,  1.82it/s]"
          ]
        },
        {
          "output_type": "stream",
          "name": "stdout",
          "text": [
            "{'epoch': 4, 'iter': 160, 'avg_loss': 6.469490083848467, 'avg_acc': 49.631211180124225, 'loss': 6.838181972503662}\n"
          ]
        },
        {
          "output_type": "stream",
          "name": "stderr",
          "text": [
            "EP_train:4:  13%|| 171/1327 [01:37<10:27,  1.84it/s]"
          ]
        },
        {
          "output_type": "stream",
          "name": "stdout",
          "text": [
            "{'epoch': 4, 'iter': 170, 'avg_loss': 6.463134138207686, 'avg_acc': 49.68932748538012, 'loss': 6.355407238006592}\n"
          ]
        },
        {
          "output_type": "stream",
          "name": "stderr",
          "text": [
            "EP_train:4:  14%|| 181/1327 [01:43<12:05,  1.58it/s]"
          ]
        },
        {
          "output_type": "stream",
          "name": "stdout",
          "text": [
            "{'epoch': 4, 'iter': 180, 'avg_loss': 6.445514354916567, 'avg_acc': 49.896408839779006, 'loss': 7.4496612548828125}\n"
          ]
        },
        {
          "output_type": "stream",
          "name": "stderr",
          "text": [
            "EP_train:4:  14%|| 191/1327 [01:48<10:23,  1.82it/s]"
          ]
        },
        {
          "output_type": "stream",
          "name": "stdout",
          "text": [
            "{'epoch': 4, 'iter': 190, 'avg_loss': 6.44774746021051, 'avg_acc': 50.09816753926701, 'loss': 6.277324199676514}\n"
          ]
        },
        {
          "output_type": "stream",
          "name": "stderr",
          "text": [
            "EP_train:4:  15%|| 201/1327 [01:54<10:13,  1.83it/s]"
          ]
        },
        {
          "output_type": "stream",
          "name": "stdout",
          "text": [
            "{'epoch': 4, 'iter': 200, 'avg_loss': 6.444796680811033, 'avg_acc': 50.13992537313433, 'loss': 6.542450904846191}\n"
          ]
        },
        {
          "output_type": "stream",
          "name": "stderr",
          "text": [
            "EP_train:4:  16%|| 211/1327 [02:00<10:34,  1.76it/s]"
          ]
        },
        {
          "output_type": "stream",
          "name": "stdout",
          "text": [
            "{'epoch': 4, 'iter': 210, 'avg_loss': 6.4493599728950395, 'avg_acc': 50.32582938388626, 'loss': 5.534731388092041}\n"
          ]
        },
        {
          "output_type": "stream",
          "name": "stderr",
          "text": [
            "EP_train:4:  17%|| 221/1327 [02:05<09:53,  1.86it/s]"
          ]
        },
        {
          "output_type": "stream",
          "name": "stdout",
          "text": [
            "{'epoch': 4, 'iter': 220, 'avg_loss': 6.455362522763904, 'avg_acc': 50.466628959276015, 'loss': 5.69359016418457}\n"
          ]
        },
        {
          "output_type": "stream",
          "name": "stderr",
          "text": [
            "EP_train:4:  17%|| 231/1327 [02:11<10:40,  1.71it/s]"
          ]
        },
        {
          "output_type": "stream",
          "name": "stdout",
          "text": [
            "{'epoch': 4, 'iter': 230, 'avg_loss': 6.451653507364777, 'avg_acc': 50.5275974025974, 'loss': 6.070829391479492}\n"
          ]
        },
        {
          "output_type": "stream",
          "name": "stderr",
          "text": [
            "EP_train:4:  18%|| 241/1327 [02:16<09:48,  1.84it/s]"
          ]
        },
        {
          "output_type": "stream",
          "name": "stdout",
          "text": [
            "{'epoch': 4, 'iter': 240, 'avg_loss': 6.456746386294543, 'avg_acc': 50.531639004149376, 'loss': 5.759506702423096}\n"
          ]
        },
        {
          "output_type": "stream",
          "name": "stderr",
          "text": [
            "EP_train:4:  19%|| 251/1327 [02:22<09:31,  1.88it/s]"
          ]
        },
        {
          "output_type": "stream",
          "name": "stdout",
          "text": [
            "{'epoch': 4, 'iter': 250, 'avg_loss': 6.4530866155586395, 'avg_acc': 50.67231075697212, 'loss': 5.939384937286377}\n"
          ]
        },
        {
          "output_type": "stream",
          "name": "stderr",
          "text": [
            "EP_train:4:  20%|| 261/1327 [02:27<09:46,  1.82it/s]"
          ]
        },
        {
          "output_type": "stream",
          "name": "stdout",
          "text": [
            "{'epoch': 4, 'iter': 260, 'avg_loss': 6.4561187499327675, 'avg_acc': 50.7183908045977, 'loss': 6.503324031829834}\n"
          ]
        },
        {
          "output_type": "stream",
          "name": "stderr",
          "text": [
            "EP_train:4:  20%|| 271/1327 [02:33<09:33,  1.84it/s]"
          ]
        },
        {
          "output_type": "stream",
          "name": "stdout",
          "text": [
            "{'epoch': 4, 'iter': 270, 'avg_loss': 6.459179459462747, 'avg_acc': 50.864852398523986, 'loss': 6.489412307739258}\n"
          ]
        },
        {
          "output_type": "stream",
          "name": "stderr",
          "text": [
            "EP_train:4:  21%|| 281/1327 [02:39<11:05,  1.57it/s]"
          ]
        },
        {
          "output_type": "stream",
          "name": "stdout",
          "text": [
            "{'epoch': 4, 'iter': 280, 'avg_loss': 6.46331170954314, 'avg_acc': 50.86743772241993, 'loss': 5.367854595184326}\n"
          ]
        },
        {
          "output_type": "stream",
          "name": "stderr",
          "text": [
            "EP_train:4:  22%|| 291/1327 [02:44<09:15,  1.86it/s]"
          ]
        },
        {
          "output_type": "stream",
          "name": "stdout",
          "text": [
            "{'epoch': 4, 'iter': 290, 'avg_loss': 6.45592923508477, 'avg_acc': 50.75171821305842, 'loss': 7.121166706085205}\n"
          ]
        },
        {
          "output_type": "stream",
          "name": "stderr",
          "text": [
            "EP_train:4:  23%|| 301/1327 [02:50<09:57,  1.72it/s]"
          ]
        },
        {
          "output_type": "stream",
          "name": "stdout",
          "text": [
            "{'epoch': 4, 'iter': 300, 'avg_loss': 6.453870608561063, 'avg_acc': 50.8201827242525, 'loss': 6.784309387207031}\n",
            "Saved checkpoint model\n"
          ]
        },
        {
          "output_type": "stream",
          "name": "stderr",
          "text": [
            "EP_train:4:  23%|| 311/1327 [02:55<09:10,  1.84it/s]"
          ]
        },
        {
          "output_type": "stream",
          "name": "stdout",
          "text": [
            "{'epoch': 4, 'iter': 310, 'avg_loss': 6.456057108483514, 'avg_acc': 50.813906752411576, 'loss': 6.952642440795898}\n"
          ]
        },
        {
          "output_type": "stream",
          "name": "stderr",
          "text": [
            "EP_train:4:  24%|| 321/1327 [03:01<09:08,  1.83it/s]"
          ]
        },
        {
          "output_type": "stream",
          "name": "stdout",
          "text": [
            "{'epoch': 4, 'iter': 320, 'avg_loss': 6.456941980439183, 'avg_acc': 50.74961059190031, 'loss': 6.526231288909912}\n"
          ]
        },
        {
          "output_type": "stream",
          "name": "stderr",
          "text": [
            "EP_train:4:  25%|| 331/1327 [03:06<09:36,  1.73it/s]"
          ]
        },
        {
          "output_type": "stream",
          "name": "stdout",
          "text": [
            "{'epoch': 4, 'iter': 330, 'avg_loss': 6.464225963523381, 'avg_acc': 50.73640483383686, 'loss': 6.4499664306640625}\n"
          ]
        },
        {
          "output_type": "stream",
          "name": "stderr",
          "text": [
            "EP_train:4:  26%|| 341/1327 [03:12<08:49,  1.86it/s]"
          ]
        },
        {
          "output_type": "stream",
          "name": "stdout",
          "text": [
            "{'epoch': 4, 'iter': 340, 'avg_loss': 6.457009059592775, 'avg_acc': 50.65982404692082, 'loss': 5.587861061096191}\n"
          ]
        },
        {
          "output_type": "stream",
          "name": "stderr",
          "text": [
            "EP_train:4:  26%|| 351/1327 [03:17<09:27,  1.72it/s]"
          ]
        },
        {
          "output_type": "stream",
          "name": "stdout",
          "text": [
            "{'epoch': 4, 'iter': 350, 'avg_loss': 6.462377348516742, 'avg_acc': 50.74786324786324, 'loss': 6.340781211853027}\n"
          ]
        },
        {
          "output_type": "stream",
          "name": "stderr",
          "text": [
            "EP_train:4:  27%|| 361/1327 [03:23<08:54,  1.81it/s]"
          ]
        },
        {
          "output_type": "stream",
          "name": "stdout",
          "text": [
            "{'epoch': 4, 'iter': 360, 'avg_loss': 6.470317236934672, 'avg_acc': 50.727146814404435, 'loss': 6.744279384613037}\n"
          ]
        },
        {
          "output_type": "stream",
          "name": "stderr",
          "text": [
            "EP_train:4:  28%|| 371/1327 [03:28<08:28,  1.88it/s]"
          ]
        },
        {
          "output_type": "stream",
          "name": "stdout",
          "text": [
            "{'epoch': 4, 'iter': 370, 'avg_loss': 6.466568523982786, 'avg_acc': 50.80862533692723, 'loss': 6.817957878112793}\n"
          ]
        },
        {
          "output_type": "stream",
          "name": "stderr",
          "text": [
            "EP_train:4:  29%|| 381/1327 [03:34<08:56,  1.76it/s]"
          ]
        },
        {
          "output_type": "stream",
          "name": "stdout",
          "text": [
            "{'epoch': 4, 'iter': 380, 'avg_loss': 6.4737211900746106, 'avg_acc': 50.61515748031496, 'loss': 5.96079683303833}\n"
          ]
        },
        {
          "output_type": "stream",
          "name": "stderr",
          "text": [
            "EP_train:4:  29%|| 391/1327 [03:39<08:15,  1.89it/s]"
          ]
        },
        {
          "output_type": "stream",
          "name": "stdout",
          "text": [
            "{'epoch': 4, 'iter': 390, 'avg_loss': 6.476690415531168, 'avg_acc': 50.623401534526856, 'loss': 6.486259460449219}\n"
          ]
        },
        {
          "output_type": "stream",
          "name": "stderr",
          "text": [
            "EP_train:4:  30%|| 401/1327 [03:45<09:05,  1.70it/s]"
          ]
        },
        {
          "output_type": "stream",
          "name": "stdout",
          "text": [
            "{'epoch': 4, 'iter': 400, 'avg_loss': 6.4816775809499685, 'avg_acc': 50.6857855361596, 'loss': 6.102083683013916}\n"
          ]
        },
        {
          "output_type": "stream",
          "name": "stderr",
          "text": [
            "EP_train:4:  31%|| 411/1327 [03:51<08:25,  1.81it/s]"
          ]
        },
        {
          "output_type": "stream",
          "name": "stdout",
          "text": [
            "{'epoch': 4, 'iter': 410, 'avg_loss': 6.487667003687281, 'avg_acc': 50.790754257907544, 'loss': 6.370527744293213}\n"
          ]
        },
        {
          "output_type": "stream",
          "name": "stderr",
          "text": [
            "EP_train:4:  32%|| 421/1327 [03:56<08:06,  1.86it/s]"
          ]
        },
        {
          "output_type": "stream",
          "name": "stdout",
          "text": [
            "{'epoch': 4, 'iter': 420, 'avg_loss': 6.488334872094017, 'avg_acc': 50.74228028503563, 'loss': 6.926850318908691}\n"
          ]
        },
        {
          "output_type": "stream",
          "name": "stderr",
          "text": [
            "EP_train:4:  32%|| 431/1327 [04:02<08:24,  1.77it/s]"
          ]
        },
        {
          "output_type": "stream",
          "name": "stdout",
          "text": [
            "{'epoch': 4, 'iter': 430, 'avg_loss': 6.484408577744203, 'avg_acc': 50.775812064965194, 'loss': 6.62652587890625}\n"
          ]
        },
        {
          "output_type": "stream",
          "name": "stderr",
          "text": [
            "EP_train:4:  33%|| 441/1327 [04:07<07:50,  1.88it/s]"
          ]
        },
        {
          "output_type": "stream",
          "name": "stdout",
          "text": [
            "{'epoch': 4, 'iter': 440, 'avg_loss': 6.486728068111705, 'avg_acc': 50.63066893424036, 'loss': 6.1317973136901855}\n"
          ]
        },
        {
          "output_type": "stream",
          "name": "stderr",
          "text": [
            "EP_train:4:  34%|| 451/1327 [04:13<08:43,  1.67it/s]"
          ]
        },
        {
          "output_type": "stream",
          "name": "stdout",
          "text": [
            "{'epoch': 4, 'iter': 450, 'avg_loss': 6.488536288098591, 'avg_acc': 50.56818181818182, 'loss': 5.502833366394043}\n"
          ]
        },
        {
          "output_type": "stream",
          "name": "stderr",
          "text": [
            "EP_train:4:  35%|| 461/1327 [04:18<07:44,  1.86it/s]"
          ]
        },
        {
          "output_type": "stream",
          "name": "stdout",
          "text": [
            "{'epoch': 4, 'iter': 460, 'avg_loss': 6.489499091067697, 'avg_acc': 50.58975054229935, 'loss': 6.80792236328125}\n"
          ]
        },
        {
          "output_type": "stream",
          "name": "stderr",
          "text": [
            "EP_train:4:  35%|| 471/1327 [04:24<07:43,  1.85it/s]"
          ]
        },
        {
          "output_type": "stream",
          "name": "stdout",
          "text": [
            "{'epoch': 4, 'iter': 470, 'avg_loss': 6.491538653201611, 'avg_acc': 50.62367303609342, 'loss': 7.2191081047058105}\n"
          ]
        },
        {
          "output_type": "stream",
          "name": "stderr",
          "text": [
            "EP_train:4:  36%|| 481/1327 [04:30<07:52,  1.79it/s]"
          ]
        },
        {
          "output_type": "stream",
          "name": "stdout",
          "text": [
            "{'epoch': 4, 'iter': 480, 'avg_loss': 6.489462819763628, 'avg_acc': 50.64968814968815, 'loss': 7.124019622802734}\n"
          ]
        },
        {
          "output_type": "stream",
          "name": "stderr",
          "text": [
            "EP_train:4:  37%|| 491/1327 [04:35<07:27,  1.87it/s]"
          ]
        },
        {
          "output_type": "stream",
          "name": "stdout",
          "text": [
            "{'epoch': 4, 'iter': 490, 'avg_loss': 6.4904743008118295, 'avg_acc': 50.6300916496945, 'loss': 6.936770439147949}\n"
          ]
        },
        {
          "output_type": "stream",
          "name": "stderr",
          "text": [
            "EP_train:4:  38%|| 501/1327 [04:41<08:29,  1.62it/s]"
          ]
        },
        {
          "output_type": "stream",
          "name": "stdout",
          "text": [
            "{'epoch': 4, 'iter': 500, 'avg_loss': 6.487277274598142, 'avg_acc': 50.58632734530938, 'loss': 5.337426662445068}\n"
          ]
        },
        {
          "output_type": "stream",
          "name": "stderr",
          "text": [
            "EP_train:4:  39%|| 511/1327 [04:46<07:29,  1.82it/s]"
          ]
        },
        {
          "output_type": "stream",
          "name": "stdout",
          "text": [
            "{'epoch': 4, 'iter': 510, 'avg_loss': 6.49120777413803, 'avg_acc': 50.550391389432484, 'loss': 6.538731575012207}\n"
          ]
        },
        {
          "output_type": "stream",
          "name": "stderr",
          "text": [
            "EP_train:4:  39%|| 521/1327 [04:52<07:32,  1.78it/s]"
          ]
        },
        {
          "output_type": "stream",
          "name": "stdout",
          "text": [
            "{'epoch': 4, 'iter': 520, 'avg_loss': 6.4954939025834975, 'avg_acc': 50.575815738963534, 'loss': 6.899482727050781}\n"
          ]
        },
        {
          "output_type": "stream",
          "name": "stderr",
          "text": [
            "EP_train:4:  40%|| 531/1327 [04:57<07:11,  1.85it/s]"
          ]
        },
        {
          "output_type": "stream",
          "name": "stdout",
          "text": [
            "{'epoch': 4, 'iter': 530, 'avg_loss': 6.498502329917951, 'avg_acc': 50.56497175141242, 'loss': 7.076228141784668}\n"
          ]
        },
        {
          "output_type": "stream",
          "name": "stderr",
          "text": [
            "EP_train:4:  41%|| 541/1327 [05:03<06:58,  1.88it/s]"
          ]
        },
        {
          "output_type": "stream",
          "name": "stdout",
          "text": [
            "{'epoch': 4, 'iter': 540, 'avg_loss': 6.497006366962426, 'avg_acc': 50.537199630314234, 'loss': 5.587256908416748}\n"
          ]
        },
        {
          "output_type": "stream",
          "name": "stderr",
          "text": [
            "EP_train:4:  42%|| 551/1327 [05:09<07:29,  1.73it/s]"
          ]
        },
        {
          "output_type": "stream",
          "name": "stdout",
          "text": [
            "{'epoch': 4, 'iter': 550, 'avg_loss': 6.4984531523744336, 'avg_acc': 50.4423774954628, 'loss': 6.925853252410889}\n"
          ]
        },
        {
          "output_type": "stream",
          "name": "stderr",
          "text": [
            "EP_train:4:  42%|| 561/1327 [05:14<06:52,  1.86it/s]"
          ]
        },
        {
          "output_type": "stream",
          "name": "stdout",
          "text": [
            "{'epoch': 4, 'iter': 560, 'avg_loss': 6.498938679482635, 'avg_acc': 50.46791443850267, 'loss': 6.501344680786133}\n"
          ]
        },
        {
          "output_type": "stream",
          "name": "stderr",
          "text": [
            "EP_train:4:  43%|| 571/1327 [05:19<07:23,  1.71it/s]"
          ]
        },
        {
          "output_type": "stream",
          "name": "stdout",
          "text": [
            "{'epoch': 4, 'iter': 570, 'avg_loss': 6.501579768185858, 'avg_acc': 50.36668126094571, 'loss': 6.882133960723877}\n"
          ]
        },
        {
          "output_type": "stream",
          "name": "stderr",
          "text": [
            "EP_train:4:  44%|| 581/1327 [05:25<06:42,  1.86it/s]"
          ]
        },
        {
          "output_type": "stream",
          "name": "stdout",
          "text": [
            "{'epoch': 4, 'iter': 580, 'avg_loss': 6.502701783959919, 'avg_acc': 50.30120481927711, 'loss': 7.5157036781311035}\n"
          ]
        },
        {
          "output_type": "stream",
          "name": "stderr",
          "text": [
            "EP_train:4:  45%|| 591/1327 [05:30<06:31,  1.88it/s]"
          ]
        },
        {
          "output_type": "stream",
          "name": "stdout",
          "text": [
            "{'epoch': 4, 'iter': 590, 'avg_loss': 6.500192104055595, 'avg_acc': 50.24851945854484, 'loss': 6.7492146492004395}\n"
          ]
        },
        {
          "output_type": "stream",
          "name": "stderr",
          "text": [
            "EP_train:4:  45%|| 601/1327 [05:36<06:53,  1.76it/s]"
          ]
        },
        {
          "output_type": "stream",
          "name": "stdout",
          "text": [
            "{'epoch': 4, 'iter': 600, 'avg_loss': 6.5022754328024766, 'avg_acc': 50.270382695507486, 'loss': 5.919609546661377}\n",
            "Saved checkpoint model\n"
          ]
        },
        {
          "output_type": "stream",
          "name": "stderr",
          "text": [
            "EP_train:4:  46%|| 611/1327 [05:41<06:24,  1.86it/s]"
          ]
        },
        {
          "output_type": "stream",
          "name": "stdout",
          "text": [
            "{'epoch': 4, 'iter': 610, 'avg_loss': 6.50629589717634, 'avg_acc': 50.260842880523725, 'loss': 6.5722503662109375}\n"
          ]
        },
        {
          "output_type": "stream",
          "name": "stderr",
          "text": [
            "EP_train:4:  47%|| 621/1327 [05:47<07:07,  1.65it/s]"
          ]
        },
        {
          "output_type": "stream",
          "name": "stdout",
          "text": [
            "{'epoch': 4, 'iter': 620, 'avg_loss': 6.503784158955449, 'avg_acc': 50.19122383252817, 'loss': 5.2596330642700195}\n"
          ]
        },
        {
          "output_type": "stream",
          "name": "stderr",
          "text": [
            "EP_train:4:  48%|| 631/1327 [05:53<06:37,  1.75it/s]"
          ]
        },
        {
          "output_type": "stream",
          "name": "stdout",
          "text": [
            "{'epoch': 4, 'iter': 630, 'avg_loss': 6.498886744685105, 'avg_acc': 50.133716323296355, 'loss': 4.873274326324463}\n"
          ]
        },
        {
          "output_type": "stream",
          "name": "stderr",
          "text": [
            "EP_train:4:  48%|| 641/1327 [05:59<06:10,  1.85it/s]"
          ]
        },
        {
          "output_type": "stream",
          "name": "stdout",
          "text": [
            "{'epoch': 4, 'iter': 640, 'avg_loss': 6.500579037272056, 'avg_acc': 50.13163026521062, 'loss': 7.216730117797852}\n"
          ]
        },
        {
          "output_type": "stream",
          "name": "stderr",
          "text": [
            "EP_train:4:  49%|| 651/1327 [06:05<06:49,  1.65it/s]"
          ]
        },
        {
          "output_type": "stream",
          "name": "stdout",
          "text": [
            "{'epoch': 4, 'iter': 650, 'avg_loss': 6.505892289948354, 'avg_acc': 50.139208909370204, 'loss': 6.461409568786621}\n"
          ]
        },
        {
          "output_type": "stream",
          "name": "stderr",
          "text": [
            "EP_train:4:  50%|| 661/1327 [06:10<05:59,  1.85it/s]"
          ]
        },
        {
          "output_type": "stream",
          "name": "stdout",
          "text": [
            "{'epoch': 4, 'iter': 660, 'avg_loss': 6.506661658207696, 'avg_acc': 50.07091527987897, 'loss': 6.173996925354004}\n"
          ]
        },
        {
          "output_type": "stream",
          "name": "stderr",
          "text": [
            "EP_train:4:  51%|| 671/1327 [06:15<06:07,  1.78it/s]"
          ]
        },
        {
          "output_type": "stream",
          "name": "stdout",
          "text": [
            "{'epoch': 4, 'iter': 670, 'avg_loss': 6.507020886360089, 'avg_acc': 50.12108792846498, 'loss': 6.992297649383545}\n"
          ]
        },
        {
          "output_type": "stream",
          "name": "stderr",
          "text": [
            "EP_train:4:  51%|| 681/1327 [06:21<05:59,  1.80it/s]"
          ]
        },
        {
          "output_type": "stream",
          "name": "stdout",
          "text": [
            "{'epoch': 4, 'iter': 680, 'avg_loss': 6.508025565686555, 'avg_acc': 50.11472099853157, 'loss': 6.45963191986084}\n"
          ]
        },
        {
          "output_type": "stream",
          "name": "stderr",
          "text": [
            "EP_train:4:  52%|| 691/1327 [06:27<05:44,  1.85it/s]"
          ]
        },
        {
          "output_type": "stream",
          "name": "stdout",
          "text": [
            "{'epoch': 4, 'iter': 690, 'avg_loss': 6.506699151482147, 'avg_acc': 50.176374819102755, 'loss': 5.075597286224365}\n"
          ]
        },
        {
          "output_type": "stream",
          "name": "stderr",
          "text": [
            "EP_train:4:  53%|| 701/1327 [06:32<06:03,  1.72it/s]"
          ]
        },
        {
          "output_type": "stream",
          "name": "stdout",
          "text": [
            "{'epoch': 4, 'iter': 700, 'avg_loss': 6.509359880792942, 'avg_acc': 50.13373751783167, 'loss': 6.482240676879883}\n"
          ]
        },
        {
          "output_type": "stream",
          "name": "stderr",
          "text": [
            "EP_train:4:  54%|| 711/1327 [06:38<05:33,  1.85it/s]"
          ]
        },
        {
          "output_type": "stream",
          "name": "stdout",
          "text": [
            "{'epoch': 4, 'iter': 710, 'avg_loss': 6.511992378073906, 'avg_acc': 50.15383263009845, 'loss': 6.492193698883057}\n"
          ]
        },
        {
          "output_type": "stream",
          "name": "stderr",
          "text": [
            "EP_train:4:  54%|| 721/1327 [06:43<05:45,  1.76it/s]"
          ]
        },
        {
          "output_type": "stream",
          "name": "stdout",
          "text": [
            "{'epoch': 4, 'iter': 720, 'avg_loss': 6.510250021449075, 'avg_acc': 50.19070735090153, 'loss': 5.765008449554443}\n"
          ]
        },
        {
          "output_type": "stream",
          "name": "stderr",
          "text": [
            "EP_train:4:  55%|| 731/1327 [06:49<05:27,  1.82it/s]"
          ]
        },
        {
          "output_type": "stream",
          "name": "stdout",
          "text": [
            "{'epoch': 4, 'iter': 730, 'avg_loss': 6.511218654799559, 'avg_acc': 50.20519835841313, 'loss': 6.324324131011963}\n"
          ]
        },
        {
          "output_type": "stream",
          "name": "stderr",
          "text": [
            "EP_train:4:  56%|| 741/1327 [06:54<05:11,  1.88it/s]"
          ]
        },
        {
          "output_type": "stream",
          "name": "stdout",
          "text": [
            "{'epoch': 4, 'iter': 740, 'avg_loss': 6.5114785064408975, 'avg_acc': 50.21508097165992, 'loss': 5.240204811096191}\n"
          ]
        },
        {
          "output_type": "stream",
          "name": "stderr",
          "text": [
            "EP_train:4:  57%|| 751/1327 [07:00<05:35,  1.72it/s]"
          ]
        },
        {
          "output_type": "stream",
          "name": "stdout",
          "text": [
            "{'epoch': 4, 'iter': 750, 'avg_loss': 6.514854550520368, 'avg_acc': 50.162283621837545, 'loss': 6.978280544281006}\n"
          ]
        },
        {
          "output_type": "stream",
          "name": "stderr",
          "text": [
            "EP_train:4:  57%|| 761/1327 [07:05<05:00,  1.89it/s]"
          ]
        },
        {
          "output_type": "stream",
          "name": "stdout",
          "text": [
            "{'epoch': 4, 'iter': 760, 'avg_loss': 6.518801646539636, 'avg_acc': 50.14783180026281, 'loss': 6.744081497192383}\n"
          ]
        },
        {
          "output_type": "stream",
          "name": "stderr",
          "text": [
            "EP_train:4:  58%|| 771/1327 [07:11<05:23,  1.72it/s]"
          ]
        },
        {
          "output_type": "stream",
          "name": "stdout",
          "text": [
            "{'epoch': 4, 'iter': 770, 'avg_loss': 6.520007220069104, 'avg_acc': 50.17428664072633, 'loss': 6.924708843231201}\n"
          ]
        },
        {
          "output_type": "stream",
          "name": "stderr",
          "text": [
            "EP_train:4:  59%|| 781/1327 [07:16<05:00,  1.82it/s]"
          ]
        },
        {
          "output_type": "stream",
          "name": "stdout",
          "text": [
            "{'epoch': 4, 'iter': 780, 'avg_loss': 6.522595564931364, 'avg_acc': 50.12003841229193, 'loss': 6.744555473327637}\n"
          ]
        },
        {
          "output_type": "stream",
          "name": "stderr",
          "text": [
            "EP_train:4:  60%|| 791/1327 [07:22<04:47,  1.86it/s]"
          ]
        },
        {
          "output_type": "stream",
          "name": "stdout",
          "text": [
            "{'epoch': 4, 'iter': 790, 'avg_loss': 6.523763670481261, 'avg_acc': 50.09086599241467, 'loss': 6.846819877624512}\n"
          ]
        },
        {
          "output_type": "stream",
          "name": "stderr",
          "text": [
            "EP_train:4:  60%|| 801/1327 [07:28<04:53,  1.79it/s]"
          ]
        },
        {
          "output_type": "stream",
          "name": "stdout",
          "text": [
            "{'epoch': 4, 'iter': 800, 'avg_loss': 6.525453763954649, 'avg_acc': 50.148252184769035, 'loss': 6.166180610656738}\n"
          ]
        },
        {
          "output_type": "stream",
          "name": "stderr",
          "text": [
            "EP_train:4:  61%|| 811/1327 [07:33<04:36,  1.87it/s]"
          ]
        },
        {
          "output_type": "stream",
          "name": "stdout",
          "text": [
            "{'epoch': 4, 'iter': 810, 'avg_loss': 6.525688958667797, 'avg_acc': 50.1618372379778, 'loss': 7.2379069328308105}\n"
          ]
        },
        {
          "output_type": "stream",
          "name": "stderr",
          "text": [
            "EP_train:4:  62%|| 821/1327 [07:39<04:57,  1.70it/s]"
          ]
        },
        {
          "output_type": "stream",
          "name": "stdout",
          "text": [
            "{'epoch': 4, 'iter': 820, 'avg_loss': 6.527483195538353, 'avg_acc': 50.201735688185146, 'loss': 6.796422481536865}\n"
          ]
        },
        {
          "output_type": "stream",
          "name": "stderr",
          "text": [
            "EP_train:4:  63%|| 831/1327 [07:44<04:27,  1.85it/s]"
          ]
        },
        {
          "output_type": "stream",
          "name": "stdout",
          "text": [
            "{'epoch': 4, 'iter': 830, 'avg_loss': 6.527088470550794, 'avg_acc': 50.22939229843561, 'loss': 6.392345428466797}\n"
          ]
        },
        {
          "output_type": "stream",
          "name": "stderr",
          "text": [
            "EP_train:4:  63%|| 841/1327 [07:50<04:21,  1.86it/s]"
          ]
        },
        {
          "output_type": "stream",
          "name": "stdout",
          "text": [
            "{'epoch': 4, 'iter': 840, 'avg_loss': 6.5301011660436385, 'avg_acc': 50.26382282996433, 'loss': 6.329889297485352}\n"
          ]
        },
        {
          "output_type": "stream",
          "name": "stderr",
          "text": [
            "EP_train:4:  64%|| 851/1327 [07:55<04:21,  1.82it/s]"
          ]
        },
        {
          "output_type": "stream",
          "name": "stdout",
          "text": [
            "{'epoch': 4, 'iter': 850, 'avg_loss': 6.533164516879305, 'avg_acc': 50.30478848413631, 'loss': 6.96660852432251}\n"
          ]
        },
        {
          "output_type": "stream",
          "name": "stderr",
          "text": [
            "EP_train:4:  65%|| 861/1327 [08:01<04:10,  1.86it/s]"
          ]
        },
        {
          "output_type": "stream",
          "name": "stdout",
          "text": [
            "{'epoch': 4, 'iter': 860, 'avg_loss': 6.534633867416647, 'avg_acc': 50.26132404181185, 'loss': 6.705972194671631}\n"
          ]
        },
        {
          "output_type": "stream",
          "name": "stderr",
          "text": [
            "EP_train:4:  66%|| 871/1327 [08:06<04:27,  1.70it/s]"
          ]
        },
        {
          "output_type": "stream",
          "name": "stdout",
          "text": [
            "{'epoch': 4, 'iter': 870, 'avg_loss': 6.534110332602885, 'avg_acc': 50.1973306544202, 'loss': 6.530907154083252}\n"
          ]
        },
        {
          "output_type": "stream",
          "name": "stderr",
          "text": [
            "EP_train:4:  66%|| 881/1327 [08:12<04:01,  1.84it/s]"
          ]
        },
        {
          "output_type": "stream",
          "name": "stdout",
          "text": [
            "{'epoch': 4, 'iter': 880, 'avg_loss': 6.53381303598878, 'avg_acc': 50.17026106696936, 'loss': 6.979889869689941}\n"
          ]
        },
        {
          "output_type": "stream",
          "name": "stderr",
          "text": [
            "EP_train:4:  67%|| 891/1327 [08:17<03:49,  1.90it/s]"
          ]
        },
        {
          "output_type": "stream",
          "name": "stdout",
          "text": [
            "{'epoch': 4, 'iter': 890, 'avg_loss': 6.53173090873744, 'avg_acc': 50.22446689113356, 'loss': 5.832590103149414}\n"
          ]
        },
        {
          "output_type": "stream",
          "name": "stderr",
          "text": [
            "EP_train:4:  68%|| 901/1327 [08:23<03:59,  1.78it/s]"
          ]
        },
        {
          "output_type": "stream",
          "name": "stdout",
          "text": [
            "{'epoch': 4, 'iter': 900, 'avg_loss': 6.530609342022556, 'avg_acc': 50.26012763596004, 'loss': 5.573741436004639}\n",
            "Saved checkpoint model\n"
          ]
        },
        {
          "output_type": "stream",
          "name": "stderr",
          "text": [
            "EP_train:4:  69%|| 911/1327 [08:28<03:42,  1.87it/s]"
          ]
        },
        {
          "output_type": "stream",
          "name": "stdout",
          "text": [
            "{'epoch': 4, 'iter': 910, 'avg_loss': 6.533722538325187, 'avg_acc': 50.20238748627881, 'loss': 6.363417625427246}\n"
          ]
        },
        {
          "output_type": "stream",
          "name": "stderr",
          "text": [
            "EP_train:4:  69%|| 921/1327 [08:34<04:04,  1.66it/s]"
          ]
        },
        {
          "output_type": "stream",
          "name": "stdout",
          "text": [
            "{'epoch': 4, 'iter': 920, 'avg_loss': 6.536908082413233, 'avg_acc': 50.15268729641694, 'loss': 7.039618015289307}\n"
          ]
        },
        {
          "output_type": "stream",
          "name": "stderr",
          "text": [
            "EP_train:4:  70%|| 931/1327 [08:40<03:39,  1.80it/s]"
          ]
        },
        {
          "output_type": "stream",
          "name": "stdout",
          "text": [
            "{'epoch': 4, 'iter': 930, 'avg_loss': 6.537124845318329, 'avg_acc': 50.19468313641246, 'loss': 6.360893726348877}\n"
          ]
        },
        {
          "output_type": "stream",
          "name": "stderr",
          "text": [
            "EP_train:4:  71%|| 941/1327 [08:45<03:44,  1.72it/s]"
          ]
        },
        {
          "output_type": "stream",
          "name": "stdout",
          "text": [
            "{'epoch': 4, 'iter': 940, 'avg_loss': 6.537736510115653, 'avg_acc': 50.21586078639745, 'loss': 6.318673133850098}\n"
          ]
        },
        {
          "output_type": "stream",
          "name": "stderr",
          "text": [
            "EP_train:4:  72%|| 951/1327 [08:51<03:24,  1.84it/s]"
          ]
        },
        {
          "output_type": "stream",
          "name": "stdout",
          "text": [
            "{'epoch': 4, 'iter': 950, 'avg_loss': 6.535899134715147, 'avg_acc': 50.22016298633017, 'loss': 7.118572235107422}\n"
          ]
        },
        {
          "output_type": "stream",
          "name": "stderr",
          "text": [
            "EP_train:4:  72%|| 961/1327 [08:56<03:15,  1.87it/s]"
          ]
        },
        {
          "output_type": "stream",
          "name": "stdout",
          "text": [
            "{'epoch': 4, 'iter': 960, 'avg_loss': 6.538882872812706, 'avg_acc': 50.23738293444329, 'loss': 6.382023811340332}\n"
          ]
        },
        {
          "output_type": "stream",
          "name": "stderr",
          "text": [
            "EP_train:4:  73%|| 971/1327 [09:02<03:26,  1.72it/s]"
          ]
        },
        {
          "output_type": "stream",
          "name": "stdout",
          "text": [
            "{'epoch': 4, 'iter': 970, 'avg_loss': 6.536510074666551, 'avg_acc': 50.1576982492276, 'loss': 7.29927921295166}\n"
          ]
        },
        {
          "output_type": "stream",
          "name": "stderr",
          "text": [
            "EP_train:4:  74%|| 981/1327 [09:07<03:07,  1.85it/s]"
          ]
        },
        {
          "output_type": "stream",
          "name": "stdout",
          "text": [
            "{'epoch': 4, 'iter': 980, 'avg_loss': 6.538245478172185, 'avg_acc': 50.13697757390418, 'loss': 6.499573230743408}\n"
          ]
        },
        {
          "output_type": "stream",
          "name": "stderr",
          "text": [
            "EP_train:4:  75%|| 991/1327 [09:13<03:12,  1.75it/s]"
          ]
        },
        {
          "output_type": "stream",
          "name": "stdout",
          "text": [
            "{'epoch': 4, 'iter': 990, 'avg_loss': 6.539824501657342, 'avg_acc': 50.11667507568113, 'loss': 6.812509059906006}\n"
          ]
        },
        {
          "output_type": "stream",
          "name": "stderr",
          "text": [
            "EP_train:4:  75%|| 1001/1327 [09:19<02:56,  1.85it/s]"
          ]
        },
        {
          "output_type": "stream",
          "name": "stdout",
          "text": [
            "{'epoch': 4, 'iter': 1000, 'avg_loss': 6.53902631611019, 'avg_acc': 50.121753246753244, 'loss': 6.2029948234558105}\n"
          ]
        },
        {
          "output_type": "stream",
          "name": "stderr",
          "text": [
            "EP_train:4:  76%|| 1011/1327 [09:24<02:50,  1.85it/s]"
          ]
        },
        {
          "output_type": "stream",
          "name": "stdout",
          "text": [
            "{'epoch': 4, 'iter': 1010, 'avg_loss': 6.539611714058413, 'avg_acc': 50.08036597428289, 'loss': 6.79482364654541}\n"
          ]
        },
        {
          "output_type": "stream",
          "name": "stderr",
          "text": [
            "EP_train:4:  77%|| 1021/1327 [09:30<02:53,  1.76it/s]"
          ]
        },
        {
          "output_type": "stream",
          "name": "stdout",
          "text": [
            "{'epoch': 4, 'iter': 1020, 'avg_loss': 6.538991429780069, 'avg_acc': 50.07345739471106, 'loss': 7.008013725280762}\n"
          ]
        },
        {
          "output_type": "stream",
          "name": "stderr",
          "text": [
            "EP_train:4:  78%|| 1031/1327 [09:35<02:38,  1.86it/s]"
          ]
        },
        {
          "output_type": "stream",
          "name": "stdout",
          "text": [
            "{'epoch': 4, 'iter': 1030, 'avg_loss': 6.540982738036074, 'avg_acc': 50.033341416100875, 'loss': 7.297237873077393}\n"
          ]
        },
        {
          "output_type": "stream",
          "name": "stderr",
          "text": [
            "EP_train:4:  78%|| 1041/1327 [09:41<02:47,  1.71it/s]"
          ]
        },
        {
          "output_type": "stream",
          "name": "stdout",
          "text": [
            "{'epoch': 4, 'iter': 1040, 'avg_loss': 6.539031227544222, 'avg_acc': 50.06604226705092, 'loss': 6.904427528381348}\n"
          ]
        },
        {
          "output_type": "stream",
          "name": "stderr",
          "text": [
            "EP_train:4:  79%|| 1051/1327 [09:46<02:29,  1.85it/s]"
          ]
        },
        {
          "output_type": "stream",
          "name": "stdout",
          "text": [
            "{'epoch': 4, 'iter': 1050, 'avg_loss': 6.541261422078344, 'avg_acc': 50.04162702188392, 'loss': 7.013011455535889}\n"
          ]
        },
        {
          "output_type": "stream",
          "name": "stderr",
          "text": [
            "EP_train:4:  80%|| 1061/1327 [09:52<02:26,  1.82it/s]"
          ]
        },
        {
          "output_type": "stream",
          "name": "stdout",
          "text": [
            "{'epoch': 4, 'iter': 1060, 'avg_loss': 6.540257865139946, 'avg_acc': 49.976437323279924, 'loss': 7.0117950439453125}\n"
          ]
        },
        {
          "output_type": "stream",
          "name": "stderr",
          "text": [
            "EP_train:4:  81%|| 1071/1327 [09:58<02:47,  1.52it/s]"
          ]
        },
        {
          "output_type": "stream",
          "name": "stdout",
          "text": [
            "{'epoch': 4, 'iter': 1070, 'avg_loss': 6.539594092400246, 'avg_acc': 50.00583566760037, 'loss': 7.079223155975342}\n"
          ]
        },
        {
          "output_type": "stream",
          "name": "stderr",
          "text": [
            "EP_train:4:  81%|| 1081/1327 [10:03<02:14,  1.83it/s]"
          ]
        },
        {
          "output_type": "stream",
          "name": "stdout",
          "text": [
            "{'epoch': 4, 'iter': 1080, 'avg_loss': 6.541408154613767, 'avg_acc': 50.0, 'loss': 6.782954692840576}\n"
          ]
        },
        {
          "output_type": "stream",
          "name": "stderr",
          "text": [
            "EP_train:4:  82%|| 1091/1327 [10:09<02:12,  1.78it/s]"
          ]
        },
        {
          "output_type": "stream",
          "name": "stdout",
          "text": [
            "{'epoch': 4, 'iter': 1090, 'avg_loss': 6.543404660019494, 'avg_acc': 50.02577910174152, 'loss': 6.475017070770264}\n"
          ]
        },
        {
          "output_type": "stream",
          "name": "stderr",
          "text": [
            "EP_train:4:  83%|| 1101/1327 [10:15<02:05,  1.80it/s]"
          ]
        },
        {
          "output_type": "stream",
          "name": "stdout",
          "text": [
            "{'epoch': 4, 'iter': 1100, 'avg_loss': 6.541669373074843, 'avg_acc': 50.03122161671209, 'loss': 6.445470809936523}\n"
          ]
        },
        {
          "output_type": "stream",
          "name": "stderr",
          "text": [
            "EP_train:4:  84%|| 1111/1327 [10:20<01:56,  1.86it/s]"
          ]
        },
        {
          "output_type": "stream",
          "name": "stdout",
          "text": [
            "{'epoch': 4, 'iter': 1110, 'avg_loss': 6.540630195507801, 'avg_acc': 50.02250225022502, 'loss': 6.47330379486084}\n"
          ]
        },
        {
          "output_type": "stream",
          "name": "stderr",
          "text": [
            "EP_train:4:  84%|| 1121/1327 [10:26<02:01,  1.69it/s]"
          ]
        },
        {
          "output_type": "stream",
          "name": "stdout",
          "text": [
            "{'epoch': 4, 'iter': 1120, 'avg_loss': 6.541014009878957, 'avg_acc': 50.025089206066006, 'loss': 6.068276882171631}\n"
          ]
        },
        {
          "output_type": "stream",
          "name": "stderr",
          "text": [
            "EP_train:4:  85%|| 1131/1327 [10:31<01:43,  1.90it/s]"
          ]
        },
        {
          "output_type": "stream",
          "name": "stdout",
          "text": [
            "{'epoch': 4, 'iter': 1130, 'avg_loss': 6.541559014037897, 'avg_acc': 50.02210433244916, 'loss': 6.7591166496276855}\n"
          ]
        },
        {
          "output_type": "stream",
          "name": "stderr",
          "text": [
            "EP_train:4:  86%|| 1141/1327 [10:37<01:45,  1.76it/s]"
          ]
        },
        {
          "output_type": "stream",
          "name": "stdout",
          "text": [
            "{'epoch': 4, 'iter': 1140, 'avg_loss': 6.542034408275126, 'avg_acc': 50.03560473269062, 'loss': 6.955605983734131}\n"
          ]
        },
        {
          "output_type": "stream",
          "name": "stderr",
          "text": [
            "EP_train:4:  87%|| 1151/1327 [10:42<01:35,  1.84it/s]"
          ]
        },
        {
          "output_type": "stream",
          "name": "stdout",
          "text": [
            "{'epoch': 4, 'iter': 1150, 'avg_loss': 6.54329625841434, 'avg_acc': 50.08145091225021, 'loss': 6.439767360687256}\n"
          ]
        },
        {
          "output_type": "stream",
          "name": "stderr",
          "text": [
            "EP_train:4:  87%|| 1161/1327 [10:48<01:28,  1.88it/s]"
          ]
        },
        {
          "output_type": "stream",
          "name": "stdout",
          "text": [
            "{'epoch': 4, 'iter': 1160, 'avg_loss': 6.544245064823305, 'avg_acc': 50.08344099913867, 'loss': 6.1710662841796875}\n"
          ]
        },
        {
          "output_type": "stream",
          "name": "stderr",
          "text": [
            "EP_train:4:  88%|| 1171/1327 [10:53<01:28,  1.76it/s]"
          ]
        },
        {
          "output_type": "stream",
          "name": "stdout",
          "text": [
            "{'epoch': 4, 'iter': 1170, 'avg_loss': 6.545175640324463, 'avg_acc': 50.0346925704526, 'loss': 5.838327884674072}\n"
          ]
        },
        {
          "output_type": "stream",
          "name": "stderr",
          "text": [
            "EP_train:4:  89%|| 1181/1327 [10:59<01:17,  1.89it/s]"
          ]
        },
        {
          "output_type": "stream",
          "name": "stdout",
          "text": [
            "{'epoch': 4, 'iter': 1180, 'avg_loss': 6.546031164577914, 'avg_acc': 50.02381456392887, 'loss': 6.7585129737854}\n"
          ]
        },
        {
          "output_type": "stream",
          "name": "stderr",
          "text": [
            "EP_train:4:  90%|| 1191/1327 [11:04<01:20,  1.69it/s]"
          ]
        },
        {
          "output_type": "stream",
          "name": "stdout",
          "text": [
            "{'epoch': 4, 'iter': 1190, 'avg_loss': 6.545397578719081, 'avg_acc': 50.04198152812762, 'loss': 5.674132823944092}\n"
          ]
        },
        {
          "output_type": "stream",
          "name": "stderr",
          "text": [
            "EP_train:4:  91%|| 1201/1327 [11:10<01:09,  1.81it/s]"
          ]
        },
        {
          "output_type": "stream",
          "name": "stdout",
          "text": [
            "{'epoch': 4, 'iter': 1200, 'avg_loss': 6.5462825014430415, 'avg_acc': 50.078059950041634, 'loss': 6.979792594909668}\n",
            "Saved checkpoint model\n"
          ]
        },
        {
          "output_type": "stream",
          "name": "stderr",
          "text": [
            "EP_train:4:  91%|| 1211/1327 [11:15<01:02,  1.84it/s]"
          ]
        },
        {
          "output_type": "stream",
          "name": "stdout",
          "text": [
            "{'epoch': 4, 'iter': 1210, 'avg_loss': 6.545948015570542, 'avg_acc': 50.0954789430223, 'loss': 6.745538711547852}\n"
          ]
        },
        {
          "output_type": "stream",
          "name": "stderr",
          "text": [
            "EP_train:4:  92%|| 1221/1327 [11:21<00:59,  1.79it/s]"
          ]
        },
        {
          "output_type": "stream",
          "name": "stdout",
          "text": [
            "{'epoch': 4, 'iter': 1220, 'avg_loss': 6.547837326509068, 'avg_acc': 50.102375102375106, 'loss': 6.954010009765625}\n"
          ]
        },
        {
          "output_type": "stream",
          "name": "stderr",
          "text": [
            "EP_train:4:  93%|| 1231/1327 [11:27<00:51,  1.86it/s]"
          ]
        },
        {
          "output_type": "stream",
          "name": "stdout",
          "text": [
            "{'epoch': 4, 'iter': 1230, 'avg_loss': 6.5471109987564144, 'avg_acc': 50.078696181965874, 'loss': 6.575230121612549}\n"
          ]
        },
        {
          "output_type": "stream",
          "name": "stderr",
          "text": [
            "EP_train:4:  94%|| 1241/1327 [11:32<00:51,  1.67it/s]"
          ]
        },
        {
          "output_type": "stream",
          "name": "stdout",
          "text": [
            "{'epoch': 4, 'iter': 1240, 'avg_loss': 6.545536797436661, 'avg_acc': 50.11583400483482, 'loss': 5.9994096755981445}\n"
          ]
        },
        {
          "output_type": "stream",
          "name": "stderr",
          "text": [
            "EP_train:4:  94%|| 1251/1327 [11:38<00:40,  1.86it/s]"
          ]
        },
        {
          "output_type": "stream",
          "name": "stdout",
          "text": [
            "{'epoch': 4, 'iter': 1250, 'avg_loss': 6.54551106619892, 'avg_acc': 50.11740607513989, 'loss': 6.478591442108154}\n"
          ]
        },
        {
          "output_type": "stream",
          "name": "stderr",
          "text": [
            "EP_train:4:  95%|| 1261/1327 [11:43<00:35,  1.88it/s]"
          ]
        },
        {
          "output_type": "stream",
          "name": "stdout",
          "text": [
            "{'epoch': 4, 'iter': 1260, 'avg_loss': 6.546403206878953, 'avg_acc': 50.14373513084853, 'loss': 6.750612258911133}\n"
          ]
        },
        {
          "output_type": "stream",
          "name": "stderr",
          "text": [
            "EP_train:4:  96%|| 1271/1327 [11:49<00:31,  1.80it/s]"
          ]
        },
        {
          "output_type": "stream",
          "name": "stdout",
          "text": [
            "{'epoch': 4, 'iter': 1270, 'avg_loss': 6.546282662827607, 'avg_acc': 50.14752163650669, 'loss': 6.729574680328369}\n"
          ]
        },
        {
          "output_type": "stream",
          "name": "stderr",
          "text": [
            "EP_train:4:  97%|| 1281/1327 [11:54<00:24,  1.86it/s]"
          ]
        },
        {
          "output_type": "stream",
          "name": "stdout",
          "text": [
            "{'epoch': 4, 'iter': 1280, 'avg_loss': 6.545941095255391, 'avg_acc': 50.148809523809526, 'loss': 6.374425888061523}\n"
          ]
        },
        {
          "output_type": "stream",
          "name": "stderr",
          "text": [
            "EP_train:4:  97%|| 1291/1327 [12:00<00:21,  1.66it/s]"
          ]
        },
        {
          "output_type": "stream",
          "name": "stdout",
          "text": [
            "{'epoch': 4, 'iter': 1290, 'avg_loss': 6.544272750038957, 'avg_acc': 50.128292021688615, 'loss': 5.720193862915039}\n"
          ]
        },
        {
          "output_type": "stream",
          "name": "stderr",
          "text": [
            "EP_train:4:  98%|| 1301/1327 [12:05<00:13,  1.86it/s]"
          ]
        },
        {
          "output_type": "stream",
          "name": "stdout",
          "text": [
            "{'epoch': 4, 'iter': 1300, 'avg_loss': 6.544422924106255, 'avg_acc': 50.13931591083781, 'loss': 6.340290546417236}\n"
          ]
        },
        {
          "output_type": "stream",
          "name": "stderr",
          "text": [
            "EP_train:4:  99%|| 1311/1327 [12:11<00:08,  1.80it/s]"
          ]
        },
        {
          "output_type": "stream",
          "name": "stdout",
          "text": [
            "{'epoch': 4, 'iter': 1310, 'avg_loss': 6.544847533504623, 'avg_acc': 50.13110221205187, 'loss': 6.497957229614258}\n"
          ]
        },
        {
          "output_type": "stream",
          "name": "stderr",
          "text": [
            "EP_train:4: 100%|| 1321/1327 [12:17<00:03,  1.78it/s]"
          ]
        },
        {
          "output_type": "stream",
          "name": "stdout",
          "text": [
            "{'epoch': 4, 'iter': 1320, 'avg_loss': 6.544365548618267, 'avg_acc': 50.151400454201365, 'loss': 6.8060526847839355}\n"
          ]
        },
        {
          "output_type": "stream",
          "name": "stderr",
          "text": [
            "EP_train:4: 100%|| 1327/1327 [12:19<00:00,  1.79it/s]\n"
          ]
        },
        {
          "output_type": "stream",
          "name": "stdout",
          "text": [
            "EP4, train: avg_loss=6.543922231353668, total_acc=50.126063290840975\n",
            "Saved model after epoch 4 to /content/drive/MyDrive/email_bert/checkpoints/bert_email_epoch_4.pth\n",
            "Pre-training complete. Final model saved to /content/drive/MyDrive/email_bert/bert_email_final.pth\n"
          ]
        },
        {
          "output_type": "display_data",
          "data": {
            "text/plain": [
              "<IPython.core.display.HTML object>"
            ],
            "text/html": []
          },
          "metadata": {}
        },
        {
          "output_type": "display_data",
          "data": {
            "text/plain": [
              "<IPython.core.display.HTML object>"
            ],
            "text/html": [
              "<br>    <style><br>        .wandb-row {<br>            display: flex;<br>            flex-direction: row;<br>            flex-wrap: wrap;<br>            justify-content: flex-start;<br>            width: 100%;<br>        }<br>        .wandb-col {<br>            display: flex;<br>            flex-direction: column;<br>            flex-basis: 100%;<br>            flex: 1;<br>            padding: 10px;<br>        }<br>    </style><br><div class=\"wandb-row\"><div class=\"wandb-col\"><h3>Run history:</h3><br/><table class=\"wandb\"><tr><td>avg_acc</td><td>▃▄▄▄▄▃▄▄▄▄█▄▄▄▄▅▄▄▄▄▁▄▄▄▄</td></tr><tr><td>avg_loss</td><td>█▆▅▄▄▃▂▂▂▂▃▂▂▂▂▂▂▂▂▂▁▂▂▂▂</td></tr></table><br/></div><div class=\"wandb-col\"><h3>Run summary:</h3><br/><table class=\"wandb\"><tr><td>avg_acc</td><td>50.07806</td></tr><tr><td>avg_loss</td><td>6.54628</td></tr></table><br/></div></div>"
            ]
          },
          "metadata": {}
        },
        {
          "output_type": "display_data",
          "data": {
            "text/plain": [
              "<IPython.core.display.HTML object>"
            ],
            "text/html": [
              " View run <strong style=\"color:#cdcd00\">bert-email-pretraining</strong> at: <a href='https://wandb.ai/aarunmoz-carnegie-mellon-university/bert-email-project/runs/pglrb8wo' target=\"_blank\">https://wandb.ai/aarunmoz-carnegie-mellon-university/bert-email-project/runs/pglrb8wo</a><br> View project at: <a href='https://wandb.ai/aarunmoz-carnegie-mellon-university/bert-email-project' target=\"_blank\">https://wandb.ai/aarunmoz-carnegie-mellon-university/bert-email-project</a><br>Synced 5 W&B file(s), 0 media file(s), 0 artifact file(s) and 0 other file(s)"
            ]
          },
          "metadata": {}
        },
        {
          "output_type": "display_data",
          "data": {
            "text/plain": [
              "<IPython.core.display.HTML object>"
            ],
            "text/html": [
              "Find logs at: <code>./wandb/run-20251023_033225-pglrb8wo/logs</code>"
            ]
          },
          "metadata": {}
        },
        {
          "output_type": "stream",
          "name": "stdout",
          "text": [
            "\n",
            "Model and data files are saved to Google Drive in the following locations:\n",
            "- Dataset: /content/drive/MyDrive/email_bert/datasets/\n",
            "- Tokenizer: /content/drive/MyDrive/email_bert/tokenizer/\n",
            "- Checkpoints: /content/drive/MyDrive/email_bert/checkpoints/\n",
            "- Final model: /content/drive/MyDrive/email_bert/bert_email_final.pth\n",
            "\n",
            "These files will persist even after your Colab session ends.\n"
          ]
        }
      ]
    },
    {
      "cell_type": "code",
      "source": [
        "from google.colab import drive\n",
        "drive.mount('/content/drive')\n",
        "!ls -la /content/drive/MyDrive/email_bert/checkpoints/"
      ],
      "metadata": {
        "colab": {
          "base_uri": "https://localhost:8080/"
        },
        "id": "eZYkqSmaESkC",
        "outputId": "4d7351e3-0746-407f-864e-67403a0e7398"
      },
      "execution_count": 7,
      "outputs": [
        {
          "output_type": "stream",
          "name": "stdout",
          "text": [
            "Drive already mounted at /content/drive; to attempt to forcibly remount, call drive.mount(\"/content/drive\", force_remount=True).\n",
            "total 0\n"
          ]
        }
      ]
    }
  ]
}
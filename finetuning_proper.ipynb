{
  "nbformat": 4,
  "nbformat_minor": 0,
  "metadata": {
    "colab": {
      "provenance": [],
      "gpuType": "T4"
    },
    "kernelspec": {
      "name": "python3",
      "display_name": "Python 3"
    },
    "language_info": {
      "name": "python"
    },
    "accelerator": "GPU"
  },
  "cells": [
    {
      "cell_type": "code",
      "execution_count": 24,
      "metadata": {
        "id": "Pum6oE_4UdXX"
      },
      "outputs": [],
      "source": [
        "import os\n",
        "import requests\n",
        "import tarfile\n",
        "import email\n",
        "import pandas as pd\n",
        "import numpy as np\n",
        "import torch\n",
        "from torch import nn\n",
        "import torch.nn.functional as F\n",
        "from torch.utils.data import Dataset, DataLoader\n",
        "from sklearn.model_selection import train_test_split\n",
        "from sklearn.metrics import classification_report, confusion_matrix\n",
        "import matplotlib.pyplot as plt\n",
        "import seaborn as sns\n",
        "from tqdm import tqdm\n",
        "from bs4 import BeautifulSoup\n",
        "from transformers import BertTokenizer\n",
        "\n",
        "# PART 1: Download and process the SpamAssassin corpus\n",
        "def download_spamassassin():\n",
        "    \"\"\"Download and extract SpamAssassin corpus\"\"\"\n",
        "    os.makedirs('/content/gdrive/MyDrive/email_bert/datasets/spamassassin', exist_ok=True)\n",
        "\n",
        "    # SpamAssassin URLs\n",
        "    urls = [\n",
        "        'https://spamassassin.apache.org/old/publiccorpus/20021010_easy_ham.tar.bz2',\n",
        "        'https://spamassassin.apache.org/old/publiccorpus/20021010_hard_ham.tar.bz2',\n",
        "        'https://spamassassin.apache.org/old/publiccorpus/20021010_spam.tar.bz2'\n",
        "    ]\n",
        "\n",
        "    for url in urls:\n",
        "        filename = url.split('/')[-1]\n",
        "        filepath = f'/content/gdrive/MyDrive/email_bert/datasets/spamassassin/{filename}'\n",
        "\n",
        "        if not os.path.exists(filepath):\n",
        "            print(f\"Downloading {filename}...\")\n",
        "            response = requests.get(url, stream=True)\n",
        "            with open(filepath, 'wb') as f:\n",
        "                for data in tqdm(response.iter_content(chunk_size=1024)):\n",
        "                    f.write(data)\n",
        "\n",
        "        print(f\"Extracting {filename}...\")\n",
        "        extract_dir = '/content/gdrive/MyDrive/email_bert/datasets/spamassassin'\n",
        "        with tarfile.open(filepath, 'r:bz2') as tar:\n",
        "            tar.extractall(extract_dir)\n",
        "\n",
        "        # Remove tar file\n",
        "        os.remove(filepath)\n",
        "\n",
        "\n",
        "def process_spamassassin():\n",
        "    \"\"\"Process extracted emails into a DataFrame\"\"\"\n",
        "    print(\"Processing emails...\")\n",
        "    texts = []\n",
        "    labels = []\n",
        "\n",
        "    # Process ham emails\n",
        "    for ham_dir in ['easy_ham', 'hard_ham']:\n",
        "        dir_path = f'/content/gdrive/MyDrive/email_bert/datasets/spamassassin/{ham_dir}'\n",
        "        if os.path.exists(dir_path):\n",
        "            for filename in tqdm(os.listdir(dir_path)):\n",
        "                if filename == 'cmds':\n",
        "                    continue\n",
        "                filepath = os.path.join(dir_path, filename)\n",
        "                try:\n",
        "                    with open(filepath, 'r', encoding='latin-1') as f:\n",
        "                        content = f.read()\n",
        "\n",
        "                    msg = email.message_from_string(content)\n",
        "\n",
        "                    # Extract body\n",
        "                    body = \"\"\n",
        "                    if msg.is_multipart():\n",
        "                        for part in msg.walk():\n",
        "                            content_type = part.get_content_type()\n",
        "                            if content_type == 'text/plain' or content_type == 'text/html':\n",
        "                                payload = part.get_payload(decode=True)\n",
        "                                if payload:\n",
        "                                    body += payload.decode('latin-1', errors='ignore')\n",
        "                    else:\n",
        "                        payload = msg.get_payload(decode=True)\n",
        "                        if payload:\n",
        "                            body = payload.decode('latin-1', errors='ignore')\n",
        "\n",
        "                    texts.append(body)\n",
        "                    labels.append(0)  # 0 for ham\n",
        "                except Exception as e:\n",
        "                    print(f\"Error with {filepath}: {e}\")\n",
        "\n",
        "    # Process spam emails\n",
        "    spam_dir = '/content/gdrive/MyDrive/email_bert/datasets/spamassassin/spam'\n",
        "    if os.path.exists(spam_dir):\n",
        "        for filename in tqdm(os.listdir(spam_dir)):\n",
        "            if filename == 'cmds':\n",
        "                continue\n",
        "            filepath = os.path.join(spam_dir, filename)\n",
        "            try:\n",
        "                with open(filepath, 'r', encoding='latin-1') as f:\n",
        "                    content = f.read()\n",
        "\n",
        "                msg = email.message_from_string(content)\n",
        "\n",
        "                # Extract body\n",
        "                body = \"\"\n",
        "                if msg.is_multipart():\n",
        "                    for part in msg.walk():\n",
        "                        content_type = part.get_content_type()\n",
        "                        if content_type == 'text/plain' or content_type == 'text/html':\n",
        "                            payload = part.get_payload(decode=True)\n",
        "                            if payload:\n",
        "                                body += payload.decode('latin-1', errors='ignore')\n",
        "                else:\n",
        "                    payload = msg.get_payload(decode=True)\n",
        "                    if payload:\n",
        "                        body = payload.decode('latin-1', errors='ignore')\n",
        "\n",
        "                texts.append(body)\n",
        "                labels.append(1)  # 1 for spam\n",
        "            except Exception as e:\n",
        "                print(f\"Error with {filepath}: {e}\")\n",
        "\n",
        "    # Create DataFrame and save to CSV\n",
        "    df = pd.DataFrame({'text': texts, 'label': labels})\n",
        "    df.to_csv('/content/gdrive/MyDrive/email_bert/datasets/spamassassin/spamassassin.csv', index=False)\n",
        "    print(f\"Dataset created with {len(df)} emails\")\n",
        "    print(f\"Ham emails: {sum(df['label'] == 0)}\")\n",
        "    print(f\"Spam emails: {sum(df['label'] == 1)}\")\n",
        "\n",
        "    return df\n"
      ]
    },
    {
      "cell_type": "code",
      "source": [
        "\n",
        "from google.colab import drive\n",
        "\n",
        "drive.mount('/content/gdrive', force_remount=True)\n",
        "class MultiHeadAttention(nn.Module):\n",
        "    def __init__(self, hidden_size, num_heads):\n",
        "        super().__init__()\n",
        "        self.hidden_size = hidden_size\n",
        "        self.num_heads = num_heads\n",
        "        self.head_size = hidden_size // num_heads\n",
        "\n",
        "        self.query = nn.Linear(hidden_size, hidden_size)\n",
        "        self.key = nn.Linear(hidden_size, hidden_size)\n",
        "        self.value = nn.Linear(hidden_size, hidden_size)\n",
        "        self.output_linear = nn.Linear(hidden_size, hidden_size)\n",
        "\n",
        "    def forward(self, x, mask=None):\n",
        "        batch_size = x.size(0)\n",
        "\n",
        "        # Linear projections\n",
        "        q = self.query(x).view(batch_size, -1, self.num_heads, self.head_size).transpose(1, 2)\n",
        "        k = self.key(x).view(batch_size, -1, self.num_heads, self.head_size).transpose(1, 2)\n",
        "        v = self.value(x).view(batch_size, -1, self.num_heads, self.head_size).transpose(1, 2)\n",
        "\n",
        "        # Attention\n",
        "        scores = torch.matmul(q, k.transpose(-2, -1)) / (self.head_size ** 0.5)\n",
        "        if mask is not None:\n",
        "            scores = scores.masked_fill(mask == 0, -1e9)\n",
        "        attn = F.softmax(scores, dim=-1)\n",
        "        context = torch.matmul(attn, v)\n",
        "\n",
        "        # Reshape\n",
        "        context = context.transpose(1, 2).contiguous().view(batch_size, -1, self.hidden_size)\n",
        "        output = self.output_linear(context)\n",
        "\n",
        "        return output\n",
        "\n",
        "# Define FeedForward network\n",
        "class FeedForward(nn.Module):\n",
        "    def __init__(self, hidden_size, ff_size):\n",
        "        super().__init__()\n",
        "        self.fc1 = nn.Linear(hidden_size, ff_size)\n",
        "        self.fc2 = nn.Linear(ff_size, hidden_size)\n",
        "\n",
        "    def forward(self, x):\n",
        "        return self.fc2(F.gelu(self.fc1(x)))\n",
        "\n",
        "# Define EncoderBlock\n",
        "class EncoderBlock(nn.Module):\n",
        "    def __init__(self, hidden_size, num_heads, ff_size, dropout=0.1):\n",
        "        super().__init__()\n",
        "        self.layernorm = nn.LayerNorm(hidden_size)\n",
        "        self.self_multihead = MultiHeadAttention(hidden_size, num_heads)\n",
        "        self.feed_forward = FeedForward(hidden_size, ff_size)\n",
        "        self.dropout = nn.Dropout(dropout)\n",
        "\n",
        "    def forward(self, x, mask=None):\n",
        "        # Self-attention\n",
        "        attention_output = self.self_multihead(self.layernorm(x), mask)\n",
        "        x = x + self.dropout(attention_output)\n",
        "\n",
        "        # Feed-forward\n",
        "        ff_output = self.feed_forward(self.layernorm(x))\n",
        "        x = x + self.dropout(ff_output)\n",
        "\n",
        "        return x\n",
        "\n",
        "# Define BERTEmbedding\n",
        "class BERTEmbedding(nn.Module):\n",
        "    def __init__(self, vocab_size, hidden_size, max_seq_len=64, dropout=0.1):\n",
        "        super().__init__()\n",
        "        self.token = nn.Embedding(vocab_size, hidden_size)\n",
        "        self.segment = nn.Embedding(3, hidden_size)\n",
        "        self.position = nn.Module()\n",
        "        self.position.pe = nn.Parameter(torch.zeros(1, max_seq_len, hidden_size))\n",
        "        self.dropout = nn.Dropout(dropout)\n",
        "\n",
        "    def forward(self, x, segment=None):\n",
        "        seq_len = x.size(1)\n",
        "\n",
        "        # Token embedding\n",
        "        token_embedding = self.token(x)\n",
        "\n",
        "        # Position embedding\n",
        "        position_embedding = self.position.pe[:, :seq_len, :]\n",
        "\n",
        "        # Segment embedding\n",
        "        if segment is not None:\n",
        "            segment_embedding = self.segment(segment)\n",
        "            embedding = token_embedding + position_embedding + segment_embedding\n",
        "        else:\n",
        "            embedding = token_embedding + position_embedding\n",
        "\n",
        "        return self.dropout(embedding)\n",
        "\n",
        "# Define BERT model\n",
        "class BERT(nn.Module):\n",
        "    def __init__(self, vocab_size, hidden_size=768, num_layers=12, num_heads=12, ff_size=3072, dropout=0.1):\n",
        "        super().__init__()\n",
        "        self.hidden_size = hidden_size\n",
        "\n",
        "        # Embedding\n",
        "        self.embedding = BERTEmbedding(vocab_size, hidden_size, dropout=dropout)\n",
        "\n",
        "        # Transformer blocks\n",
        "        self.encoder_blocks = nn.ModuleList([\n",
        "            EncoderBlock(hidden_size, num_heads, ff_size, dropout)\n",
        "            for _ in range(num_layers)\n",
        "        ])\n",
        "\n",
        "    def forward(self, x, segment=None, mask=None):\n",
        "        # Create attention mask if not provided\n",
        "        if mask is None:\n",
        "            mask = (x > 0).unsqueeze(1).repeat(1, x.size(1), 1).unsqueeze(1)\n",
        "\n",
        "        # Embedding\n",
        "        x = self.embedding(x, segment)\n",
        "\n",
        "        # Transformer blocks\n",
        "        for encoder in self.encoder_blocks:\n",
        "            x = encoder(x, mask)\n",
        "\n",
        "        return x\n",
        "\n",
        "# Define NextSentencePrediction\n",
        "class NextSentencePrediction(nn.Module):\n",
        "    def __init__(self, hidden_size):\n",
        "        super().__init__()\n",
        "        self.linear = nn.Linear(hidden_size, 2)\n",
        "\n",
        "    def forward(self, x):\n",
        "        return F.log_softmax(self.linear(x[:, 0]), dim=-1)\n",
        "\n",
        "# Define MaskedLanguageModel\n",
        "class MaskedLanguageModel(nn.Module):\n",
        "    def __init__(self, hidden_size, vocab_size):\n",
        "        super().__init__()\n",
        "        self.linear = nn.Linear(hidden_size, vocab_size)\n",
        "\n",
        "    def forward(self, x):\n",
        "        return F.log_softmax(self.linear(x), dim=-1)\n",
        "\n",
        "# Define BERTLM\n",
        "class BERTLM(nn.Module):\n",
        "    def __init__(self, bert_model, vocab_size):\n",
        "        super().__init__()\n",
        "        self.bert = bert_model\n",
        "        self.next_sentence = NextSentencePrediction(bert_model.hidden_size)\n",
        "        self.mask_lm = MaskedLanguageModel(bert_model.hidden_size, vocab_size)\n",
        "\n",
        "    def forward(self, x, segment=None):\n",
        "        bert_output = self.bert(x, segment)\n",
        "        return self.next_sentence(bert_output), self.mask_lm(bert_output)\n",
        "\n",
        "# Define EmailDataset for training\n",
        "class EmailDataset(Dataset):\n",
        "    def __init__(self, texts, labels, tokenizer, max_len):\n",
        "        self.texts = texts\n",
        "        self.labels = labels\n",
        "        self.tokenizer = tokenizer\n",
        "        self.max_len = max_len\n",
        "\n",
        "    def __len__(self):\n",
        "        return len(self.texts)\n",
        "\n",
        "    def __getitem__(self, idx):\n",
        "        text = str(self.texts[idx])\n",
        "        label = self.labels[idx]\n",
        "\n",
        "        encoding = self.tokenizer(\n",
        "            text,\n",
        "            add_special_tokens=True,\n",
        "            max_length=self.max_len,\n",
        "            padding='max_length',\n",
        "            truncation=True,\n",
        "            return_tensors='pt'\n",
        "        )\n",
        "\n",
        "        return {\n",
        "            'input_ids': encoding['input_ids'].flatten(),\n",
        "            'attention_mask': encoding['attention_mask'].flatten(),\n",
        "            'token_type_ids': encoding.get('token_type_ids', torch.zeros_like(encoding['attention_mask'])).flatten(),\n",
        "            'labels': torch.tensor(label, dtype=torch.float)\n",
        "        }\n",
        "\n",
        "# Define BERTSpamClassifier\n",
        "class BERTSpamClassifier(nn.Module):\n",
        "    def __init__(self, bert_model):\n",
        "        super(BERTSpamClassifier, self).__init__()\n",
        "        self.bert = bert_model\n",
        "        self.dropout = nn.Dropout(0.1)\n",
        "        self.classifier = nn.Linear(768, 1)  # Binary classification\n",
        "\n",
        "    def forward(self, input_ids, attention_mask=None, token_type_ids=None):\n",
        "        # Forward pass through BERT\n",
        "        outputs = self.bert(input_ids, segment=token_type_ids)\n",
        "\n",
        "        # Use the [CLS] token for classification\n",
        "        pooled_output = outputs[:, 0]\n",
        "\n",
        "        # Dropout and classify\n",
        "        pooled_output = self.dropout(pooled_output)\n",
        "        return self.classifier(pooled_output)\n",
        "\n",
        "# PART 3: Main execution code\n",
        "def main():\n",
        "    # Set device\n",
        "    import torch\n",
        "    from torch import nn\n",
        "    import torch.nn.functional as F\n",
        "\n",
        "    # Set device\n",
        "    device = torch.device('cuda' if torch.cuda.is_available() else 'cpu')\n",
        "    print(f'Using device: {device}')\n",
        "\n",
        "\n",
        "    # 1. Download and process SpamAssassin\n",
        "    if not os.path.exists('/content/gdrive/MyDrive/email_bert/datasets/spamassassin/spamassassin.csv'):\n",
        "        download_spamassassin()\n",
        "        df = process_spamassassin()\n",
        "    else:\n",
        "        df = pd.read_csv('/content/gdrive/MyDrive/email_bert/datasets/spamassassin/spamassassin.csv')\n",
        "\n",
        "    # 2. Preprocess data\n",
        "    def clean_text(text):\n",
        "        import re\n",
        "        # Clean HTML\n",
        "        text = re.sub(r'<.*?>', '', str(text))\n",
        "        # Remove URLs\n",
        "        text = re.sub(r'http\\S+', '', text)\n",
        "        # Remove email addresses\n",
        "        text = re.sub(r'\\S+@\\S+', '', text)\n",
        "        # Clean extra whitespace\n",
        "        text = re.sub(r'\\s+', ' ', text).strip()\n",
        "        return text\n",
        "\n",
        "    df['text'] = df['text'].apply(clean_text)\n",
        "\n",
        "    # 3. Split data: 90% train, 10% test\n",
        "    X_train, X_test, y_train, y_test = train_test_split(\n",
        "        df['text'], df['label'], test_size=0.1, random_state=42\n",
        "    )\n",
        "\n",
        "    # 4. Load model and tokenizer\n",
        "    import torch.serialization\n",
        "    torch.serialization.add_safe_globals(['numpy._core.multiarray.scalar'])\n",
        "\n",
        "    # Paths to your model and tokenizer\n",
        "    MODEL_PATH = '/content/gdrive/MyDrive/email_bert/checkpoints/bert_email_epoch_4.pth'\n",
        "\n",
        "    TOKENIZER_PATH = '/content/gdrive/MyDrive/email_bert/tokenizer/bert-email-vocab.txt'\n",
        "    tokenizer = BertTokenizer(\n",
        "        vocab_file=TOKENIZER_PATH,\n",
        "        do_lower_case=True\n",
        "    )\n",
        "\n",
        "    # Create BERT model\n",
        "    bert_model = BERT(vocab_size=len(tokenizer.vocab))\n",
        "    bert_lm = BERTLM(bert_model, len(tokenizer.vocab))\n",
        "\n",
        "    # Load checkpoint\n",
        "    checkpoint = torch.load(MODEL_PATH, map_location='cpu', weights_only=False)\n",
        "\n",
        "    # Load state dict\n",
        "    try:\n",
        "        bert_lm.load_state_dict(checkpoint['model_state_dict'])\n",
        "        print(\"Successfully loaded model weights from checkpoint!\")\n",
        "    except Exception as e:\n",
        "        print(f\"Error loading model weights: {e}\")\n",
        "\n",
        "    # Create classifier\n",
        "    spam_classifier = BERTSpamClassifier(bert_lm.bert)\n",
        "\n",
        "    # 5. Create datasets and dataloaders\n",
        "    MAX_LEN = 64  # Max sequence length\n",
        "\n",
        "    train_dataset = EmailDataset(X_train.values, y_train.values, tokenizer, MAX_LEN)\n",
        "    test_dataset = EmailDataset(X_test.values, y_test.values, tokenizer, MAX_LEN)\n",
        "\n",
        "    train_dataloader = DataLoader(train_dataset, batch_size=8, shuffle=True)\n",
        "    test_dataloader = DataLoader(test_dataset, batch_size=8)\n",
        "\n",
        "    # 6. Training\n",
        "    criterion = nn.BCEWithLogitsLoss()\n",
        "    optimizer = torch.optim.AdamW(spam_classifier.parameters(), lr=2e-5)\n",
        "\n",
        "    spam_classifier.to(device)\n",
        "\n",
        "    # Training loop\n",
        "    epochs = 3\n",
        "    for epoch in range(epochs):\n",
        "        # Training\n",
        "        spam_classifier.train()\n",
        "        train_loss = 0\n",
        "\n",
        "        for step, batch in enumerate(tqdm(train_dataloader, desc=f\"Epoch {epoch+1}/{epochs}\")):\n",
        "            input_ids = batch['input_ids'].to(device)\n",
        "            attention_mask = batch['attention_mask'].to(device)\n",
        "            token_type_ids = batch['token_type_ids'].to(device)\n",
        "            labels = batch['labels'].to(device)\n",
        "\n",
        "            # Forward pass\n",
        "            optimizer.zero_grad()\n",
        "            outputs = spam_classifier(input_ids, attention_mask, token_type_ids)\n",
        "            loss = criterion(outputs.squeeze(), labels)\n",
        "\n",
        "            # Backward pass\n",
        "            loss.backward()\n",
        "            optimizer.step()\n",
        "\n",
        "            train_loss += loss.item()\n",
        "\n",
        "            if step % 50 == 0 and step > 0:\n",
        "                print(f\"Batch {step}, Loss: {loss.item():.4f}\")\n",
        "\n",
        "        avg_train_loss = train_loss / len(train_dataloader)\n",
        "        print(f\"Epoch {epoch+1}/{epochs}, Average training loss: {avg_train_loss:.4f}\")\n",
        "\n",
        "        # Evaluation after each epoch\n",
        "        spam_classifier.eval()\n",
        "        y_preds = []\n",
        "        y_true = []\n",
        "\n",
        "        with torch.no_grad():\n",
        "            for batch in tqdm(test_dataloader, desc=\"Evaluating\"):\n",
        "                input_ids = batch['input_ids'].to(device)\n",
        "                attention_mask = batch['attention_mask'].to(device)\n",
        "                token_type_ids = batch['token_type_ids'].to(device)\n",
        "                labels = batch['labels'].to(device)\n",
        "\n",
        "                outputs = spam_classifier(input_ids, attention_mask, token_type_ids)\n",
        "                preds = torch.sigmoid(outputs.squeeze()) > 0.5\n",
        "\n",
        "                y_preds.extend(preds.cpu().numpy())\n",
        "                y_true.extend(labels.cpu().numpy())\n",
        "\n",
        "        # Calculate metrics\n",
        "        accuracy = np.mean(np.array(y_preds) == np.array(y_true))\n",
        "        print(f\"Accuracy: {accuracy:.4f}\")\n",
        "\n",
        "        # Detailed metrics\n",
        "        report = classification_report(y_true, y_preds)\n",
        "        print(report)\n",
        "\n",
        "    # 7. Final evaluation\n",
        "    spam_classifier.eval()\n",
        "    y_preds = []\n",
        "    y_true = []\n",
        "\n",
        "    with torch.no_grad():\n",
        "        for batch in tqdm(test_dataloader, desc=\"Final evaluation\"):\n",
        "            input_ids = batch['input_ids'].to(device)\n",
        "            attention_mask = batch['attention_mask'].to(device)\n",
        "            token_type_ids = batch['token_type_ids'].to(device)\n",
        "            labels = batch['labels'].to(device)\n",
        "\n",
        "            outputs = spam_classifier(input_ids, attention_mask, token_type_ids)\n",
        "            preds = torch.sigmoid(outputs.squeeze()) > 0.5\n",
        "\n",
        "            y_preds.extend(preds.cpu().numpy())\n",
        "            y_true.extend(labels.cpu().numpy())\n",
        "\n",
        "    # Confusion matrix\n",
        "    cm = confusion_matrix(y_true, y_preds)\n",
        "    print(\"Confusion matrix:\")\n",
        "    print(cm)\n",
        "\n",
        "    # Plot confusion matrix\n",
        "    plt.figure(figsize=(8, 6))\n",
        "    sns.heatmap(cm, annot=True, fmt='d', cmap='Blues')\n",
        "    plt.xlabel('Predicted')\n",
        "    plt.ylabel('True')\n",
        "    plt.title('Confusion Matrix')\n",
        "    plt.savefig('/content/gdrive/MyDrive/email_bert/confusion_matrix.png')\n",
        "\n",
        "    # Classification report\n",
        "    report = classification_report(y_true, y_preds)\n",
        "    print(\"Classification report:\")\n",
        "    print(report)\n",
        "\n",
        "    # Save model\n",
        "    torch.save(spam_classifier.state_dict(), '/content/gdrive/MyDrive/email_bert/spam_classifier.pth')\n",
        "    print(\"Model saved to /content/drive/MyDrive/email_bert/spam_classifier.pth\")\n",
        "\n",
        "if __name__ == \"__main__\":\n",
        "    main()"
      ],
      "metadata": {
        "colab": {
          "base_uri": "https://localhost:8080/",
          "height": 1000
        },
        "id": "og3Gy13QUeTi",
        "outputId": "09814f85-8a34-4fb7-9726-bbf83a6bc457"
      },
      "execution_count": 26,
      "outputs": [
        {
          "output_type": "stream",
          "name": "stdout",
          "text": [
            "Mounted at /content/gdrive\n",
            "Using device: cuda\n",
            "Successfully loaded model weights from checkpoint!\n"
          ]
        },
        {
          "output_type": "stream",
          "name": "stderr",
          "text": [
            "Epoch 1/3:  14%|█▍        | 52/372 [00:08<00:48,  6.58it/s]"
          ]
        },
        {
          "output_type": "stream",
          "name": "stdout",
          "text": [
            "Batch 50, Loss: 0.1196\n"
          ]
        },
        {
          "output_type": "stream",
          "name": "stderr",
          "text": [
            "Epoch 1/3:  27%|██▋       | 102/372 [00:16<00:54,  4.97it/s]"
          ]
        },
        {
          "output_type": "stream",
          "name": "stdout",
          "text": [
            "Batch 100, Loss: 0.6269\n"
          ]
        },
        {
          "output_type": "stream",
          "name": "stderr",
          "text": [
            "Epoch 1/3:  41%|████      | 152/372 [00:24<00:31,  6.95it/s]"
          ]
        },
        {
          "output_type": "stream",
          "name": "stdout",
          "text": [
            "Batch 150, Loss: 0.5883\n"
          ]
        },
        {
          "output_type": "stream",
          "name": "stderr",
          "text": [
            "Epoch 1/3:  54%|█████▍    | 202/372 [00:32<00:24,  6.81it/s]"
          ]
        },
        {
          "output_type": "stream",
          "name": "stdout",
          "text": [
            "Batch 200, Loss: 0.3828\n"
          ]
        },
        {
          "output_type": "stream",
          "name": "stderr",
          "text": [
            "Epoch 1/3:  68%|██████▊   | 252/372 [00:39<00:17,  6.99it/s]"
          ]
        },
        {
          "output_type": "stream",
          "name": "stdout",
          "text": [
            "Batch 250, Loss: 0.1733\n"
          ]
        },
        {
          "output_type": "stream",
          "name": "stderr",
          "text": [
            "Epoch 1/3:  81%|████████  | 302/372 [00:49<00:16,  4.37it/s]"
          ]
        },
        {
          "output_type": "stream",
          "name": "stdout",
          "text": [
            "Batch 300, Loss: 0.2941\n"
          ]
        },
        {
          "output_type": "stream",
          "name": "stderr",
          "text": [
            "Epoch 1/3:  94%|█████████▍| 351/372 [00:56<00:03,  5.39it/s]"
          ]
        },
        {
          "output_type": "stream",
          "name": "stdout",
          "text": [
            "Batch 350, Loss: 0.4090\n"
          ]
        },
        {
          "output_type": "stream",
          "name": "stderr",
          "text": [
            "Epoch 1/3: 100%|██████████| 372/372 [00:59<00:00,  6.22it/s]\n"
          ]
        },
        {
          "output_type": "stream",
          "name": "stdout",
          "text": [
            "Epoch 1/3, Average training loss: 0.4038\n"
          ]
        },
        {
          "output_type": "stream",
          "name": "stderr",
          "text": [
            "Evaluating: 100%|██████████| 42/42 [00:02<00:00, 14.60it/s]\n"
          ]
        },
        {
          "output_type": "stream",
          "name": "stdout",
          "text": [
            "Accuracy: 0.8308\n",
            "              precision    recall  f1-score   support\n",
            "\n",
            "         0.0       0.85      0.97      0.91       282\n",
            "         1.0       0.11      0.02      0.03        49\n",
            "\n",
            "    accuracy                           0.83       331\n",
            "   macro avg       0.48      0.50      0.47       331\n",
            "weighted avg       0.74      0.83      0.78       331\n",
            "\n"
          ]
        },
        {
          "output_type": "stream",
          "name": "stderr",
          "text": [
            "Epoch 2/3:  14%|█▍        | 52/372 [00:08<00:57,  5.61it/s]"
          ]
        },
        {
          "output_type": "stream",
          "name": "stdout",
          "text": [
            "Batch 50, Loss: 0.2072\n"
          ]
        },
        {
          "output_type": "stream",
          "name": "stderr",
          "text": [
            "Epoch 2/3:  27%|██▋       | 101/372 [00:16<00:39,  6.93it/s]"
          ]
        },
        {
          "output_type": "stream",
          "name": "stdout",
          "text": [
            "Batch 100, Loss: 0.1457\n"
          ]
        },
        {
          "output_type": "stream",
          "name": "stderr",
          "text": [
            "Epoch 2/3:  41%|████      | 152/372 [00:24<00:30,  7.17it/s]"
          ]
        },
        {
          "output_type": "stream",
          "name": "stdout",
          "text": [
            "Batch 150, Loss: 0.3548\n"
          ]
        },
        {
          "output_type": "stream",
          "name": "stderr",
          "text": [
            "Epoch 2/3:  54%|█████▍    | 202/372 [00:32<00:24,  7.02it/s]"
          ]
        },
        {
          "output_type": "stream",
          "name": "stdout",
          "text": [
            "Batch 200, Loss: 0.4403\n"
          ]
        },
        {
          "output_type": "stream",
          "name": "stderr",
          "text": [
            "Epoch 2/3:  68%|██████▊   | 252/372 [00:40<00:18,  6.46it/s]"
          ]
        },
        {
          "output_type": "stream",
          "name": "stdout",
          "text": [
            "Batch 250, Loss: 0.7061\n"
          ]
        },
        {
          "output_type": "stream",
          "name": "stderr",
          "text": [
            "Epoch 2/3:  81%|████████  | 302/372 [00:48<00:12,  5.78it/s]"
          ]
        },
        {
          "output_type": "stream",
          "name": "stdout",
          "text": [
            "Batch 300, Loss: 0.4213\n"
          ]
        },
        {
          "output_type": "stream",
          "name": "stderr",
          "text": [
            "Epoch 2/3:  95%|█████████▍| 352/372 [00:55<00:02,  6.93it/s]"
          ]
        },
        {
          "output_type": "stream",
          "name": "stdout",
          "text": [
            "Batch 350, Loss: 0.3039\n"
          ]
        },
        {
          "output_type": "stream",
          "name": "stderr",
          "text": [
            "Epoch 2/3: 100%|██████████| 372/372 [00:59<00:00,  6.20it/s]\n"
          ]
        },
        {
          "output_type": "stream",
          "name": "stdout",
          "text": [
            "Epoch 2/3, Average training loss: 0.2946\n"
          ]
        },
        {
          "output_type": "stream",
          "name": "stderr",
          "text": [
            "Evaluating: 100%|██████████| 42/42 [00:04<00:00,  9.58it/s]\n"
          ]
        },
        {
          "output_type": "stream",
          "name": "stdout",
          "text": [
            "Accuracy: 0.8610\n",
            "              precision    recall  f1-score   support\n",
            "\n",
            "         0.0       0.87      0.99      0.92       282\n",
            "         1.0       0.67      0.12      0.21        49\n",
            "\n",
            "    accuracy                           0.86       331\n",
            "   macro avg       0.77      0.56      0.57       331\n",
            "weighted avg       0.84      0.86      0.82       331\n",
            "\n"
          ]
        },
        {
          "output_type": "stream",
          "name": "stderr",
          "text": [
            "Epoch 3/3:  14%|█▍        | 52/372 [00:07<00:46,  6.92it/s]"
          ]
        },
        {
          "output_type": "stream",
          "name": "stdout",
          "text": [
            "Batch 50, Loss: 0.1803\n"
          ]
        },
        {
          "output_type": "stream",
          "name": "stderr",
          "text": [
            "Epoch 3/3:  27%|██▋       | 101/372 [00:16<00:51,  5.25it/s]"
          ]
        },
        {
          "output_type": "stream",
          "name": "stdout",
          "text": [
            "Batch 100, Loss: 0.1897\n"
          ]
        },
        {
          "output_type": "stream",
          "name": "stderr",
          "text": [
            "Epoch 3/3:  41%|████      | 152/372 [00:25<00:33,  6.52it/s]"
          ]
        },
        {
          "output_type": "stream",
          "name": "stdout",
          "text": [
            "Batch 150, Loss: 0.1712\n"
          ]
        },
        {
          "output_type": "stream",
          "name": "stderr",
          "text": [
            "Epoch 3/3:  54%|█████▍    | 202/372 [00:33<00:22,  7.55it/s]"
          ]
        },
        {
          "output_type": "stream",
          "name": "stdout",
          "text": [
            "Batch 200, Loss: 0.4021\n"
          ]
        },
        {
          "output_type": "stream",
          "name": "stderr",
          "text": [
            "Epoch 3/3:  68%|██████▊   | 252/372 [00:41<00:17,  6.90it/s]"
          ]
        },
        {
          "output_type": "stream",
          "name": "stdout",
          "text": [
            "Batch 250, Loss: 0.5691\n"
          ]
        },
        {
          "output_type": "stream",
          "name": "stderr",
          "text": [
            "Epoch 3/3:  81%|████████  | 302/372 [00:49<00:10,  6.66it/s]"
          ]
        },
        {
          "output_type": "stream",
          "name": "stdout",
          "text": [
            "Batch 300, Loss: 0.2168\n"
          ]
        },
        {
          "output_type": "stream",
          "name": "stderr",
          "text": [
            "Epoch 3/3:  95%|█████████▍| 352/372 [00:57<00:02,  7.41it/s]"
          ]
        },
        {
          "output_type": "stream",
          "name": "stdout",
          "text": [
            "Batch 350, Loss: 0.2657\n"
          ]
        },
        {
          "output_type": "stream",
          "name": "stderr",
          "text": [
            "Epoch 3/3: 100%|██████████| 372/372 [01:00<00:00,  6.13it/s]\n"
          ]
        },
        {
          "output_type": "stream",
          "name": "stdout",
          "text": [
            "Epoch 3/3, Average training loss: 0.2374\n"
          ]
        },
        {
          "output_type": "stream",
          "name": "stderr",
          "text": [
            "Evaluating: 100%|██████████| 42/42 [00:02<00:00, 14.12it/s]\n"
          ]
        },
        {
          "output_type": "stream",
          "name": "stdout",
          "text": [
            "Accuracy: 0.8973\n",
            "              precision    recall  f1-score   support\n",
            "\n",
            "         0.0       0.91      0.98      0.94       282\n",
            "         1.0       0.80      0.41      0.54        49\n",
            "\n",
            "    accuracy                           0.90       331\n",
            "   macro avg       0.85      0.70      0.74       331\n",
            "weighted avg       0.89      0.90      0.88       331\n",
            "\n"
          ]
        },
        {
          "output_type": "stream",
          "name": "stderr",
          "text": [
            "Final evaluation: 100%|██████████| 42/42 [00:04<00:00,  9.83it/s]\n"
          ]
        },
        {
          "output_type": "stream",
          "name": "stdout",
          "text": [
            "Confusion matrix:\n",
            "[[277   5]\n",
            " [ 29  20]]\n",
            "Classification report:\n",
            "              precision    recall  f1-score   support\n",
            "\n",
            "         0.0       0.91      0.98      0.94       282\n",
            "         1.0       0.80      0.41      0.54        49\n",
            "\n",
            "    accuracy                           0.90       331\n",
            "   macro avg       0.85      0.70      0.74       331\n",
            "weighted avg       0.89      0.90      0.88       331\n",
            "\n",
            "Model saved to /content/drive/MyDrive/email_bert/spam_classifier.pth\n"
          ]
        },
        {
          "output_type": "display_data",
          "data": {
            "text/plain": [
              "<Figure size 800x600 with 2 Axes>"
            ],
            "image/png": "[encoded data removed]"
          },
          "metadata": {}
        }
      ]
    }
  ]
}